{
 "cells": [
  {
   "cell_type": "code",
   "execution_count": 1,
   "metadata": {
    "collapsed": false
   },
   "outputs": [
    {
     "name": "stdout",
     "output_type": "stream",
     "text": [
      "importing Jupyter notebook from notebooks/data_loader.ipynb\n",
      "importing Jupyter notebook from notebooks/train_val.ipynb\n",
      "importing Jupyter notebook from notebooks/helper_fxns.ipynb\n",
      "importing Jupyter notebook from notebooks/print_n_plot.ipynb\n",
      "importing Jupyter notebook from notebooks/build_network.ipynb\n"
     ]
    }
   ],
   "source": [
    "import sys\n",
    "import matplotlib\n",
    "%matplotlib inline\n",
    "import argparse\n",
    "from nbfinder import NotebookFinder\n",
    "sys.meta_path.append(NotebookFinder())\n",
    "from notebooks.data_loader import load_data\n",
    "from notebooks.train_val import train\n",
    "from notebooks.helper_fxns import create_run_dir, dump_hyperparams, get_input_dims\n",
    "from notebooks.build_network import build_network"
   ]
  },
  {
   "cell_type": "code",
   "execution_count": 2,
   "metadata": {
    "collapsed": false
   },
   "outputs": [
    {
     "name": "stdout",
     "output_type": "stream",
     "text": [
      "Opening /global/project/projectdirs/das/wbhimji/RPVSusyJetLearn/jj_DAOD_EXOT3.h5 in read-only mode\n",
      "Opening /global/project/projectdirs/das/wbhimji/RPVSusyJetLearn/DAOD_EXOT3.08548071._000001.pool.root.1.h5 in read-only mode\n",
      "Starting training...\n",
      "Epoch 1 of 11 took 3.410s\n",
      "\ttraining los:\t\t0.6935\n",
      "\ttraining acc:\t\t50.0000 %\n",
      "  validation loss:\t\t0.711267\n",
      "  validation accuracy:\t\t40.00 %\n",
      "Epoch 2 of 11 took 3.291s\n",
      "\ttraining los:\t\t0.6933\n",
      "\ttraining acc:\t\t50.0000 %\n",
      "  validation loss:\t\t0.711242\n",
      "  validation accuracy:\t\t50.00 %\n",
      "Epoch 3 of 11 took 2.482s\n",
      "\ttraining los:\t\t0.6931\n",
      "\ttraining acc:\t\t50.0000 %\n",
      "  validation loss:\t\t0.711204\n",
      "  validation accuracy:\t\t50.00 %\n",
      "Epoch 4 of 11 took 2.877s\n",
      "\ttraining los:\t\t0.6927\n",
      "\ttraining acc:\t\t50.0000 %\n",
      "  validation loss:\t\t0.711178\n",
      "  validation accuracy:\t\t50.00 %\n",
      "Epoch 5 of 11 took 3.205s\n",
      "\ttraining los:\t\t0.6923\n",
      "\ttraining acc:\t\t53.3333 %\n",
      "  validation loss:\t\t0.711142\n",
      "  validation accuracy:\t\t50.00 %\n",
      "Epoch 6 of 11 took 2.994s\n",
      "\ttraining los:\t\t0.6918\n",
      "\ttraining acc:\t\t53.3333 %\n",
      "  validation loss:\t\t0.711096\n",
      "  validation accuracy:\t\t50.00 %\n",
      "Epoch 7 of 11 took 3.108s\n",
      "\ttraining los:\t\t0.6913\n",
      "\ttraining acc:\t\t53.3333 %\n",
      "  validation loss:\t\t0.711047\n",
      "  validation accuracy:\t\t50.00 %\n",
      "Epoch 8 of 11 took 3.117s\n",
      "\ttraining los:\t\t0.6907\n",
      "\ttraining acc:\t\t53.3333 %\n",
      "  validation loss:\t\t0.710999\n",
      "  validation accuracy:\t\t50.00 %\n",
      "Epoch 9 of 11 took 3.362s\n",
      "\ttraining los:\t\t0.6901\n",
      "\ttraining acc:\t\t53.3333 %\n",
      "  validation loss:\t\t0.710946\n",
      "  validation accuracy:\t\t50.00 %\n",
      "Epoch 10 of 11 took 3.038s\n",
      "\ttraining los:\t\t0.6894\n",
      "\ttraining acc:\t\t53.3333 %\n",
      "  validation loss:\t\t0.710897\n",
      "  validation accuracy:\t\t50.00 %\n",
      "Epoch 11 of 11 took 3.151s\n",
      "\ttraining los:\t\t0.6887\n",
      "\ttraining acc:\t\t53.3333 %\n",
      "  validation loss:\t\t0.710830\n",
      "  validation accuracy:\t\t50.00 %\n"
     ]
    },
    {
     "data": {
      "image/png": "[encoded data removed]",
      "text/plain": [
       "<matplotlib.figure.Figure at 0x2af6342d7690>"
      ]
     },
     "metadata": {},
     "output_type": "display_data"
    },
    {
     "data": {
      "image/png": "[encoded data removed]",
      "text/plain": [
       "<matplotlib.figure.Figure at 0x2af634866e10>"
      ]
     },
     "metadata": {},
     "output_type": "display_data"
    }
   ],
   "source": [
    "num_epochs = 11\n",
    "learning_rate = 0.0001\n",
    "num_events = 40\n",
    "weight_decay = 0\n",
    "num_filters = 128\n",
    "num_fc_units = 100\n",
    "dropout_p = 0\n",
    "# parser = argparse.ArgumentParser()\n",
    "# parser.add_argument('-e', '--epochs', type=int, default=10,\n",
    "#     help='number of epochs for training')\n",
    "\n",
    "# parser.add_argument('-l', '--learn_rate', default=0.0001, type=float,\n",
    "#     help='the learning rate for the network')\n",
    "\n",
    "# parser.add_argument('-n', '--num_events', default=40, type=int,\n",
    "#     help='number of total images')\n",
    "\n",
    "# args = parser.parse_args()\n",
    "# num_epochs = args.epochs\n",
    "# learning_rate = args.learn_rate\n",
    "# num_events = args.num_events\n",
    "\n",
    "\n",
    "run_dir = create_run_dir()\n",
    "\n",
    "dataset = load_data(num_events=50)\n",
    "\n",
    "\n",
    "'''set params'''\n",
    "network_kwargs = {'input_shape':(None,1,100,100), 'learning_rate': learning_rate, 'dropout_p': dropout_p, \n",
    "                  'weight_decay': weight_decay, 'num_filters': num_filters, 'num_fc_units': num_fc_units}\n",
    "\n",
    "'''get network and train_fns'''\n",
    "train_fn, val_fn, network, hyperparams = build_network(**network_kwargs)\n",
    "\n",
    "'''save hyperparams'''\n",
    "dump_hyperparams(hyperparams, path=run_dir)\n",
    "\n",
    "'''train'''\n",
    "train(dataset, network=network,train_fn=train_fn, val_fn=val_fn, num_epochs=num_epochs, save_path=run_dir)"
   ]
  },
  {
   "cell_type": "code",
   "execution_count": null,
   "metadata": {
    "collapsed": true
   },
   "outputs": [],
   "source": []
  }
 ],
 "metadata": {
  "kernelspec": {
   "display_name": "deeplearning",
   "language": "python",
   "name": "deeplearning"
  },
  "language_info": {
   "codemirror_mode": {
    "name": "ipython",
    "version": 2
   },
   "file_extension": ".py",
   "mimetype": "text/x-python",
   "name": "python",
   "nbconvert_exporter": "python",
   "pygments_lexer": "ipython2",
   "version": "2.7.12"
  }
 },
 "nbformat": 4,
 "nbformat_minor": 0
}
