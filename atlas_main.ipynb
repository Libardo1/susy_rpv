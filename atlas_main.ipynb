{
 "cells": [
  {
   "cell_type": "code",
   "execution_count": 4,
   "metadata": {
    "collapsed": false
   },
   "outputs": [],
   "source": [
    "import sys\n",
    "import matplotlib\n",
    "%matplotlib inline\n",
    "import argparse\n",
    "from nbfinder import NotebookFinder\n",
    "sys.meta_path.append(NotebookFinder())\n",
    "from notebooks.data_loader import load_data\n",
    "from notebooks.train_val import train\n",
    "from notebooks.helper_fxns import create_run_dir, dump_hyperparams, get_input_dims\n",
    "from notebooks.build_network import build_network"
   ]
  },
  {
   "cell_type": "code",
   "execution_count": null,
   "metadata": {
    "collapsed": true
   },
   "outputs": [],
   "source": [
    "num_epochs = 11\n",
    "learning_rate = 0.0001\n",
    "num_events = 40\n",
    "weight_decay = 0\n",
    "num_filters = 128\n",
    "num_fc_units = 100\n",
    "dropout_p = 0\n",
    "# parser = argparse.ArgumentParser()\n",
    "# parser.add_argument('-e', '--epochs', type=int, default=10,\n",
    "#     help='number of epochs for training')\n",
    "\n",
    "# parser.add_argument('-l', '--learn_rate', default=0.0001, type=float,\n",
    "#     help='the learning rate for the network')\n",
    "\n",
    "# parser.add_argument('-n', '--num_events', default=40, type=int,\n",
    "#     help='number of total images')\n",
    "\n",
    "# args = parser.parse_args()\n",
    "# num_epochs = args.epochs\n",
    "# learning_rate = args.learn_rate\n",
    "# num_events = args.num_events\n",
    "\n",
    "\n",
    "run_dir = create_run_dir()\n",
    "\n",
    "dataset = load_data(num_events=50)\n",
    "\n",
    "'''set params'''\n",
    "network_kwargs = {'input_shape':(None,1,100,100), 'learning_rate': learning_rate, 'dropout_p': dropout_p, \n",
    "                  'weight_decay': weight_decay, 'num_filters': num_filters, 'num_fc_units': num_fc_units}\n",
    "\n",
    "'''get network and train_fns'''\n",
    "train_fn, val_fn, network, hyperparams = build_network(**network_kwargs)\n",
    "\n",
    "'''save hyperparams'''\n",
    "dump_hyperparams(hyperparams, path=run_dir)\n",
    "\n",
    "'''train'''\n",
    "train(dataset, network=network,train_fn=train_fn, val_fn=val_fn, num_epochs=num_epochs, save_path=run_dir)"
   ]
  },
  {
   "cell_type": "code",
   "execution_count": null,
   "metadata": {
    "collapsed": true
   },
   "outputs": [],
   "source": []
  }
 ],
 "metadata": {
  "kernelspec": {
   "display_name": "deeplearning",
   "language": "python",
   "name": "deeplearning"
  },
  "language_info": {
   "codemirror_mode": {
    "name": "ipython",
    "version": 2
   },
   "file_extension": ".py",
   "mimetype": "text/x-python",
   "name": "python",
   "nbconvert_exporter": "python",
   "pygments_lexer": "ipython2",
   "version": "2.7.12"
  }
 },
 "nbformat": 4,
 "nbformat_minor": 0
}
