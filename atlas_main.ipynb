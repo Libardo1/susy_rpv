{
 "cells": [
  {
   "cell_type": "code",
   "execution_count": null,
   "metadata": {
    "collapsed": false
   },
   "outputs": [
    {
     "name": "stdout",
     "output_type": "stream",
     "text": [
      "importing Jupyter notebook from notebooks/configs/setup_configs.ipynb\n",
      "importing Jupyter notebook from notebooks/load_data/data_loader.ipynb\n",
      "importing Jupyter notebook from notebooks/networks/binary_classifier.ipynb\n"
     ]
    },
    {
     "name": "stderr",
     "output_type": "stream",
     "text": [
      "Using gpu device 1: TITAN X (Pascal) (CNMeM is disabled, cuDNN 5105)\n"
     ]
    },
    {
     "name": "stdout",
     "output_type": "stream",
     "text": [
      "importing Jupyter notebook from notebooks/networks/anom_ae.ipynb\n",
      "importing Jupyter notebook from notebooks/util.ipynb\n",
      "importing Jupyter notebook from notebooks/trainer.ipynb\n",
      "importing Jupyter notebook from notebooks/metrics/objectives.ipynb\n",
      "importing Jupyter notebook from notebooks/plotting/curve_plotter.ipynb\n",
      "importing Jupyter notebook from notebooks/metrics/metrics_processor.ipynb\n",
      "importing Jupyter notebook from notebooks/printing/print_utils.ipynb\n"
     ]
    }
   ],
   "source": [
    "import sys\n",
    "from scripts.nbfinder import NotebookFinder\n",
    "sys.meta_path.append(NotebookFinder())\n",
    "from notebooks.configs.setup_configs import setup_configs\n",
    "from notebooks.trainer import TrainVal"
   ]
  },
  {
   "cell_type": "code",
   "execution_count": null,
   "metadata": {
    "collapsed": false
   },
   "outputs": [
    {
     "name": "stderr",
     "output_type": "stream",
     "text": [
      "{'ae': False, 'num_layers': 3, 'dropout_p': 0.0, 'seed': 7, 'num_epochs': 20000, 'weight_decay': 0.0, 'num_val': -1, 'sig_eff_at': 0.9996, 'save_path': './results/run108', 'num_fc_units': 512, 'test': False, 'logger': <logging.Logger object at 0x7fa7827a69d0>, 'val_file': '/home/evan/data/atlas/val.h5', 'momentum': 0.9, 'test_file': '/home/evan/data/atlas/test.h5', 'learning_rate': 1e-05, 'input_shape': (None, 1, 64, 64), 'batch_size': 1024, 'tr_iterator': <notebooks.load_data.data_loader.DataIterator object at 0x7fa7827aab90>, 'num_tr': -1, 'loader_kwargs': {'keys': ['hist', 'weight', 'normalized_weight', 'y'], 'groupname': 'all_events', 'batch_size': 128}, 'val_iterator': <notebooks.load_data.data_loader.DataIterator object at 0x7fa7827d0350>, 'mode': 'classif', 'num_filters': 128, 'tr_file': '/home/evan/data/atlas/train.h5'}\n",
      "<lasagne.layers.input.InputLayer object at 0x7fa7827a6a50>(None, 1, 64, 64)\n",
      "<lasagne.layers.conv.Conv2DLayer object at 0x7fa7827aaf50>(None, 128, 64, 64)\n",
      "<lasagne.layers.normalization.BatchNormLayer object at 0x7fa782108490>(None, 128, 64, 64)\n",
      "<lasagne.layers.special.NonlinearityLayer object at 0x7fa78211d150>(None, 128, 64, 64)\n",
      "<lasagne.layers.pool.MaxPool2DLayer object at 0x7fa78211d310>(None, 128, 32, 32)\n",
      "<lasagne.layers.conv.Conv2DLayer object at 0x7fa78211d350>(None, 128, 32, 32)\n",
      "<lasagne.layers.normalization.BatchNormLayer object at 0x7fa78211d610>(None, 128, 32, 32)\n",
      "<lasagne.layers.special.NonlinearityLayer object at 0x7fa7827a6e50>(None, 128, 32, 32)\n",
      "<lasagne.layers.pool.MaxPool2DLayer object at 0x7fa7827a6c50>(None, 128, 16, 16)\n",
      "<lasagne.layers.conv.Conv2DLayer object at 0x7fa7827a6b50>(None, 128, 16, 16)\n",
      "<lasagne.layers.normalization.BatchNormLayer object at 0x7fa7827a6ed0>(None, 128, 16, 16)\n",
      "<lasagne.layers.special.NonlinearityLayer object at 0x7fa7827aa350>(None, 128, 16, 16)\n",
      "<lasagne.layers.pool.MaxPool2DLayer object at 0x7fa7827aa050>(None, 128, 8, 8)\n",
      "<lasagne.layers.noise.DropoutLayer object at 0x7fa7827aaf10>(None, 128, 8, 8)\n",
      "<lasagne.layers.dense.DenseLayer object at 0x7fa7827aa150>(None, 512)\n",
      "<lasagne.layers.noise.DropoutLayer object at 0x7fa78211dd50>(None, 512)\n",
      "<lasagne.layers.dense.DenseLayer object at 0x7fa78211df90>(None, 2)\n"
     ]
    },
    {
     "name": "stdout",
     "output_type": "stream",
     "text": [
      "4493442\n"
     ]
    },
    {
     "name": "stderr",
     "output_type": "stream",
     "text": [
      "\n",
      "\n",
      "<lasagne.layers.input.InputLayer object at 0x7fa7827a6a50> : (None, 1, 64, 64)\n",
      "<lasagne.layers.conv.Conv2DLayer object at 0x7fa7827aaf50> : (None, 128, 64, 64)\n",
      "<lasagne.layers.normalization.BatchNormLayer object at 0x7fa782108490> : (None, 128, 64, 64)\n",
      "<lasagne.layers.special.NonlinearityLayer object at 0x7fa78211d150> : (None, 128, 64, 64)\n",
      "<lasagne.layers.pool.MaxPool2DLayer object at 0x7fa78211d310> : (None, 128, 32, 32)\n",
      "<lasagne.layers.conv.Conv2DLayer object at 0x7fa78211d350> : (None, 128, 32, 32)\n",
      "<lasagne.layers.normalization.BatchNormLayer object at 0x7fa78211d610> : (None, 128, 32, 32)\n",
      "<lasagne.layers.special.NonlinearityLayer object at 0x7fa7827a6e50> : (None, 128, 32, 32)\n",
      "<lasagne.layers.pool.MaxPool2DLayer object at 0x7fa7827a6c50> : (None, 128, 16, 16)\n",
      "<lasagne.layers.conv.Conv2DLayer object at 0x7fa7827a6b50> : (None, 128, 16, 16)\n",
      "<lasagne.layers.normalization.BatchNormLayer object at 0x7fa7827a6ed0> : (None, 128, 16, 16)\n",
      "<lasagne.layers.special.NonlinearityLayer object at 0x7fa7827aa350> : (None, 128, 16, 16)\n",
      "<lasagne.layers.pool.MaxPool2DLayer object at 0x7fa7827aa050> : (None, 128, 8, 8)\n",
      "<lasagne.layers.noise.DropoutLayer object at 0x7fa7827aaf10> : (None, 128, 8, 8)\n",
      "<lasagne.layers.dense.DenseLayer object at 0x7fa7827aa150> : (None, 512)\n",
      "<lasagne.layers.noise.DropoutLayer object at 0x7fa78211dd50> : (None, 512)\n",
      "<lasagne.layers.dense.DenseLayer object at 0x7fa78211df90> : (None, 2)\n",
      "Total Parameters: 4493442\n",
      "\n",
      "\n"
     ]
    },
    {
     "name": "stdout",
     "output_type": "stream",
     "text": [
      "beginning epoch 0 tr\n"
     ]
    }
   ],
   "source": [
    "if __name__ == \"__main__\":\n",
    "    \n",
    "    configs = setup_configs()\n",
    "    networks, fns = configs[\"net\"].build_network(configs, configs[\"net\"].build_layers(configs))\n",
    "    tv = TrainVal(configs, fns, networks)\n",
    "    tv.train()\n",
    "\n",
    "    \n",
    "    \n",
    "    "
   ]
  },
  {
   "cell_type": "code",
   "execution_count": null,
   "metadata": {
    "collapsed": true
   },
   "outputs": [],
   "source": []
  },
  {
   "cell_type": "code",
   "execution_count": null,
   "metadata": {
    "collapsed": true
   },
   "outputs": [],
   "source": []
  }
 ],
 "metadata": {
  "anaconda-cloud": {},
  "kernelspec": {
   "display_name": "Python 2",
   "language": "python",
   "name": "python2"
  },
  "language_info": {
   "codemirror_mode": {
    "name": "ipython",
    "version": 2
   },
   "file_extension": ".py",
   "mimetype": "text/x-python",
   "name": "python",
   "nbconvert_exporter": "python",
   "pygments_lexer": "ipython2",
   "version": "2.7.12"
  }
 },
 "nbformat": 4,
 "nbformat_minor": 0
}
