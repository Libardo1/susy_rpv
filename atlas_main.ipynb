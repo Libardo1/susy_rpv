{
 "cells": [
  {
   "cell_type": "code",
   "execution_count": 1,
   "metadata": {
    "collapsed": false
   },
   "outputs": [
    {
     "name": "stdout",
     "output_type": "stream",
     "text": [
      "importing Jupyter notebook from notebooks/configs/setup_configs.ipynb\n",
      "importing Jupyter notebook from notebooks/load_data/data_loader.ipynb\n",
      "importing Jupyter notebook from notebooks/networks/binary_classifier.ipynb\n",
      "importing Jupyter notebook from notebooks/networks/anom_ae.ipynb\n",
      "importing Jupyter notebook from notebooks/util.ipynb\n",
      "importing Jupyter notebook from notebooks/trainer.ipynb\n",
      "importing Jupyter notebook from notebooks/metrics/objectives.ipynb\n",
      "importing Jupyter notebook from notebooks/plotting/curve_plotter.ipynb\n",
      "importing Jupyter notebook from notebooks/metrics/metrics_processor.ipynb\n",
      "importing Jupyter notebook from notebooks/printing/print_utils.ipynb\n"
     ]
    }
   ],
   "source": [
    "import sys\n",
    "from scripts.nbfinder import NotebookFinder\n",
    "sys.meta_path.append(NotebookFinder())\n",
    "from notebooks.configs.setup_configs import setup_configs\n",
    "from notebooks.trainer import TrainVal"
   ]
  },
  {
   "cell_type": "code",
   "execution_count": 2,
   "metadata": {
    "collapsed": false
   },
   "outputs": [
    {
     "name": "stderr",
     "output_type": "stream",
     "text": [
      "{'ae': False, 'num_layers': 3, 'dropout_p': 0.0, 'seed': 7, 'num_epochs': 20000, 'weight_decay': 0.0, 'num_val': 411623, 'sig_eff_at': 0.9996, 'save_path': './results/run418', 'test': False, 'event_frac': 0.005, 'logger': <logging.Logger object at 0x2aecadd94290>, 'val_file': '/global/cscratch1/sd/racah/atlas_h5/train/val.h5', 'momentum': 0.9, 'mode': 'classif', 'test_file': '/global/cscratch1/sd/racah/atlas_h5/test/test.h5', 'learning_rate': 0.0001, 'input_shape': (None, 1, 64, 64), 'batch_size': 128, 'tr_iterator': <notebooks.load_data.data_loader.DataIterator object at 0x2aed24c21910>, 'num_train': 1646496, 'loader_kwargs': {'keys': ['hist', 'weight', 'normalized_weight', 'y'], 'groupname': 'all_events', 'batch_size': 128}, 'val_iterator': <notebooks.load_data.data_loader.DataIterator object at 0x2aed24c219d0>, 'num_fc_units': 512, 'num_filters': 128, 'tr_file': '/global/cscratch1/sd/racah/atlas_h5/train/train.h5'}\n",
      "<lasagne.layers.input.InputLayer object at 0x2aed24c14810>(None, 1, 64, 64)\n",
      "<lasagne.layers.conv.Conv2DLayer object at 0x2aed24c45290>(None, 128, 64, 64)\n",
      "<lasagne.layers.normalization.BatchNormLayer object at 0x2aed24c576d0>(None, 128, 64, 64)\n",
      "<lasagne.layers.special.NonlinearityLayer object at 0x2aed24c6d250>(None, 128, 64, 64)\n",
      "<lasagne.layers.pool.MaxPool2DLayer object at 0x2aed24c6d390>(None, 128, 32, 32)\n",
      "<lasagne.layers.conv.Conv2DLayer object at 0x2aed24c6d3d0>(None, 128, 32, 32)\n",
      "<lasagne.layers.normalization.BatchNormLayer object at 0x2aed24c6d5d0>(None, 128, 32, 32)\n",
      "<lasagne.layers.special.NonlinearityLayer object at 0x2aed24c6d990>(None, 128, 32, 32)\n",
      "<lasagne.layers.pool.MaxPool2DLayer object at 0x2aed24c6dad0>(None, 128, 16, 16)\n",
      "<lasagne.layers.conv.Conv2DLayer object at 0x2aed24c6db10>(None, 128, 16, 16)\n",
      "<lasagne.layers.normalization.BatchNormLayer object at 0x2aed24c6dd10>(None, 128, 16, 16)\n",
      "<lasagne.layers.special.NonlinearityLayer object at 0x2aed24c14e50>(None, 128, 16, 16)\n",
      "<lasagne.layers.pool.MaxPool2DLayer object at 0x2aed24c14bd0>(None, 128, 8, 8)\n",
      "<lasagne.layers.noise.DropoutLayer object at 0x2aed24c45250>(None, 128, 8, 8)\n",
      "<lasagne.layers.dense.DenseLayer object at 0x2aed24c14b10>(None, 512)\n",
      "<lasagne.layers.noise.DropoutLayer object at 0x2aed24c21850>(None, 512)\n",
      "<lasagne.layers.dense.DenseLayer object at 0x2aed24c21510>(None, 2)\n"
     ]
    },
    {
     "name": "stdout",
     "output_type": "stream",
     "text": [
      "4493442\n"
     ]
    },
    {
     "name": "stderr",
     "output_type": "stream",
     "text": [
      "\n",
      "\n",
      "<lasagne.layers.input.InputLayer object at 0x2aed24c14810> : (None, 1, 64, 64)\n",
      "<lasagne.layers.conv.Conv2DLayer object at 0x2aed24c45290> : (None, 128, 64, 64)\n",
      "<lasagne.layers.normalization.BatchNormLayer object at 0x2aed24c576d0> : (None, 128, 64, 64)\n",
      "<lasagne.layers.special.NonlinearityLayer object at 0x2aed24c6d250> : (None, 128, 64, 64)\n",
      "<lasagne.layers.pool.MaxPool2DLayer object at 0x2aed24c6d390> : (None, 128, 32, 32)\n",
      "<lasagne.layers.conv.Conv2DLayer object at 0x2aed24c6d3d0> : (None, 128, 32, 32)\n",
      "<lasagne.layers.normalization.BatchNormLayer object at 0x2aed24c6d5d0> : (None, 128, 32, 32)\n",
      "<lasagne.layers.special.NonlinearityLayer object at 0x2aed24c6d990> : (None, 128, 32, 32)\n",
      "<lasagne.layers.pool.MaxPool2DLayer object at 0x2aed24c6dad0> : (None, 128, 16, 16)\n",
      "<lasagne.layers.conv.Conv2DLayer object at 0x2aed24c6db10> : (None, 128, 16, 16)\n",
      "<lasagne.layers.normalization.BatchNormLayer object at 0x2aed24c6dd10> : (None, 128, 16, 16)\n",
      "<lasagne.layers.special.NonlinearityLayer object at 0x2aed24c14e50> : (None, 128, 16, 16)\n",
      "<lasagne.layers.pool.MaxPool2DLayer object at 0x2aed24c14bd0> : (None, 128, 8, 8)\n",
      "<lasagne.layers.noise.DropoutLayer object at 0x2aed24c45250> : (None, 128, 8, 8)\n",
      "<lasagne.layers.dense.DenseLayer object at 0x2aed24c14b10> : (None, 512)\n",
      "<lasagne.layers.noise.DropoutLayer object at 0x2aed24c21850> : (None, 512)\n",
      "<lasagne.layers.dense.DenseLayer object at 0x2aed24c21510> : (None, 2)\n",
      "Total Parameters: 4493442\n",
      "\n",
      "\n"
     ]
    },
    {
     "name": "stdout",
     "output_type": "stream",
     "text": [
      "beginning epoch 0 tr\n",
      "Traceback (most recent call last):\n",
      "  File \"/global/common/cori/software/python/2.7-anaconda/envs/deeplearning/lib/python2.7/site-packages/IPython/core/ultratb.py\", line 1132, in get_records\n",
      "    return _fixed_getinnerframes(etb, number_of_lines_of_context, tb_offset)\n",
      "  File \"/global/common/cori/software/python/2.7-anaconda/envs/deeplearning/lib/python2.7/site-packages/IPython/core/ultratb.py\", line 313, in wrapped\n",
      "    return f(*args, **kwargs)\n",
      "  File \"/global/common/cori/software/python/2.7-anaconda/envs/deeplearning/lib/python2.7/site-packages/IPython/core/ultratb.py\", line 358, in _fixed_getinnerframes\n",
      "    records = fix_frame_records_filenames(inspect.getinnerframes(etb, context))\n",
      "  File \"/global/common/cori/software/python/2.7-anaconda/envs/deeplearning/lib/python2.7/site-packages/IPython/core/ultratb.py\", line 342, in fix_frame_records_filenames\n",
      "    filename = py3compat.cast_unicode_py2(filename, \"utf-8\")\n",
      "  File \"/global/common/cori/software/python/2.7-anaconda/envs/deeplearning/lib/python2.7/site-packages/IPython/utils/py3compat.py\", line 26, in cast_unicode\n",
      "    return decode(s, encoding)\n",
      "  File \"/global/common/cori/software/python/2.7-anaconda/envs/deeplearning/lib/python2.7/site-packages/IPython/utils/py3compat.py\", line 17, in decode\n",
      "    return s.decode(encoding, \"replace\")\n",
      "  File \"/global/common/cori/software/python/2.7-anaconda/envs/deeplearning/lib/python2.7/encodings/utf_8.py\", line 16, in decode\n",
      "    return codecs.utf_8_decode(input, errors, True)\n",
      "KeyboardInterrupt\n"
     ]
    },
    {
     "ename": "IndexError",
     "evalue": "string index out of range",
     "output_type": "error",
     "traceback": [
      "\u001b[0;31m---------------------------------------------------------------------------\u001b[0m",
      "\u001b[0;31mIndexError\u001b[0m                                Traceback (most recent call last)",
      "\u001b[0;32m/global/common/cori/software/python/2.7-anaconda/envs/deeplearning/lib/python2.7/site-packages/IPython/core/interactiveshell.pyc\u001b[0m in \u001b[0;36mrun_code\u001b[0;34m(self, code_obj, result)\u001b[0m\n\u001b[1;32m   2884\u001b[0m             \u001b[0;32mif\u001b[0m \u001b[0mresult\u001b[0m \u001b[0;32mis\u001b[0m \u001b[0;32mnot\u001b[0m \u001b[0mNone\u001b[0m\u001b[0;34m:\u001b[0m\u001b[0;34m\u001b[0m\u001b[0m\n\u001b[1;32m   2885\u001b[0m                 \u001b[0mresult\u001b[0m\u001b[0;34m.\u001b[0m\u001b[0merror_in_exec\u001b[0m \u001b[0;34m=\u001b[0m \u001b[0msys\u001b[0m\u001b[0;34m.\u001b[0m\u001b[0mexc_info\u001b[0m\u001b[0;34m(\u001b[0m\u001b[0;34m)\u001b[0m\u001b[0;34m[\u001b[0m\u001b[0;36m1\u001b[0m\u001b[0;34m]\u001b[0m\u001b[0;34m\u001b[0m\u001b[0m\n\u001b[0;32m-> 2886\u001b[0;31m             \u001b[0mself\u001b[0m\u001b[0;34m.\u001b[0m\u001b[0mshowtraceback\u001b[0m\u001b[0;34m(\u001b[0m\u001b[0;34m)\u001b[0m\u001b[0;34m\u001b[0m\u001b[0m\n\u001b[0m\u001b[1;32m   2887\u001b[0m         \u001b[0;32melse\u001b[0m\u001b[0;34m:\u001b[0m\u001b[0;34m\u001b[0m\u001b[0m\n\u001b[1;32m   2888\u001b[0m             \u001b[0moutflag\u001b[0m \u001b[0;34m=\u001b[0m \u001b[0;36m0\u001b[0m\u001b[0;34m\u001b[0m\u001b[0m\n",
      "\u001b[0;32m/global/common/cori/software/python/2.7-anaconda/envs/deeplearning/lib/python2.7/site-packages/IPython/core/interactiveshell.pyc\u001b[0m in \u001b[0;36mshowtraceback\u001b[0;34m(self, exc_tuple, filename, tb_offset, exception_only)\u001b[0m\n\u001b[1;32m   1810\u001b[0m                     \u001b[0;32mexcept\u001b[0m \u001b[0mException\u001b[0m\u001b[0;34m:\u001b[0m\u001b[0;34m\u001b[0m\u001b[0m\n\u001b[1;32m   1811\u001b[0m                         stb = self.InteractiveTB.structured_traceback(etype,\n\u001b[0;32m-> 1812\u001b[0;31m                                             value, tb, tb_offset=tb_offset)\n\u001b[0m\u001b[1;32m   1813\u001b[0m \u001b[0;34m\u001b[0m\u001b[0m\n\u001b[1;32m   1814\u001b[0m                     \u001b[0mself\u001b[0m\u001b[0;34m.\u001b[0m\u001b[0m_showtraceback\u001b[0m\u001b[0;34m(\u001b[0m\u001b[0metype\u001b[0m\u001b[0;34m,\u001b[0m \u001b[0mvalue\u001b[0m\u001b[0;34m,\u001b[0m \u001b[0mstb\u001b[0m\u001b[0;34m)\u001b[0m\u001b[0;34m\u001b[0m\u001b[0m\n",
      "\u001b[0;32m/global/common/cori/software/python/2.7-anaconda/envs/deeplearning/lib/python2.7/site-packages/IPython/core/ultratb.pyc\u001b[0m in \u001b[0;36mstructured_traceback\u001b[0;34m(self, etype, value, tb, tb_offset, number_of_lines_of_context)\u001b[0m\n\u001b[1;32m   1404\u001b[0m         \u001b[0mself\u001b[0m\u001b[0;34m.\u001b[0m\u001b[0mtb\u001b[0m \u001b[0;34m=\u001b[0m \u001b[0mtb\u001b[0m\u001b[0;34m\u001b[0m\u001b[0m\n\u001b[1;32m   1405\u001b[0m         return FormattedTB.structured_traceback(\n\u001b[0;32m-> 1406\u001b[0;31m             self, etype, value, tb, tb_offset, number_of_lines_of_context)\n\u001b[0m\u001b[1;32m   1407\u001b[0m \u001b[0;34m\u001b[0m\u001b[0m\n\u001b[1;32m   1408\u001b[0m \u001b[0;34m\u001b[0m\u001b[0m\n",
      "\u001b[0;32m/global/common/cori/software/python/2.7-anaconda/envs/deeplearning/lib/python2.7/site-packages/IPython/core/ultratb.pyc\u001b[0m in \u001b[0;36mstructured_traceback\u001b[0;34m(self, etype, value, tb, tb_offset, number_of_lines_of_context)\u001b[0m\n\u001b[1;32m   1312\u001b[0m             \u001b[0;31m# Verbose modes need a full traceback\u001b[0m\u001b[0;34m\u001b[0m\u001b[0;34m\u001b[0m\u001b[0m\n\u001b[1;32m   1313\u001b[0m             return VerboseTB.structured_traceback(\n\u001b[0;32m-> 1314\u001b[0;31m                 \u001b[0mself\u001b[0m\u001b[0;34m,\u001b[0m \u001b[0metype\u001b[0m\u001b[0;34m,\u001b[0m \u001b[0mvalue\u001b[0m\u001b[0;34m,\u001b[0m \u001b[0mtb\u001b[0m\u001b[0;34m,\u001b[0m \u001b[0mtb_offset\u001b[0m\u001b[0;34m,\u001b[0m \u001b[0mnumber_of_lines_of_context\u001b[0m\u001b[0;34m\u001b[0m\u001b[0m\n\u001b[0m\u001b[1;32m   1315\u001b[0m             )\n\u001b[1;32m   1316\u001b[0m         \u001b[0;32melse\u001b[0m\u001b[0;34m:\u001b[0m\u001b[0;34m\u001b[0m\u001b[0m\n",
      "\u001b[0;32m/global/common/cori/software/python/2.7-anaconda/envs/deeplearning/lib/python2.7/site-packages/IPython/core/ultratb.pyc\u001b[0m in \u001b[0;36mstructured_traceback\u001b[0;34m(self, etype, evalue, etb, tb_offset, number_of_lines_of_context)\u001b[0m\n\u001b[1;32m   1196\u001b[0m                 \u001b[0mstructured_traceback_parts\u001b[0m \u001b[0;34m+=\u001b[0m \u001b[0mformatted_exception\u001b[0m\u001b[0;34m\u001b[0m\u001b[0m\n\u001b[1;32m   1197\u001b[0m         \u001b[0;32melse\u001b[0m\u001b[0;34m:\u001b[0m\u001b[0;34m\u001b[0m\u001b[0m\n\u001b[0;32m-> 1198\u001b[0;31m             \u001b[0mstructured_traceback_parts\u001b[0m \u001b[0;34m+=\u001b[0m \u001b[0mformatted_exception\u001b[0m\u001b[0;34m[\u001b[0m\u001b[0;36m0\u001b[0m\u001b[0;34m]\u001b[0m\u001b[0;34m\u001b[0m\u001b[0m\n\u001b[0m\u001b[1;32m   1199\u001b[0m \u001b[0;34m\u001b[0m\u001b[0m\n\u001b[1;32m   1200\u001b[0m         \u001b[0;32mreturn\u001b[0m \u001b[0mstructured_traceback_parts\u001b[0m\u001b[0;34m\u001b[0m\u001b[0m\n",
      "\u001b[0;31mIndexError\u001b[0m: string index out of range"
     ]
    }
   ],
   "source": [
    "if __name__ == \"__main__\":\n",
    "    \n",
    "    configs = setup_configs()\n",
    "    networks, fns = configs[\"net\"].build_network(configs, configs[\"net\"].build_layers(configs))\n",
    "    tv = TrainVal(configs, fns, networks)\n",
    "    tv.train()\n",
    "\n",
    "    \n",
    "    \n",
    "    "
   ]
  },
  {
   "cell_type": "code",
   "execution_count": null,
   "metadata": {
    "collapsed": true
   },
   "outputs": [],
   "source": []
  },
  {
   "cell_type": "code",
   "execution_count": null,
   "metadata": {
    "collapsed": true
   },
   "outputs": [],
   "source": []
  }
 ],
 "metadata": {
  "anaconda-cloud": {},
  "kernelspec": {
   "display_name": "deeplearning",
   "language": "python",
   "name": "deeplearning"
  },
  "language_info": {
   "codemirror_mode": {
    "name": "ipython",
    "version": 2
   },
   "file_extension": ".py",
   "mimetype": "text/x-python",
   "name": "python",
   "nbconvert_exporter": "python",
   "pygments_lexer": "ipython2",
   "version": "2.7.12"
  }
 },
 "nbformat": 4,
 "nbformat_minor": 0
}
