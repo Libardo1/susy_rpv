{
 "cells": [
  {
   "cell_type": "code",
   "execution_count": 1,
   "metadata": {
    "collapsed": false
   },
   "outputs": [
    {
     "name": "stdout",
     "output_type": "stream",
     "text": [
      "[TerminalIPythonApp] WARNING | Subcommand `ipython nbconvert` is deprecated and will be removed in future versions.\n",
      "[TerminalIPythonApp] WARNING | You likely want to use `jupyter nbconvert` in the future\n",
      "[NbConvertApp] Converting notebook ./atlas_main.ipynb to script\n",
      "[NbConvertApp] Writing 4944 bytes to ./atlas_main.py\n",
      "[NbConvertApp] Converting notebook ./convert_nb_to_scripts-main.ipynb to script\n",
      "[NbConvertApp] Writing 1196 bytes to ./convert_nb_to_scripts-main.py\n"
     ]
    }
   ],
   "source": [
    "! ipython nbconvert --to script ./*.ipynb\n",
    "\n",
    "import os\n",
    "import sys\n",
    "\n",
    "#.txt means file was open/not saved so converted to .txt not .py\n",
    "for fil in os.listdir('.'):\n",
    "    assert '.txt' not in fil, \"Save all your notebooks first!\"\n",
    "        \n",
    "        \n",
    "! mv nbfinder.py nbfinder.pyc\n",
    "! sed -i.bak 's/# coding: utf-8/import matplotlib; matplotlib.use(\"agg\")/g' ./*.py\n",
    "\n",
    "#get rid of IN[] lines\n",
    "!sed -i.bak '/# In\\[*/d' ./*.py\n",
    "\n",
    "#get rid of ipython lines\n",
    "!sed -i.bak '/ipython*/d' ./*.py\n",
    "\n",
    "!sed -i.bak '/NotebookFinder*/d' ./*.py\n",
    "\n",
    "#get rid of IN[] lines\n",
    "!sed -i.bak '/# In\\[*/d' ./*.py\n",
    "\n",
    "!sed -i.bak '/# coding:*/d' ./*.py\n",
    "\n",
    "!sed -i.bak 's/plt.show()*/pass/g' ./*.py\n",
    "\n",
    "!sed -i.bak 's/notebooks./scripts./g' ./*.py\n",
    "\n",
    "#!sed -i.bak 's/# //g' ./*.py\n",
    "\n",
    "! rm *.bak\n",
    "! rm convert_nb_to_scripts-main.py\n",
    "! mv nbfinder.pyc nbfinder.py\n",
    "#move to scripts\n",
    "#! mv *.py ../scripts\n",
    "\n"
   ]
  },
  {
   "cell_type": "code",
   "execution_count": null,
   "metadata": {
    "collapsed": true
   },
   "outputs": [],
   "source": []
  }
 ],
 "metadata": {
  "anaconda-cloud": {},
  "kernelspec": {
   "display_name": "Python 2.7",
   "language": "python",
   "name": "python2.7"
  },
  "language_info": {
   "codemirror_mode": {
    "name": "ipython",
    "version": 2
   },
   "file_extension": ".py",
   "mimetype": "text/x-python",
   "name": "python",
   "nbconvert_exporter": "python",
   "pygments_lexer": "ipython2",
   "version": "2.7.12"
  }
 },
 "nbformat": 4,
 "nbformat_minor": 0
}
