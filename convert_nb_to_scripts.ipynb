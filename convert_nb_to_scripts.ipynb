{
 "cells": [
  {
   "cell_type": "code",
   "execution_count": 5,
   "metadata": {
    "collapsed": true
   },
   "outputs": [],
   "source": [
    "import os\n",
    "import sys"
   ]
  },
  {
   "cell_type": "code",
   "execution_count": 6,
   "metadata": {
    "collapsed": false
   },
   "outputs": [],
   "source": [
    "def convert_nb_to_script(dir_):\n",
    "    ! jupyter nbconvert --to script $dir_/*.ipynb\n",
    "\n",
    "    #.txt means file was open/not saved so converted to .txt not .py\n",
    "    for fil in os.listdir(dir_):\n",
    "        assert '.txt' not in fil, \"Save all your notebooks first!\"\n",
    "    if dir_ is not \".\":\n",
    "        ! mv $dir_/__init__.py $dir_/__init__.pyc\n",
    "        ! mv $dir_/nbfinder.py $dir_/nbfinder.pyc        \n",
    "\n",
    "\n",
    "    ! sed -i.bak 's/# coding: utf-8/import matplotlib; matplotlib.use(\"agg\")/g' $dir_/*.py\n",
    "\n",
    "    #get rid of IN[] lines\n",
    "    !sed -i.bak '/# IN\\[*/d' $dir_/*.py\n",
    "\n",
    "    #get rid of ipython lines\n",
    "    !sed -i.bak '/ipython*/d' $dir_/*.py\n",
    "\n",
    "    !sed -i.bak '/NotebookFinder*/d' $dir_/*.py\n",
    "\n",
    "    ! sed -i.bak 's/notebooks./scripts./g' $dir_/*.py\n",
    "    #get rid of IN[] lines\n",
    "    !sed -i.bak '/# In\\[*/d' $dir_/*.py\n",
    "\n",
    "    !sed -i.bak '/# coding:*/d' $dir_/*.py\n",
    "\n",
    "    !sed -i.bak 's/plt.show()*/pass/g' $dir_/*.py\n",
    "\n",
    "    ! rm $dir_/*.bak\n",
    "    \n",
    "\n",
    "    if dir_ is not \".\":\n",
    "        subdir = \"/\".join(dir_.split(\"notebooks/\")[1:])\n",
    "        if not os.path.exists(os.path.join(\"./scripts\", subdir)):\n",
    "            os.makedirs(os.path.join(\"./scripts\", subdir))\n",
    "        #move to scripts\n",
    "        ! mv $dir_/*.py ./scripts/$subdir\n",
    "        \n",
    "        ! mv $dir_/__init__.pyc $dir_/__init__.py\n",
    "        ! mv $dir_/nbfinder.pyc $dir_/nbfinder.py\n",
    "        ! cp $dir_/nbfinder.py ./scripts/$subdir\n",
    "        ! cp $dir_/__init__.py ./scripts/$subdir\n",
    "    else:\n",
    "        ! rm $dir_/convert_nb_to_scripts.py\n",
    "        \n"
   ]
  },
  {
   "cell_type": "code",
   "execution_count": null,
   "metadata": {
    "collapsed": false
   },
   "outputs": [
    {
     "name": "stdout",
     "output_type": "stream",
     "text": [
      "[NbConvertApp] Converting notebook ./notebooks/printing//print_n_plot.ipynb to script\n",
      "[NbConvertApp] Writing 4416 bytes to ./notebooks/printing/print_n_plot.py\n",
      "[NbConvertApp] Converting notebook ./notebooks/printing//print_utils.ipynb to script\n",
      "[NbConvertApp] Writing 1563 bytes to ./notebooks/printing/print_utils.py\n"
     ]
    }
   ],
   "source": [
    "convert_nb_to_script(\"./notebooks/printing/\")"
   ]
  },
  {
   "cell_type": "code",
   "execution_count": null,
   "metadata": {
    "collapsed": false
   },
   "outputs": [
    {
     "name": "stdout",
     "output_type": "stream",
     "text": [
      "./notebooks\n",
      "[NbConvertApp] Converting notebook ./notebooks/tmp_data_loader.ipynb to script\n",
      "[NbConvertApp] Writing 10037 bytes to ./notebooks/tmp_data_loader.py\n",
      "[NbConvertApp] Converting notebook ./notebooks/trainer.ipynb to script\n",
      "[NbConvertApp] Writing 2709 bytes to ./notebooks/trainer.py\n",
      "[NbConvertApp] Converting notebook ./notebooks/util.ipynb to script\n",
      "[NbConvertApp] Writing 3335 bytes to ./notebooks/util.py\n"
     ]
    }
   ],
   "source": [
    "for dirpath, dirs, files in os.walk(\"./notebooks\"):\n",
    "    if not \".ipynb_checkpoint\" in dirpath:\n",
    "        print dirpath\n",
    "        convert_nb_to_script(dirpath)\n",
    "convert_nb_to_script(\".\")"
   ]
  },
  {
   "cell_type": "code",
   "execution_count": null,
   "metadata": {
    "collapsed": true
   },
   "outputs": [],
   "source": []
  }
 ],
 "metadata": {
  "anaconda-cloud": {},
  "kernelspec": {
   "display_name": "Python 2.7",
   "language": "python",
   "name": "python2.7"
  },
  "language_info": {
   "codemirror_mode": {
    "name": "ipython",
    "version": 2
   },
   "file_extension": ".py",
   "mimetype": "text/x-python",
   "name": "python",
   "nbconvert_exporter": "python",
   "pygments_lexer": "ipython2",
   "version": "2.7.12"
  }
 },
 "nbformat": 4,
 "nbformat_minor": 0
}
