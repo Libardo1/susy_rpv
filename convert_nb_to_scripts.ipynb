{
 "cells": [
  {
   "cell_type": "code",
   "execution_count": 1,
   "metadata": {
    "collapsed": true
   },
   "outputs": [],
   "source": [
    "import os\n",
    "import sys"
   ]
  },
  {
   "cell_type": "code",
   "execution_count": 2,
   "metadata": {
    "collapsed": false
   },
   "outputs": [],
   "source": [
    "def convert_nb_to_script(dir_):\n",
    "    ! jupyter nbconvert --to script $dir_/*.ipynb\n",
    "\n",
    "    #.txt means file was open/not saved so converted to .txt not .py\n",
    "    for fil in os.listdir(dir_):\n",
    "        assert '.txt' not in fil, \"Save all your notebooks first!\"\n",
    "    if dir_ is not \".\":\n",
    "        ! mv $dir_/__init__.py $dir_/__init__.pyc\n",
    "        ! mv $dir_/nbfinder.py $dir_/nbfinder.pyc        \n",
    "\n",
    "\n",
    "    ! sed -i.bak 's/# coding: utf-8/import matplotlib; matplotlib.use(\"agg\")/g' $dir_/*.py\n",
    "\n",
    "    #get rid of IN[] lines\n",
    "    !sed -i.bak '/# IN\\[*/d' $dir_/*.py\n",
    "\n",
    "    #get rid of ipython lines\n",
    "    !sed -i.bak '/ipython*/d' $dir_/*.py\n",
    "\n",
    "    !sed -i.bak '/NotebookFinder*/d' $dir_/*.py\n",
    "\n",
    "    ! sed -i.bak 's/notebooks./scripts./g' $dir_/*.py\n",
    "    #get rid of IN[] lines\n",
    "    !sed -i.bak '/# In\\[*/d' $dir_/*.py\n",
    "\n",
    "    !sed -i.bak '/# coding:*/d' $dir_/*.py\n",
    "\n",
    "    !sed -i.bak 's/plt.show()*/pass/g' $dir_/*.py\n",
    "\n",
    "    ! rm $dir_/*.bak\n",
    "    \n",
    "\n",
    "    if dir_ is not \".\":\n",
    "        subdir = \"/\".join(dir_.split(\"notebooks/\")[1:])\n",
    "        if not os.path.exists(os.path.join(\"./scripts\", subdir)):\n",
    "            os.makedirs(os.path.join(\"./scripts\", subdir))\n",
    "        #move to scripts\n",
    "        ! mv $dir_/*.py ./scripts/$subdir\n",
    "        ! mv $dir_/__init__.pyc $dir_/__init__.py\n",
    "        ! mv $dir_/nbfinder.pyc $dir_/nbfinder.py\n",
    "    else:\n",
    "        ! rm $dir_/convert_nb_to_scripts.py\n",
    "        \n"
   ]
  },
  {
   "cell_type": "code",
   "execution_count": 3,
   "metadata": {
    "collapsed": false
   },
   "outputs": [
    {
     "name": "stdout",
     "output_type": "stream",
     "text": [
      "./notebooks\n",
      "[NbConvertApp] Converting notebook ./notebooks/tmp_data_loader.ipynb to script\n",
      "[NbConvertApp] Writing 10037 bytes to ./notebooks/tmp_data_loader.py\n",
      "[NbConvertApp] Converting notebook ./notebooks/trainer.ipynb to script\n",
      "[NbConvertApp] Writing 2709 bytes to ./notebooks/trainer.py\n",
      "[NbConvertApp] Converting notebook ./notebooks/util.ipynb to script\n",
      "[NbConvertApp] Writing 3257 bytes to ./notebooks/util.py\n",
      "./notebooks/configs\n",
      "[NbConvertApp] Converting notebook ./notebooks/configs/setup_configs.ipynb to script\n",
      "[NbConvertApp] Writing 3055 bytes to ./notebooks/configs/setup_configs.py\n",
      "./notebooks/load_data\n",
      "[NbConvertApp] Converting notebook ./notebooks/load_data/data_loader.ipynb to script\n",
      "[NbConvertApp] Writing 9340 bytes to ./notebooks/load_data/data_loader.py\n",
      "[NbConvertApp] Converting notebook ./notebooks/load_data/data_writer_merger.ipynb to script\n",
      "[NbConvertApp] Writing 4849 bytes to ./notebooks/load_data/data_writer_merger.py\n",
      "./notebooks/metrics\n",
      "[NbConvertApp] Converting notebook ./notebooks/metrics/metrics_processor.ipynb to script\n",
      "[NbConvertApp] Writing 3557 bytes to ./notebooks/metrics/metrics_processor.py\n",
      "[NbConvertApp] Converting notebook ./notebooks/metrics/objectives.ipynb to script\n",
      "[NbConvertApp] Writing 3041 bytes to ./notebooks/metrics/objectives.py\n",
      "./notebooks/networks\n",
      "[NbConvertApp] Converting notebook ./notebooks/networks/anom_ae.ipynb to script\n",
      "[NbConvertApp] Writing 5157 bytes to ./notebooks/networks/anom_ae.py\n",
      "[NbConvertApp] Converting notebook ./notebooks/networks/binary_classifier.ipynb to script\n",
      "[NbConvertApp] Writing 5242 bytes to ./notebooks/networks/binary_classifier.py\n",
      "./notebooks/plotting\n",
      "[NbConvertApp] Converting notebook ./notebooks/plotting/curve_plotter.ipynb to script\n",
      "[NbConvertApp] Writing 2299 bytes to ./notebooks/plotting/curve_plotter.py\n",
      "[NbConvertApp] Converting notebook ./notebooks/plotting/plot_images.ipynb to script\n",
      "[NbConvertApp] Writing 4429 bytes to ./notebooks/plotting/plot_images.py\n",
      "./notebooks/printing\n",
      "[NbConvertApp] Converting notebook ./notebooks/printing/print_n_plot.ipynb to script\n",
      "[NbConvertApp] Writing 4416 bytes to ./notebooks/printing/print_n_plot.py\n",
      "[NbConvertApp] Converting notebook ./notebooks/printing/print_utils.ipynb to script\n",
      "[NbConvertApp] Writing 1386 bytes to ./notebooks/printing/print_utils.py\n",
      "./notebooks/steve_stuff\n",
      "[NbConvertApp] Converting notebook ./notebooks/steve_stuff/BaselineSelectionTests.ipynb to script\n",
      "[NbConvertApp] Writing 6310 bytes to ./notebooks/steve_stuff/BaselineSelectionTests.py\n",
      "[NbConvertApp] Converting notebook ./notebooks/steve_stuff/KerasModels.ipynb to script\n",
      "[NbConvertApp] Writing 7726 bytes to ./notebooks/steve_stuff/KerasModels.py\n",
      "[NbConvertApp] Converting notebook ./notebooks/steve_stuff/PlotCaloClusters.ipynb to script\n",
      "[NbConvertApp] Writing 878 bytes to ./notebooks/steve_stuff/PlotCaloClusters.py\n",
      "mv: cannot stat './notebooks/steve_stuff/__init__.py': No such file or directory\n",
      "mv: cannot stat './notebooks/steve_stuff/nbfinder.py': No such file or directory\n",
      "mv: cannot stat './notebooks/steve_stuff/__init__.pyc': No such file or directory\n",
      "mv: cannot stat './notebooks/steve_stuff/nbfinder.pyc': No such file or directory\n",
      "[NbConvertApp] Converting notebook ./atlas_main.ipynb to script\n",
      "[NbConvertApp] Writing 489 bytes to ./atlas_main.py\n",
      "[NbConvertApp] Converting notebook ./convert_nb_to_scripts.ipynb to script\n",
      "[NbConvertApp] Writing 2002 bytes to ./convert_nb_to_scripts.py\n"
     ]
    }
   ],
   "source": [
    "for dirpath, dirs, files in os.walk(\"./notebooks\"):\n",
    "    if not \".ipynb_checkpoint\" in dirpath:\n",
    "        print dirpath\n",
    "        convert_nb_to_script(dirpath)\n",
    "convert_nb_to_script(\".\")"
   ]
  },
  {
   "cell_type": "code",
   "execution_count": null,
   "metadata": {
    "collapsed": true
   },
   "outputs": [],
   "source": []
  }
 ],
 "metadata": {
  "anaconda-cloud": {},
  "kernelspec": {
   "display_name": "Python 2",
   "language": "python",
   "name": "python2"
  },
  "language_info": {
   "codemirror_mode": {
    "name": "ipython",
    "version": 2
   },
   "file_extension": ".py",
   "mimetype": "text/x-python",
   "name": "python",
   "nbconvert_exporter": "python",
   "pygments_lexer": "ipython2",
   "version": "2.7.12"
  }
 },
 "nbformat": 4,
 "nbformat_minor": 0
}
