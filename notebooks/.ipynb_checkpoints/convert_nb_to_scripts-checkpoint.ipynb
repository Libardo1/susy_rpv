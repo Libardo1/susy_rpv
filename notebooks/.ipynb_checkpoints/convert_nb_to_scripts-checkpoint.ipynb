{
 "cells": [
  {
   "cell_type": "code",
   "execution_count": 1,
   "metadata": {
    "collapsed": false
   },
   "outputs": [
    {
     "name": "stdout",
     "output_type": "stream",
     "text": [
      "[TerminalIPythonApp] WARNING | Subcommand `ipython nbconvert` is deprecated and will be removed in future versions.\n",
      "[TerminalIPythonApp] WARNING | You likely want to use `jupyter nbconvert` in the future\n",
      "[NbConvertApp] Converting notebook ./PlotCaloClusters.ipynb to script\n",
      "[NbConvertApp] Writing 771 bytes to ./PlotCaloClusters.py\n",
      "[NbConvertApp] Converting notebook ./build_network.ipynb to script\n",
      "[NbConvertApp] Writing 5384 bytes to ./build_network.py\n",
      "[NbConvertApp] Converting notebook ./convert_nb_to_scripts.ipynb to script\n",
      "[NbConvertApp] Writing 1105 bytes to ./convert_nb_to_scripts.py\n",
      "[NbConvertApp] Converting notebook ./data_loader.ipynb to script\n",
      "[NbConvertApp] Writing 2683 bytes to ./data_loader.py\n",
      "[NbConvertApp] Converting notebook ./helper_fxns.ipynb to script\n",
      "[NbConvertApp] Writing 2848 bytes to ./helper_fxns.py\n",
      "[NbConvertApp] Converting notebook ./print_n_plot.ipynb to script\n",
      "[NbConvertApp] Writing 1368 bytes to ./print_n_plot.py\n",
      "[NbConvertApp] Converting notebook ./train_val.ipynb to script\n",
      "[NbConvertApp] Writing 4535 bytes to ./train_val.py\n",
      "sed: -e expression #1, char 9: unterminated address regex\n"
     ]
    }
   ],
   "source": [
    "! ipython nbconvert --to script ./*.ipynb\n",
    "\n",
    "import os\n",
    "import sys\n",
    "\n",
    "#.txt means file was open/not saved so converted to .txt not .py\n",
    "for fil in os.listdir('.'):\n",
    "    assert '.txt' not in fil, \"Save all your notebooks first!\"\n",
    "        \n",
    "        \n",
    "\n",
    "! sed -i.bak 's/# coding: utf-8/import matplotlib; matplotlib.use(\"agg\")/g' ./*.py\n",
    "\n",
    "#get rid of IN[] lines\n",
    "!sed -i.bak '/# IN[*/d' ./*.py\n",
    "\n",
    "#get rid of ipython lines\n",
    "!sed -i.bak '/ipython*/d' ./*.py\n",
    "\n",
    "!sed -i.bak '/NotebookFinder*/d' ./*.py\n",
    "\n",
    "#get rid of IN[] lines\n",
    "!sed -i.bak '/# In\\[*/d' ./*.py\n",
    "\n",
    "!sed -i.bak '/# coding:*/d' ./*.py\n",
    "\n",
    "!sed -i.bak 's/plt.show()*/pass/g' ./*.py\n",
    "\n",
    "! rm *.bak\n",
    "! rm convert_nb_to_scripts.py\n",
    "\n",
    "#move to scripts\n",
    "! mv nbfinder.py nbfinder.pyc\n",
    "! mv __init__.py __init__.pyc\n",
    "! mv *.py ../scripts\n",
    "\n",
    "#make sure nb finder and __init__ aren't moved\n",
    "! mv nbfinder.pyc nbfinder.py\n",
    "! mv __init__.pyc __init__.py\n",
    "\n"
   ]
  },
  {
   "cell_type": "code",
   "execution_count": null,
   "metadata": {
    "collapsed": true
   },
   "outputs": [],
   "source": []
  }
 ],
 "metadata": {
  "kernelspec": {
   "display_name": "Python 2",
   "language": "python",
   "name": "python2"
  },
  "language_info": {
   "codemirror_mode": {
    "name": "ipython",
    "version": 2
   },
   "file_extension": ".py",
   "mimetype": "text/x-python",
   "name": "python",
   "nbconvert_exporter": "python",
   "pygments_lexer": "ipython2",
   "version": "2.7.11"
  }
 },
 "nbformat": 4,
 "nbformat_minor": 0
}
