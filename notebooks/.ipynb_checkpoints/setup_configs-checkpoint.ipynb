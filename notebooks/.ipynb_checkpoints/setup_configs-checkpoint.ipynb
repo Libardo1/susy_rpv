{
 "cells": [
  {
   "cell_type": "code",
   "execution_count": 11,
   "metadata": {
    "collapsed": false
   },
   "outputs": [],
   "source": [
    "import sys\n",
    "from nbfinder import NotebookFinder\n",
    "sys.meta_path.append(NotebookFinder())\n",
    "import argparse\n",
    "from os.path import join\n",
    "from data_loader import DataLoader, AnomalyLoader\n",
    "from util import create_run_dir, get_logger, dump_hyperparams"
   ]
  },
  {
   "cell_type": "code",
   "execution_count": 12,
   "metadata": {
    "collapsed": true
   },
   "outputs": [],
   "source": [
    "def setup_configs():\n",
    "    \n",
    "    default_args = {'input_shape': tuple([None] + [1, 64, 64]), \n",
    "                      'learning_rate': 0.0001, \n",
    "                      'dropout_p': 0.0, \n",
    "                      'weight_decay': 0.0,\n",
    "                      'num_filters': 64, \n",
    "                      'num_fc_units': 32,\n",
    "                      'num_layers': 3,\n",
    "                      'momentum': 0.9,\n",
    "                      'num_epochs': 20000,\n",
    "                      'batch_size': 128,\n",
    "                      \"save_path\": \"None\",\n",
    "                      \"event_frac\": 0.0005,\n",
    "                      \"sig_eff_at\": 0.9996,\n",
    "                      \"test\":False, \"seed\": 7,\n",
    "                      \"mode\":\"classif\",\n",
    "                      \"ae\":False,\n",
    "                      \"h5_prefix\":\"/home/evan/data/atlas\"\n",
    "                   }\n",
    "    \n",
    "    \n",
    "    # if inside a notebook, then get rid of weird notebook arguments, so that arg parsing still works\n",
    "    if any([\"jupyter\" in arg for arg in sys.argv]):\n",
    "        sys.argv=sys.argv[:1]\n",
    "\n",
    "\n",
    "    parser = argparse.ArgumentParser(formatter_class=argparse.ArgumentDefaultsHelpFormatter)\n",
    "    #make a command line argument for every flag in default args\n",
    "    for k,v in default_args.iteritems():\n",
    "        parser.add_argument('--' + k, type=type(v), default=v, help=k)\n",
    "\n",
    "    args = parser.parse_args()\n",
    "    \n",
    "    if args.save_path == \"None\":\n",
    "        save_path = None\n",
    "    else:\n",
    "        save_path = args.save_path\n",
    "\n",
    "\n",
    "    kwargs = default_args\n",
    "    kwargs.update(args.__dict__)\n",
    "    run_dir = create_run_dir(save_path)\n",
    "    kwargs['save_path'] = run_dir\n",
    "    kwargs[\"logger\"] = get_logger(kwargs['save_path'])\n",
    "    bg_cfg_file= [join(kwargs[\"h5_prefix\"], \"train_jetjet_JZ%i.h5\"% (i)) for i in range(3,12)]\n",
    "    sig_cfg_file= join(kwargs[\"h5_prefix\"], \"train_GG_RPV10_1400_850.h5\")\n",
    "    \n",
    "    \n",
    "    loader_kwargs = dict(bg_cfg_file=bg_cfg_file,\n",
    "                    sig_cfg_file=sig_cfg_file,\n",
    "                    events_fraction=kwargs[\"event_frac\"], \n",
    "                    test=kwargs[\"test\"])\n",
    "    \n",
    "    kwargs[\"loader_kwargs\"] = loader_kwargs\n",
    "    \n",
    "    \n",
    "        \n",
    "    \n",
    "    if kwargs[\"mode\"] == \"anomaly\":\n",
    "        dl = AnomalyLoader(**loader_kwargs)\n",
    "    else:\n",
    "        dl = DataLoader(**loader_kwargs)\n",
    "    \n",
    "    kwargs[\"data_loader\"] = dl\n",
    "\n",
    "    return kwargs"
   ]
  },
  {
   "cell_type": "code",
   "execution_count": 7,
   "metadata": {
    "collapsed": true
   },
   "outputs": [],
   "source": [
    "def update_configs(kwargs,tr_shape, val_shape):\n",
    "    kwargs[\"input_shape\"] = tuple([None] + list(tr_shape[1:]))\n",
    "    kwargs[\"num_train\"], kwargs[\"num_val\"] = tr_shape[0], val_shape[0]\n",
    "    kwargs[\"logger\"].info(str(kwargs))\n",
    "    \n",
    "    dump_hyperparams(dic=kwargs,path=kwargs[\"save_path\"])\n",
    "    if kwargs[\"ae\"]:\n",
    "        net = caen\n",
    "    else:\n",
    "        net = bcc\n",
    "        \n",
    "    kwargs[\"net\"] = net\n",
    "    return kwargs\n",
    "    "
   ]
  },
  {
   "cell_type": "code",
   "execution_count": null,
   "metadata": {
    "collapsed": true
   },
   "outputs": [],
   "source": []
  }
 ],
 "metadata": {
  "kernelspec": {
   "display_name": "Python 2",
   "language": "python",
   "name": "python2"
  },
  "language_info": {
   "codemirror_mode": {
    "name": "ipython",
    "version": 2
   },
   "file_extension": ".py",
   "mimetype": "text/x-python",
   "name": "python",
   "nbconvert_exporter": "python",
   "pygments_lexer": "ipython2",
   "version": "2.7.12"
  }
 },
 "nbformat": 4,
 "nbformat_minor": 2
}
