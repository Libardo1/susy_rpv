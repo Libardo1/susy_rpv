{
 "cells": [
  {
   "cell_type": "code",
   "execution_count": 1,
   "metadata": {
    "collapsed": false
   },
   "outputs": [
    {
     "data": {
      "application/javascript": [
       "require(['codemirror/mode/clike/clike'], function(Clike) { console.log('ROOTaaS - C++ CodeMirror module loaded'); });"
      ]
     },
     "metadata": {},
     "output_type": "display_data"
    },
    {
     "data": {
      "application/javascript": [
       "IPython.CodeCell.config_defaults.highlight_modes['magic_text/x-c++src'] = {'reg':[/^%%cpp/]};"
      ]
     },
     "metadata": {},
     "output_type": "display_data"
    },
    {
     "name": "stdout",
     "output_type": "stream",
     "text": [
      "Welcome to ROOTaaS 6.06/06\n"
     ]
    }
   ],
   "source": [
    "from __future__ import print_function\n",
    "import functools\n",
    "import numpy as np\n",
    "import pandas as pd\n",
    "import ROOT;\n",
    "import root_numpy as rnp"
   ]
  },
  {
   "cell_type": "markdown",
   "metadata": {},
   "source": [
    "# Loading the input into numpy\n",
    "\n",
    "Using root_numpy to make structured arrays."
   ]
  },
  {
   "cell_type": "code",
   "execution_count": 100,
   "metadata": {
    "collapsed": false
   },
   "outputs": [],
   "source": [
    "#filename = '/Users/sfarrell/Atlas/xaod/mc15_13TeV.361023.Pythia8EvtGen_A14NNPDF23LO_jetjet_JZ3W.merge.DAOD_EXOT3.e3668_s2576_s2132_r7728_r7676_p2613/DAOD_EXOT3.08204445._000002.pool.root.1'\n",
    "filename = '/Users/sfarrell/Atlas/xaod/mc15_13TeV.403554.MadGraphPythia8EvtGen_A14NNPDF23LO_GG_RPV10_1000_250.merge.DAOD_EXOT3.e5079_a766_a821_r7676_p2646/DAOD_EXOT3.08548063._000001.pool.root.1'"
   ]
  },
  {
   "cell_type": "code",
   "execution_count": 101,
   "metadata": {
    "collapsed": true
   },
   "outputs": [],
   "source": [
    "# Branch names to read in and rename for convenience\n",
    "branchMap = {\n",
    "    'CaloCalTopoClustersAuxDyn.calEta' : 'ClusEta',\n",
    "    'CaloCalTopoClustersAuxDyn.calPhi' : 'ClusPhi',\n",
    "    'CaloCalTopoClustersAuxDyn.calE' : 'ClusE',\n",
    "    'AntiKt10LCTopoTrimmedPtFrac5SmallR20JetsAux.pt' : 'FatJetPt',\n",
    "    'AntiKt10LCTopoTrimmedPtFrac5SmallR20JetsAux.eta' : 'FatJetEta',\n",
    "    'AntiKt10LCTopoTrimmedPtFrac5SmallR20JetsAux.phi' : 'FatJetPhi',\n",
    "    'AntiKt10LCTopoTrimmedPtFrac5SmallR20JetsAux.m' : 'FatJetM',\n",
    "}"
   ]
  },
  {
   "cell_type": "code",
   "execution_count": 103,
   "metadata": {
    "collapsed": false
   },
   "outputs": [
    {
     "name": "stdout",
     "output_type": "stream",
     "text": [
      "Entries: 9973\n"
     ]
    }
   ],
   "source": [
    "entries = rnp.root2array(filename, treename='CollectionTree',\n",
    "                         branches=branchMap.keys(),\n",
    "                         ) #start=0, stop=10000)\n",
    "entries.dtype.names = branchMap.values()\n",
    "print('Entries:', entries.size)"
   ]
  },
  {
   "cell_type": "code",
   "execution_count": 104,
   "metadata": {
    "collapsed": false
   },
   "outputs": [
    {
     "data": {
      "text/plain": [
       "dtype([('FatJetPhi', 'O'), ('FatJetEta', 'O'), ('FatJetM', 'O'), ('ClusEta', 'O'), ('ClusE', 'O'), ('ClusPhi', 'O'), ('FatJetPt', 'O')])"
      ]
     },
     "execution_count": 104,
     "metadata": {},
     "output_type": "execute_result"
    }
   ],
   "source": [
    "entries.dtype"
   ]
  },
  {
   "cell_type": "markdown",
   "metadata": {},
   "source": [
    "# Indexing and selection with numpy\n",
    "Since the data is structured, we can index by key name and do some fancy stuff."
   ]
  },
  {
   "cell_type": "code",
   "execution_count": 105,
   "metadata": {
    "collapsed": false
   },
   "outputs": [
    {
     "name": "stdout",
     "output_type": "stream",
     "text": [
      "[ 556584.4375      295621.21875     201845.921875    161042.140625\n",
      "   93007.1640625    71875.1484375    69584.0625       58491.34765625\n",
      "   56537.53125      50488.59375      48581.41796875   45340.34375\n",
      "   42120.62890625]\n",
      "[ 556584.4375      295621.21875     201845.921875    161042.140625\n",
      "   93007.1640625    71875.1484375    69584.0625       58491.34765625\n",
      "   56537.53125      50488.59375      48581.41796875   45340.34375\n",
      "   42120.62890625]\n"
     ]
    }
   ],
   "source": [
    "# Multiple ways to dump variables for a specific event.\n",
    "# I'm actually surprised these both work.\n",
    "print(entries[0]['FatJetPt'])\n",
    "print(entries['FatJetPt'][0])"
   ]
  },
  {
   "cell_type": "code",
   "execution_count": 106,
   "metadata": {
    "collapsed": false
   },
   "outputs": [
    {
     "data": {
      "text/plain": [
       "array([ True, False, False, False, False, False, False, False, False, False], dtype=bool)"
      ]
     },
     "execution_count": 106,
     "metadata": {},
     "output_type": "execute_result"
    }
   ],
   "source": [
    "# Perform object selections on one event\n",
    "event = entries[3]\n",
    "event['FatJetPt'] > 300000"
   ]
  },
  {
   "cell_type": "code",
   "execution_count": 107,
   "metadata": {
    "collapsed": false
   },
   "outputs": [
    {
     "name": "stdout",
     "output_type": "stream",
     "text": [
      "[ array([ True,  True,  True, False, False, False, False, False, False,\n",
      "       False, False, False, False], dtype=bool)\n",
      " array([ True,  True,  True, False, False, False, False, False, False], dtype=bool)\n",
      " array([ True,  True,  True,  True, False, False, False, False, False,\n",
      "       False, False], dtype=bool)\n",
      " ...,\n",
      " array([ True,  True,  True,  True, False, False, False, False, False,\n",
      "       False, False, False, False, False, False, False], dtype=bool)\n",
      " array([ True,  True,  True,  True, False, False, False, False, False,\n",
      "       False, False, False], dtype=bool)\n",
      " array([ True,  True, False, False, False, False, False], dtype=bool)]\n"
     ]
    }
   ],
   "source": [
    "# Select fatjets with pt > 200 GeV for all events in one go\n",
    "f = np.vectorize(lambda jetPts: jetPts > 200000, otypes=[np.ndarray])\n",
    "selectedJets = f(entries['FatJetPt'])\n",
    "print(selectedJets)"
   ]
  },
  {
   "cell_type": "code",
   "execution_count": 108,
   "metadata": {
    "collapsed": false
   },
   "outputs": [
    {
     "name": "stdout",
     "output_type": "stream",
     "text": [
      "[3 3 4 ..., 4 4 2]\n",
      "[ True  True  True ...,  True  True  True]\n"
     ]
    }
   ],
   "source": [
    "# Select events with at least 2 selected jets\n",
    "countSelected = np.vectorize(sum)\n",
    "numJets = countSelected(selectedJets)\n",
    "selectedEvents = numJets >= 2\n",
    "print(numJets)\n",
    "print(selectedEvents)"
   ]
  },
  {
   "cell_type": "markdown",
   "metadata": {},
   "source": [
    "## Physics selections and variables"
   ]
  },
  {
   "cell_type": "code",
   "execution_count": 165,
   "metadata": {
    "collapsed": false
   },
   "outputs": [],
   "source": [
    "# units\n",
    "GeV = 1e3\n",
    "TeV = 1e6\n",
    "\n",
    "# custom decorator vectorizes a function that returns an array\n",
    "array_vectorize = functools.partial(np.vectorize, otypes=[np.ndarray])\n",
    "\n",
    "@array_vectorize\n",
    "def selectFatJets(fatJetPts, fatJetEtas):\n",
    "    \"\"\"Select jets out of numpy arrays of jet pt and eta\"\"\"\n",
    "    #assert(fatJetPts.shape == fatJetEtas.shape)\n",
    "    selPT = fatJetPts > 200*GeV\n",
    "    selEta = np.fabs(fatJetEtas) < 2.\n",
    "    return np.logical_and(selPT, selEta)\n",
    "\n",
    "@np.vectorize\n",
    "def selectBaselineEvents(selectedFatJets, fatJetPts):\n",
    "    \"\"\"Baseline event selection\n",
    "    Selects events with at least 3 selected fat jets and requires the leading\n",
    "    fat jet to have PT > 420 GeV to satisfy the trigger efficiency plateau.\n",
    "    \"\"\"\n",
    "    selNFatJet = np.sum(selectedFatJets) >= 3\n",
    "    selTrigAcc = np.max(fatJetPts) > 440*GeV\n",
    "    return (selNFatJet and selTrigAcc)\n",
    "\n",
    "@np.vectorize\n",
    "def calculateSumJetMass(selectedFatJets, fatJetMs):\n",
    "    \"\"\"Calculates the summed jet mass of selected fat jets.\n",
    "    For now, assuming jets are pre-sorted by decreasing PT.\n",
    "    \"\"\"\n",
    "    return np.sum(fatJetMs[selectedFatJets][:4])\n",
    "\n",
    "@np.vectorize\n",
    "def dEtaLeadingFatJets(selectedFatJets, fatJetEtas):\n",
    "    \"\"\"Calculates |dEta| between leading two fat jets\"\"\"\n",
    "    assert(selectedFatjets.size >= 2)\n",
    "    eta1, eta2 = fatJetEtas[selectedFatJets][:2]\n",
    "    return abs(eta1 - eta2)\n",
    "\n",
    "@np.vectorize\n",
    "def selectSignalEvents(isBaseline, selectedFatJets, summedMass, fatJetEtas):\n",
    "    \"\"\"Selects events passing signal region selection\"\"\"\n",
    "    if not isBaseline:\n",
    "        return False\n",
    "    numFatJets = np.sum(selectedFatJets)\n",
    "    eta1, eta2 = fatJetEtas[selectedFatJets][:2]\n",
    "    if numFatJets < 4 or abs(eta1 - eta2) > 1.4:\n",
    "        return False\n",
    "    if numFatJets == 4:\n",
    "        return (summedMass > 800*GeV)\n",
    "    else: #numFatJets >= 4\n",
    "        return (summedMass > 600*GeV)"
   ]
  },
  {
   "cell_type": "code",
   "execution_count": 166,
   "metadata": {
    "collapsed": false
   },
   "outputs": [
    {
     "name": "stdout",
     "output_type": "stream",
     "text": [
      "Baseline selected events: 7045 / 9973\n"
     ]
    }
   ],
   "source": [
    "# Test it out\n",
    "selectedFatJets = selectFatJets(entries['FatJetPt'], entries['FatJetEta'])\n",
    "baselineEvents = selectBaselineEvents(selectedFatJets, entries['FatJetPt'])\n",
    "print('Baseline selected events: %d / %d' % (np.sum(baselineEvents), entries.size))"
   ]
  },
  {
   "cell_type": "code",
   "execution_count": 167,
   "metadata": {
    "collapsed": false
   },
   "outputs": [
    {
     "name": "stdout",
     "output_type": "stream",
     "text": [
      "[  62587.33691406  641813.953125    688428.45507812 ...,  702532.22558594\n",
      "  343132.76757812  495058.11132812]\n"
     ]
    }
   ],
   "source": [
    "# Calculate the summed jet mass for all events\n",
    "summedMasses = calculateSumJetMass(selectedFatJets, entries['FatJetM'])\n",
    "print(summedMasses[baselineEvents])"
   ]
  },
  {
   "cell_type": "code",
   "execution_count": 168,
   "metadata": {
    "collapsed": false
   },
   "outputs": [
    {
     "name": "stdout",
     "output_type": "stream",
     "text": [
      "Signal events: 254 / 9973\n"
     ]
    }
   ],
   "source": [
    "signalEvents = selectSignalEvents(baselineEvents, selectedFatJets,\n",
    "                                  summedMasses, entries['FatJetEta'])\n",
    "print('Signal events: %d / %d' % (np.sum(signalEvents), entries.size))"
   ]
  },
  {
   "cell_type": "markdown",
   "metadata": {},
   "source": [
    "# Indexing and selection with pandas\n",
    "I'm not sure this stuff is useful, but I'm probably not yet familiar enough with pandas."
   ]
  },
  {
   "cell_type": "code",
   "execution_count": 11,
   "metadata": {
    "collapsed": false
   },
   "outputs": [
    {
     "data": {
      "text/html": [
       "<div>\n",
       "<table border=\"1\" class=\"dataframe\">\n",
       "  <thead>\n",
       "    <tr style=\"text-align: right;\">\n",
       "      <th></th>\n",
       "      <th>FatJetPhi</th>\n",
       "      <th>FatJetEta</th>\n",
       "      <th>FatJetM</th>\n",
       "      <th>ClusEta</th>\n",
       "      <th>ClusE</th>\n",
       "      <th>ClusPhi</th>\n",
       "      <th>FatJetPt</th>\n",
       "    </tr>\n",
       "  </thead>\n",
       "  <tbody>\n",
       "    <tr>\n",
       "      <th>0</th>\n",
       "      <td>[0.00596846779808, 2.87110900879, -1.84715402126]</td>\n",
       "      <td>[-0.954404592514, -1.61063969135, 2.0010535717]</td>\n",
       "      <td>[61639.0390625, 10999.8671875, 13028.1142578]</td>\n",
       "      <td>[-1.6227, -0.943131, -0.923665, -1.02153, -1.5...</td>\n",
       "      <td>[498223.0, 134677.0, 74380.8, 52298.0, 45132.2...</td>\n",
       "      <td>[2.87337, 0.105046, 0.0983033, 0.0939832, 2.86...</td>\n",
       "      <td>[232080.96875, 221981.203125, 57221.3164062]</td>\n",
       "    </tr>\n",
       "    <tr>\n",
       "      <th>1</th>\n",
       "      <td>[0.66264218092, -2.33152222633, -2.80688095093]</td>\n",
       "      <td>[-1.68494164944, 1.09755623341, -0.360555291176]</td>\n",
       "      <td>[161539.8125, 105711.546875, 32847.0742188]</td>\n",
       "      <td>[-1.34636, -2.14971, 0.876069, -1.32248, -1.25...</td>\n",
       "      <td>[254646.0, 493897.0, 166191.0, 123737.0, 76182...</td>\n",
       "      <td>[0.713631, 0.563024, -2.13269, 0.772785, 0.723...</td>\n",
       "      <td>[380771.625, 267307.875, 83987.46875]</td>\n",
       "    </tr>\n",
       "    <tr>\n",
       "      <th>2</th>\n",
       "      <td>[2.68377804756, -1.07684326172, 0.519797444344...</td>\n",
       "      <td>[-0.257283210754, 1.31243598461, -2.1067028045...</td>\n",
       "      <td>[41038.1914062, 28292.6894531, 7954.24072266, ...</td>\n",
       "      <td>[-0.355851, 1.42148, -0.236781, -0.279007, 1.3...</td>\n",
       "      <td>[106985.0, 121855.0, 50254.8, 40061.0, 65259.4...</td>\n",
       "      <td>[2.69817, -1.14446, 2.54611, 2.6899, -1.10427,...</td>\n",
       "      <td>[343135.0, 144681.859375, 108444.523438, 96598...</td>\n",
       "    </tr>\n",
       "    <tr>\n",
       "      <th>3</th>\n",
       "      <td>[-2.94045710564, 0.313296169043]</td>\n",
       "      <td>[2.46938467026, 0.30729714036]</td>\n",
       "      <td>[33095.2695312, 27802.3574219]</td>\n",
       "      <td>[2.49492, 0.28934, 2.44046, 2.46279, 0.266242,...</td>\n",
       "      <td>[679644.0, 112411.0, 457538.0, 248921.0, 44433...</td>\n",
       "      <td>[-2.99868, 0.372021, -2.88921, -2.93311, 0.293...</td>\n",
       "      <td>[332282.34375, 264231.71875]</td>\n",
       "    </tr>\n",
       "    <tr>\n",
       "      <th>4</th>\n",
       "      <td>[-2.19297027588, 1.13155245781]</td>\n",
       "      <td>[-0.219372928143, -1.07450163364]</td>\n",
       "      <td>[43562.7539062, 13052.03125]</td>\n",
       "      <td>[-1.07233, -1.09638, -0.133159, -0.112744, -0....</td>\n",
       "      <td>[142078.0, 90911.1, 51356.1, 24854.0, 24746.2,...</td>\n",
       "      <td>[1.11448, 1.13409, -2.13287, -2.09358, -2.2086...</td>\n",
       "      <td>[217022.5625, 194112.046875]</td>\n",
       "    </tr>\n",
       "    <tr>\n",
       "      <th>5</th>\n",
       "      <td>[0.276071876287, -2.77678489685, 2.91632199287...</td>\n",
       "      <td>[-2.21385741234, 0.795198857784, -1.8358240127...</td>\n",
       "      <td>[78253.46875, 95443.828125, 20252.1992188, 156...</td>\n",
       "      <td>[-2.19028, 0.438731, -2.12773, 1.11994, -2.325...</td>\n",
       "      <td>[363842.0, 102581.0, 321279.0, 49539.6, 130510...</td>\n",
       "      <td>[0.371298, -2.89956, 0.354993, -2.82553, 0.351...</td>\n",
       "      <td>[343388.25, 257815.546875, 103880.03125, 48012...</td>\n",
       "    </tr>\n",
       "    <tr>\n",
       "      <th>6</th>\n",
       "      <td>[-2.29030370712, 0.937134921551, 0.752174854279]</td>\n",
       "      <td>[-1.16092443466, 2.77408599854, -1.18175673485]</td>\n",
       "      <td>[40867.0664062, 13770.5966797, 2712.07250977]</td>\n",
       "      <td>[2.7437, -1.16182, -1.14853, -1.13438, -1.1819...</td>\n",
       "      <td>[831665.0, 195261.0, 61551.7, 47485.0, 48263.6...</td>\n",
       "      <td>[0.924463, -2.34814, -2.34821, -2.37065, -2.30...</td>\n",
       "      <td>[271225.875, 143822.78125, 115238.101562]</td>\n",
       "    </tr>\n",
       "    <tr>\n",
       "      <th>7</th>\n",
       "      <td>[-2.82683777809, 0.138846471906, 0.996263563633]</td>\n",
       "      <td>[-1.69611680508, -0.994612157345, -2.65157485008]</td>\n",
       "      <td>[78389.4140625, 37778.734375, 17217.7460938]</td>\n",
       "      <td>[-0.968674, -1.56852, -1.52438, -1.59856, -1.0...</td>\n",
       "      <td>[297711.0, 326939.0, 160782.0, 82174.1, 36549....</td>\n",
       "      <td>[0.128344, -2.81806, -2.83585, -2.7594, 0.0807...</td>\n",
       "      <td>[343359.125, 306999.6875, 48254.609375]</td>\n",
       "    </tr>\n",
       "    <tr>\n",
       "      <th>8</th>\n",
       "      <td>[2.32210016251, -0.785404801369]</td>\n",
       "      <td>[0.899966597557, 1.38102436066]</td>\n",
       "      <td>[81008.109375, 49577.9414062]</td>\n",
       "      <td>[0.860151, 1.45404, 0.905788, 0.887156, 1.3249...</td>\n",
       "      <td>[269632.0, 273276.0, 97259.9, 67126.0, 48833.6...</td>\n",
       "      <td>[2.39106, -0.740536, 2.40817, 2.26278, -0.8403...</td>\n",
       "      <td>[343885.625, 293594.78125]</td>\n",
       "    </tr>\n",
       "    <tr>\n",
       "      <th>9</th>\n",
       "      <td>[0.454613238573, -2.60988664627]</td>\n",
       "      <td>[-1.22083210945, -0.0625708028674]</td>\n",
       "      <td>[45789.78125, 43100.296875]</td>\n",
       "      <td>[-1.21689, -0.110082, -1.16486, -0.0648095, -1...</td>\n",
       "      <td>[209207.0, 83647.7, 97040.7, 53129.9, 97680.5,...</td>\n",
       "      <td>[0.411506, -2.58741, 0.314041, -2.55891, 0.479...</td>\n",
       "      <td>[354046.125, 343449.78125]</td>\n",
       "    </tr>\n",
       "  </tbody>\n",
       "</table>\n",
       "</div>"
      ],
      "text/plain": [
       "                                           FatJetPhi  \\\n",
       "0  [0.00596846779808, 2.87110900879, -1.84715402126]   \n",
       "1    [0.66264218092, -2.33152222633, -2.80688095093]   \n",
       "2  [2.68377804756, -1.07684326172, 0.519797444344...   \n",
       "3                   [-2.94045710564, 0.313296169043]   \n",
       "4                    [-2.19297027588, 1.13155245781]   \n",
       "5  [0.276071876287, -2.77678489685, 2.91632199287...   \n",
       "6   [-2.29030370712, 0.937134921551, 0.752174854279]   \n",
       "7   [-2.82683777809, 0.138846471906, 0.996263563633]   \n",
       "8                   [2.32210016251, -0.785404801369]   \n",
       "9                   [0.454613238573, -2.60988664627]   \n",
       "\n",
       "                                           FatJetEta  \\\n",
       "0    [-0.954404592514, -1.61063969135, 2.0010535717]   \n",
       "1   [-1.68494164944, 1.09755623341, -0.360555291176]   \n",
       "2  [-0.257283210754, 1.31243598461, -2.1067028045...   \n",
       "3                     [2.46938467026, 0.30729714036]   \n",
       "4                  [-0.219372928143, -1.07450163364]   \n",
       "5  [-2.21385741234, 0.795198857784, -1.8358240127...   \n",
       "6    [-1.16092443466, 2.77408599854, -1.18175673485]   \n",
       "7  [-1.69611680508, -0.994612157345, -2.65157485008]   \n",
       "8                    [0.899966597557, 1.38102436066]   \n",
       "9                 [-1.22083210945, -0.0625708028674]   \n",
       "\n",
       "                                             FatJetM  \\\n",
       "0      [61639.0390625, 10999.8671875, 13028.1142578]   \n",
       "1        [161539.8125, 105711.546875, 32847.0742188]   \n",
       "2  [41038.1914062, 28292.6894531, 7954.24072266, ...   \n",
       "3                     [33095.2695312, 27802.3574219]   \n",
       "4                       [43562.7539062, 13052.03125]   \n",
       "5  [78253.46875, 95443.828125, 20252.1992188, 156...   \n",
       "6      [40867.0664062, 13770.5966797, 2712.07250977]   \n",
       "7       [78389.4140625, 37778.734375, 17217.7460938]   \n",
       "8                      [81008.109375, 49577.9414062]   \n",
       "9                        [45789.78125, 43100.296875]   \n",
       "\n",
       "                                             ClusEta  \\\n",
       "0  [-1.6227, -0.943131, -0.923665, -1.02153, -1.5...   \n",
       "1  [-1.34636, -2.14971, 0.876069, -1.32248, -1.25...   \n",
       "2  [-0.355851, 1.42148, -0.236781, -0.279007, 1.3...   \n",
       "3  [2.49492, 0.28934, 2.44046, 2.46279, 0.266242,...   \n",
       "4  [-1.07233, -1.09638, -0.133159, -0.112744, -0....   \n",
       "5  [-2.19028, 0.438731, -2.12773, 1.11994, -2.325...   \n",
       "6  [2.7437, -1.16182, -1.14853, -1.13438, -1.1819...   \n",
       "7  [-0.968674, -1.56852, -1.52438, -1.59856, -1.0...   \n",
       "8  [0.860151, 1.45404, 0.905788, 0.887156, 1.3249...   \n",
       "9  [-1.21689, -0.110082, -1.16486, -0.0648095, -1...   \n",
       "\n",
       "                                               ClusE  \\\n",
       "0  [498223.0, 134677.0, 74380.8, 52298.0, 45132.2...   \n",
       "1  [254646.0, 493897.0, 166191.0, 123737.0, 76182...   \n",
       "2  [106985.0, 121855.0, 50254.8, 40061.0, 65259.4...   \n",
       "3  [679644.0, 112411.0, 457538.0, 248921.0, 44433...   \n",
       "4  [142078.0, 90911.1, 51356.1, 24854.0, 24746.2,...   \n",
       "5  [363842.0, 102581.0, 321279.0, 49539.6, 130510...   \n",
       "6  [831665.0, 195261.0, 61551.7, 47485.0, 48263.6...   \n",
       "7  [297711.0, 326939.0, 160782.0, 82174.1, 36549....   \n",
       "8  [269632.0, 273276.0, 97259.9, 67126.0, 48833.6...   \n",
       "9  [209207.0, 83647.7, 97040.7, 53129.9, 97680.5,...   \n",
       "\n",
       "                                             ClusPhi  \\\n",
       "0  [2.87337, 0.105046, 0.0983033, 0.0939832, 2.86...   \n",
       "1  [0.713631, 0.563024, -2.13269, 0.772785, 0.723...   \n",
       "2  [2.69817, -1.14446, 2.54611, 2.6899, -1.10427,...   \n",
       "3  [-2.99868, 0.372021, -2.88921, -2.93311, 0.293...   \n",
       "4  [1.11448, 1.13409, -2.13287, -2.09358, -2.2086...   \n",
       "5  [0.371298, -2.89956, 0.354993, -2.82553, 0.351...   \n",
       "6  [0.924463, -2.34814, -2.34821, -2.37065, -2.30...   \n",
       "7  [0.128344, -2.81806, -2.83585, -2.7594, 0.0807...   \n",
       "8  [2.39106, -0.740536, 2.40817, 2.26278, -0.8403...   \n",
       "9  [0.411506, -2.58741, 0.314041, -2.55891, 0.479...   \n",
       "\n",
       "                                            FatJetPt  \n",
       "0       [232080.96875, 221981.203125, 57221.3164062]  \n",
       "1              [380771.625, 267307.875, 83987.46875]  \n",
       "2  [343135.0, 144681.859375, 108444.523438, 96598...  \n",
       "3                       [332282.34375, 264231.71875]  \n",
       "4                       [217022.5625, 194112.046875]  \n",
       "5  [343388.25, 257815.546875, 103880.03125, 48012...  \n",
       "6          [271225.875, 143822.78125, 115238.101562]  \n",
       "7            [343359.125, 306999.6875, 48254.609375]  \n",
       "8                         [343885.625, 293594.78125]  \n",
       "9                         [354046.125, 343449.78125]  "
      ]
     },
     "execution_count": 11,
     "metadata": {},
     "output_type": "execute_result"
    }
   ],
   "source": [
    "df = pd.DataFrame.from_records(entries)\n",
    "df"
   ]
  },
  {
   "cell_type": "markdown",
   "metadata": {},
   "source": [
    "# Timing tests\n",
    "Ignore these. I'm just timing some stuff."
   ]
  },
  {
   "cell_type": "code",
   "execution_count": 131,
   "metadata": {
    "collapsed": false
   },
   "outputs": [
    {
     "name": "stdout",
     "output_type": "stream",
     "text": [
      "The slowest run took 16.97 times longer than the fastest. This could mean that an intermediate result is being cached.\n",
      "100000 loops, best of 3: 2.09 µs per loop\n",
      "The slowest run took 14.98 times longer than the fastest. This could mean that an intermediate result is being cached.\n",
      "100000 loops, best of 3: 2.34 µs per loop\n"
     ]
    }
   ],
   "source": [
    "fatJetMs = entries['FatJetM'][0]\n",
    "%timeit np.sort(fatJetMs)[-4:]\n",
    "%timeit fatJetMs[np.argpartition(fatJetMs, -4)[-4:]]"
   ]
  },
  {
   "cell_type": "code",
   "execution_count": 149,
   "metadata": {
    "collapsed": false
   },
   "outputs": [
    {
     "name": "stdout",
     "output_type": "stream",
     "text": [
      "The slowest run took 11.52 times longer than the fastest. This could mean that an intermediate result is being cached.\n",
      "100000 loops, best of 3: 8.42 µs per loop\n",
      "The slowest run took 17.07 times longer than the fastest. This could mean that an intermediate result is being cached.\n",
      "100000 loops, best of 3: 9.56 µs per loop\n"
     ]
    }
   ],
   "source": [
    "x = np.random.random(10000) - 0.5\n",
    "%timeit np.absolute(x) > 0.1\n",
    "%timeit np.logical_and(x > 0.1, x < -0.1)"
   ]
  },
  {
   "cell_type": "code",
   "execution_count": 90,
   "metadata": {
    "collapsed": false
   },
   "outputs": [
    {
     "name": "stdout",
     "output_type": "stream",
     "text": [
      "The slowest run took 18.19 times longer than the fastest. This could mean that an intermediate result is being cached.\n",
      "1000000 loops, best of 3: 603 ns per loop\n",
      "The slowest run took 14.15 times longer than the fastest. This could mean that an intermediate result is being cached.\n",
      "1000000 loops, best of 3: 219 ns per loop\n"
     ]
    }
   ],
   "source": [
    "%timeit entries[0]['FatJetPt']\n",
    "%timeit entries['FatJetPt'][0]"
   ]
  },
  {
   "cell_type": "code",
   "execution_count": 89,
   "metadata": {
    "collapsed": false
   },
   "outputs": [
    {
     "name": "stdout",
     "output_type": "stream",
     "text": [
      "100 loops, best of 3: 5.22 ms per loop\n",
      "100 loops, best of 3: 3.28 ms per loop\n"
     ]
    }
   ],
   "source": [
    "def f1():\n",
    "    for entry in entries:\n",
    "        for jet in entry['FatJetPt']:\n",
    "            pass\n",
    "        \n",
    "def f2():\n",
    "    for jets in entries['FatJetPt']:\n",
    "        for jet in jets:\n",
    "            pass\n",
    "\n",
    "%timeit f1()\n",
    "%timeit f2()"
   ]
  }
 ],
 "metadata": {
  "kernelspec": {
   "display_name": "Python 2",
   "language": "python",
   "name": "python2"
  },
  "language_info": {
   "codemirror_mode": {
    "name": "ipython",
    "version": 2
   },
   "file_extension": ".py",
   "mimetype": "text/x-python",
   "name": "python",
   "nbconvert_exporter": "python",
   "pygments_lexer": "ipython2",
   "version": "2.7.12"
  }
 },
 "nbformat": 4,
 "nbformat_minor": 0
}
