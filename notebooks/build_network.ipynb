{
 "cells": [
  {
   "cell_type": "code",
   "execution_count": 1,
   "metadata": {
    "collapsed": true
   },
   "outputs": [],
   "source": [
    "import lasagne\n",
    "from lasagne.layers import *\n",
    "from lasagne.objectives import *\n",
    "from lasagne.regularization import regularize_network_params, l2\n",
    "from lasagne.updates import *\n",
    "from lasagne.init import *\n",
    "from lasagne.nonlinearities import rectify as relu\n",
    "from lasagne.nonlinearities import *\n",
    "import theano\n",
    "from theano import tensor as T\n",
    "import sys\n",
    "import numpy as np\n",
    "#enable importing of notebooks\n",
    "from nbfinder import NotebookFinder\n",
    "sys.meta_path.append(NotebookFinder())\n",
    "import inspect\n",
    "\n",
    "# from helper_fxns import get_best_box, get_detec_loss, get_iou, make_test_data, get_detec_acc, get_final_box\n",
    "# if __name__ == \"__main__\":\n",
    "#     from data_loader import load_classification_dataset, load_detection_dataset"
   ]
  },
  {
   "cell_type": "code",
   "execution_count": 2,
   "metadata": {
    "collapsed": false
   },
   "outputs": [],
   "source": [
    "def build_network(args, network):\n",
    "    X = T.tensor4('input_var')\n",
    "    Y = T.ivector('target_var')\n",
    "    #network = build_layers(args)\n",
    "    \n",
    "    '''write loss function equation'''\n",
    "    prediction = get_output(network, X)\n",
    "    loss = categorical_crossentropy(prediction, Y).mean()\n",
    "    weightsl2 = regularize_network_params(network, l2)\n",
    "    loss += args['weight_decay'] * weightsl2\n",
    "    \n",
    "    '''calculate test loss (cross entropy with no regularization) and accuracy'''\n",
    "    test_prediction = get_output(network, X, deterministic=True)\n",
    "    test_loss = categorical_crossentropy(test_prediction, Y).mean()\n",
    "    \n",
    "    \n",
    "    '''classification percentage: we can change this based on false postive/false negative criteria'''\n",
    "    test_acc = categorical_accuracy(test_prediction,Y).mean()\n",
    "    params = get_all_params(network, trainable=True)\n",
    "    \n",
    "    updates = adam(loss, learning_rate=args['learning_rate'], params=params)\n",
    "    #updates = nesterov_momentum(loss, params, learning_rate=args['learning_rate'], momentum=args['momentum'])\n",
    "    \n",
    "    \n",
    "    '''train_fn -> takes in input,label pairs -> outputs loss '''\n",
    "    train_fn = theano.function([X, Y], loss, updates=updates)\n",
    "    \n",
    "    \n",
    "    '''val_fn -> takes in input,label pairs -> outputs non regularized loss and accuracy '''\n",
    "    val_fn = theano.function([X, Y], test_loss)\n",
    "    acc_fn = theano.function([X, Y], test_acc)\n",
    "    out_fn = theano.function([X], test_prediction)\n",
    "    return {\"net\":network}, {'tr': train_fn, \n",
    "                            'val': val_fn,\n",
    "                            'acc': acc_fn,\n",
    "                            'out': out_fn}\n",
    "\n",
    "def build_layers(args):\n",
    "    \n",
    "    conv_kwargs = dict(num_filters=args['num_filters'], filter_size=3, pad=1, nonlinearity=relu, W=HeNormal(gain=\"relu\"))\n",
    "    network = InputLayer(shape=args['input_shape'])\n",
    "    for lay in range(args['num_layers']):\n",
    "        network = batch_norm(Conv2DLayer(network, **conv_kwargs))\n",
    "        network = MaxPool2DLayer(network, pool_size=(2,2),stride=2)\n",
    "    network = dropout(network, p=args['dropout_p'])\n",
    "    network = DenseLayer(network,num_units=args['num_fc_units'], nonlinearity=relu) \n",
    "    network = dropout(network, p=args['dropout_p'])\n",
    "    network = DenseLayer(network, num_units=2, nonlinearity=softmax)\n",
    "    \n",
    "    for layer in get_all_layers(network):\n",
    "        args[\"logger\"].info(str(layer) + str(layer.output_shape))\n",
    "    print count_params(layer)\n",
    "    \n",
    "    return network"
   ]
  },
  {
   "cell_type": "code",
   "execution_count": 6,
   "metadata": {
    "collapsed": true
   },
   "outputs": [],
   "source": [
    "\n",
    "    "
   ]
  },
  {
   "cell_type": "code",
   "execution_count": null,
   "metadata": {
    "collapsed": true
   },
   "outputs": [],
   "source": [
    "# def auc(pred,gt):\n",
    "    \n",
    "    "
   ]
  },
  {
   "cell_type": "code",
   "execution_count": 22,
   "metadata": {
    "collapsed": false
   },
   "outputs": [],
   "source": [
    "if __name__ == \"__main__\":\n",
    "    train_fn, val_fn, network =build_network()"
   ]
  }
 ],
 "metadata": {
  "anaconda-cloud": {},
  "kernelspec": {
   "display_name": "deeplearning",
   "language": "python",
   "name": "deeplearning"
  },
  "language_info": {
   "codemirror_mode": {
    "name": "ipython",
    "version": 2
   },
   "file_extension": ".py",
   "mimetype": "text/x-python",
   "name": "python",
   "nbconvert_exporter": "python",
   "pygments_lexer": "ipython2",
   "version": "2.7.12"
  }
 },
 "nbformat": 4,
 "nbformat_minor": 0
}
