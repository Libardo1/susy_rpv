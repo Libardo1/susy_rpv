{
 "cells": [
  {
   "cell_type": "code",
   "execution_count": 1,
   "metadata": {
    "collapsed": true
   },
   "outputs": [],
   "source": [
    "__author__ = 'tkurth'\n",
    "import sys\n",
    "import os\n",
    "import numpy as np\n",
    "import pandas as pd\n",
    "from matplotlib import pyplot as plt\n",
    "import matplotlib.mlab as mlab\n",
    "from nbfinder import NotebookFinder\n",
    "sys.meta_path.append(NotebookFinder())\n",
    "%matplotlib inline\n",
    "import time\n",
    "import re\n",
    "import datetime as dt\n",
    "import h5py as h5"
   ]
  },
  {
   "cell_type": "markdown",
   "metadata": {},
   "source": [
    "# Useful Functions"
   ]
  },
  {
   "cell_type": "code",
   "execution_count": 2,
   "metadata": {
    "collapsed": true
   },
   "outputs": [],
   "source": [
    "# EXTRACTING\n",
    "def get_times_losses(all_lines):\n",
    "    dt0 = all_lines[0][0]\n",
    "    all_seconds = [(line[0]-dt0).total_seconds() % 86400 for line in all_lines]\n",
    "    all_losses = [line[3] for line in all_lines]\n",
    "    return all_seconds, all_losses\n",
    "\n",
    "# LOADING\n",
    "def load_results(log_file_name):\n",
    "    all_lines = []\n",
    "    with open(log_file_name, \"r\") as f:\n",
    "        for line in f.readlines():\n",
    "            if re.match('(.*)solver\\.cpp(.*)Iteration(.*)loss(.*)', line):\n",
    "                try:\n",
    "                    (\n",
    "                     _,time_field,pid,source_line,worker_id,check_iteration,\n",
    "                     niter,check_loss,check_equals,loss\n",
    "                    ) =line.split()\n",
    "                    assert(check_iteration==\"Iteration\")\n",
    "                    assert(check_loss==\"loss\")\n",
    "                    assert(check_equals=='=')\n",
    "                    loss=float(loss)\n",
    "                    niter=int(niter[:-1])\n",
    "                    worker_id = int(worker_id[1:-1])\n",
    "                    difft = dt.datetime.strptime(time_field, \"%H:%M:%S.%f\")\n",
    "                \n",
    "                    #append to dictionary\n",
    "                    new_line = {\"time\": difft, \"rank\": worker_id, \"iteration\": niter, \"loss\": loss}\n",
    "                \n",
    "                    all_lines.append(new_line)\n",
    "                except:\n",
    "                    continue\n",
    "    return all_lines"
   ]
  },
  {
   "cell_type": "markdown",
   "metadata": {},
   "source": [
    "# Logfiles HEP"
   ]
  },
  {
   "cell_type": "code",
   "execution_count": 3,
   "metadata": {
    "collapsed": true
   },
   "outputs": [],
   "source": [
    "directory='/global/cscratch1/sd/tkurth/atlas_dl/atlas_caffe/runs_preselect_augmented'\n",
    "iters_per_epoch=870\n",
    "window=1"
   ]
  },
  {
   "cell_type": "markdown",
   "metadata": {},
   "source": [
    "# Logfiles Fish"
   ]
  },
  {
   "cell_type": "code",
   "execution_count": null,
   "metadata": {
    "collapsed": true
   },
   "outputs": [],
   "source": [
    "directory='/global/cscratch1/sd/tkurth/fish_detection/models/VGGNet/SSD_300x300/run'\n",
    "iters_per_epoch=94\n",
    "window=1"
   ]
  },
  {
   "cell_type": "markdown",
   "metadata": {},
   "source": [
    "# Read Logfiles"
   ]
  },
  {
   "cell_type": "code",
   "execution_count": 4,
   "metadata": {
    "collapsed": false
   },
   "outputs": [],
   "source": [
    "output='training.out'\n",
    "\n",
    "logdf=pd.DataFrame(load_results(directory+'/'+output))\n",
    "\n",
    "#only keep latest element\n",
    "logdf=pd.DataFrame(logdf.groupby([\"iteration\",\"rank\"]).apply(lambda x: x[['time','loss']].iloc[-1]))\n",
    "logdf.reset_index(inplace=True)\n",
    "#logdf.rename(columns={0:''})\n",
    "\n",
    "#sort values\n",
    "logdf.sort_values(by=[\"iteration\",\"rank\",\"time\"],ascending=True,inplace=True)"
   ]
  },
  {
   "cell_type": "markdown",
   "metadata": {},
   "source": [
    "# Plot learning curve"
   ]
  },
  {
   "cell_type": "code",
   "execution_count": 5,
   "metadata": {
    "collapsed": false
   },
   "outputs": [
    {
     "name": "stderr",
     "output_type": "stream",
     "text": [
      "/global/common/cori/software/python/2.7-anaconda/envs/deeplearning/lib/python2.7/site-packages/ipykernel/__main__.py:4: FutureWarning: pd.rolling_mean is deprecated for Series and will be removed in a future version, replace with \n",
      "\tSeries.rolling(window=1,center=False).mean()\n"
     ]
    }
   ],
   "source": [
    "#average over nodes:\n",
    "plotdf=logdf.copy()\n",
    "plotdf=plotdf[[\"iteration\",\"loss\"]].groupby([\"iteration\"]).mean().reset_index()\n",
    "plotdf['loss']=pd.rolling_mean(plotdf[\"loss\"],window=window)\n",
    "plotdf['iteration']/=np.float(iters_per_epoch)"
   ]
  },
  {
   "cell_type": "code",
   "execution_count": 6,
   "metadata": {
    "collapsed": false
   },
   "outputs": [
    {
     "data": {
      "image/png": "[encoded data removed]",
      "text/plain": [
       "<matplotlib.figure.Figure at 0x2ae658725a50>"
      ]
     },
     "metadata": {},
     "output_type": "display_data"
    }
   ],
   "source": [
    "#plot the data\n",
    "plt.figure()\n",
    "lw = 2\n",
    "#full curve\n",
    "plt.plot(plotdf.iteration, plotdf.loss, color='darkorange', lw=lw, label='Training Curve')\n",
    "plt.xlabel('epochs')\n",
    "plt.ylabel('loss')\n",
    "plt.yscale('log')\n",
    "plt.legend(loc=\"upper right\")\n",
    "plt.savefig('plots/learning_curve.png',dpi=300)"
   ]
  },
  {
   "cell_type": "code",
   "execution_count": null,
   "metadata": {
    "collapsed": true
   },
   "outputs": [],
   "source": []
  }
 ],
 "metadata": {
  "kernelspec": {
   "display_name": "Python [deeplearning]",
   "language": "python",
   "name": "Python [deeplearning]"
  },
  "language_info": {
   "codemirror_mode": {
    "name": "ipython",
    "version": 2
   },
   "file_extension": ".py",
   "mimetype": "text/x-python",
   "name": "python",
   "nbconvert_exporter": "python",
   "pygments_lexer": "ipython2",
   "version": "2.7.12"
  }
 },
 "nbformat": 4,
 "nbformat_minor": 0
}
