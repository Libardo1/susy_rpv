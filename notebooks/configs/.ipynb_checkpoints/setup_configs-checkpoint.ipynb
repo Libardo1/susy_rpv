{
 "cells": [
  {
   "cell_type": "code",
   "execution_count": 1,
   "metadata": {
    "collapsed": false
   },
   "outputs": [
    {
     "ename": "ImportError",
     "evalue": "No module named notebooks.load_data.data_loader",
     "output_type": "error",
     "traceback": [
      "\u001b[0;31m-------------------------------------------------------------------------\u001b[0m",
      "\u001b[0;31mImportError\u001b[0m                             Traceback (most recent call last)",
      "\u001b[0;32m<ipython-input-1-f6b4351481e8>\u001b[0m in \u001b[0;36m<module>\u001b[0;34m()\u001b[0m\n\u001b[1;32m      4\u001b[0m \u001b[0;32mimport\u001b[0m \u001b[0margparse\u001b[0m\u001b[0;34m\u001b[0m\u001b[0m\n\u001b[1;32m      5\u001b[0m \u001b[0;32mfrom\u001b[0m \u001b[0mos\u001b[0m\u001b[0;34m.\u001b[0m\u001b[0mpath\u001b[0m \u001b[0;32mimport\u001b[0m \u001b[0mjoin\u001b[0m\u001b[0;34m\u001b[0m\u001b[0m\n\u001b[0;32m----> 6\u001b[0;31m \u001b[0;32mfrom\u001b[0m \u001b[0mnotebooks\u001b[0m\u001b[0;34m.\u001b[0m\u001b[0mload_data\u001b[0m\u001b[0;34m.\u001b[0m\u001b[0mdata_loader\u001b[0m \u001b[0;32mimport\u001b[0m \u001b[0mDataLoader\u001b[0m\u001b[0;34m,\u001b[0m \u001b[0mAnomalyLoader\u001b[0m\u001b[0;34m\u001b[0m\u001b[0m\n\u001b[0m\u001b[1;32m      7\u001b[0m \u001b[0;32mfrom\u001b[0m \u001b[0mnotebooks\u001b[0m\u001b[0;34m.\u001b[0m\u001b[0mnetworks\u001b[0m \u001b[0;32mimport\u001b[0m \u001b[0mbinary_classic_convnet\u001b[0m \u001b[0;32mas\u001b[0m \u001b[0mbcc\u001b[0m\u001b[0;34m\u001b[0m\u001b[0m\n\u001b[1;32m      8\u001b[0m \u001b[0;32mfrom\u001b[0m \u001b[0mnotebooks\u001b[0m\u001b[0;34m.\u001b[0m\u001b[0mnetworks\u001b[0m \u001b[0;32mimport\u001b[0m \u001b[0mconv_ae_anom\u001b[0m \u001b[0;32mas\u001b[0m \u001b[0mcaen\u001b[0m\u001b[0;34m\u001b[0m\u001b[0m\n",
      "\u001b[0;31mImportError\u001b[0m: No module named notebooks.load_data.data_loader"
     ]
    }
   ],
   "source": [
    "import sys\n",
    "from nbfinder import NotebookFinder\n",
    "sys.meta_path.append(NotebookFinder())\n",
    "import argparse\n",
    "from os.path import join\n",
    "from notebooks.load_data.data_loader import DataLoader, AnomalyLoader, DataIterator\n",
    "from notebooks.networks import binary_classifier as bc\n",
    "from notebooks.networks import anom_ae as aa\n",
    "from notebooks.util import create_run_dir, get_logger, dump_hyperparams"
   ]
  },
  {
   "cell_type": "code",
   "execution_count": 1,
   "metadata": {
    "collapsed": true
   },
   "outputs": [],
   "source": [
    "def setup_configs():\n",
    "    \n",
    "    default_args = {'input_shape': tuple([None] + [1, 64, 64]), \n",
    "                      'learning_rate': 0.0001, \n",
    "                      'dropout_p': 0.0, \n",
    "                      'weight_decay': 0.0,\n",
    "                      'num_filters': 128, \n",
    "                      'num_fc_units': 512,\n",
    "                      'num_layers': 3,\n",
    "                      'momentum': 0.9,\n",
    "                      'num_epochs': 20000,\n",
    "                      'batch_size': 128,\n",
    "                      \"save_path\": \"None\",\n",
    "                      \"event_frac\": 0.005,\n",
    "                      \"sig_eff_at\": 0.9996,\n",
    "                      \"test\":False, \"seed\": 7,\n",
    "                      \"mode\":\"classif\",\n",
    "                      \"ae\":False,\n",
    "                      \"tr_file\":\"/global/cscratch1/sd/racah/atlas_h5/train/train.h5\",\n",
    "                      \"val_file\": \"/global/cscratch1/sd/racah/atlas_h5/train/val.h5\",\n",
    "                      \"test_file\": \"/global/cscratch1/sd/racah/atlas_h5/test/test.h5\"\n",
    "                   }\n",
    "    \n",
    "    \n",
    "    # if inside a notebook, then get rid of weird notebook arguments, so that arg parsing still works\n",
    "    if any([\"jupyter\" in arg for arg in sys.argv]):\n",
    "        sys.argv=sys.argv[:1]\n",
    "\n",
    "\n",
    "    parser = argparse.ArgumentParser(formatter_class=argparse.ArgumentDefaultsHelpFormatter)\n",
    "    #make a command line argument for every flag in default args\n",
    "    for k,v in default_args.iteritems():\n",
    "        parser.add_argument('--' + k, type=type(v), default=v, help=k)\n",
    "\n",
    "    args = parser.parse_args()\n",
    "    \n",
    "    if args.save_path == \"None\":\n",
    "        save_path = None\n",
    "    else:\n",
    "        save_path = args.save_path\n",
    "\n",
    "\n",
    "    kwargs = default_args\n",
    "    kwargs.update(args.__dict__)\n",
    "    run_dir = create_run_dir(save_path)\n",
    "    kwargs['save_path'] = run_dir\n",
    "    kwargs[\"logger\"] = get_logger(kwargs['save_path'])\n",
    "    \n",
    "    \n",
    "    loader_kwargs = dict(groupname=\"all_events\",\n",
    "                         batch_size=128, \n",
    "                         keys=[\"hist\", \"weight\", \"normalized_weight\", \"y\"])\n",
    "    \n",
    "    kwargs[\"loader_kwargs\"] = loader_kwargs\n",
    "    trdi = DataIterator(kwargs[\"tr_file\"],**loader_kwargs)\n",
    "    valdi = DataIterator(kwargs[\"val_file\"],**loader_kwargs)\n",
    "    kwargs[\"tr_iterator\"] = trdi\n",
    "    kwargs[\"val_iterator\"] = valdi\n",
    "\n",
    "    kwargs[\"input_shape\"] = tuple([None,1] + list(trdi.hgroup[\"hist\"].shape[1:]))\n",
    "    kwargs[\"num_train\"], kwargs[\"num_val\"] = trdi.hgroup[\"hist\"].shape[0], valdi.hgroup[\"hist\"].shape[0]\n",
    "    kwargs[\"logger\"].info(str(kwargs))\n",
    "    \n",
    "    dump_hyperparams(dic=kwargs,path=kwargs[\"save_path\"])\n",
    "    if kwargs[\"ae\"]:\n",
    "        net = aa\n",
    "    else:\n",
    "        net = bc\n",
    "        \n",
    "    kwargs[\"net\"] = net\n",
    "\n",
    "    return kwargs"
   ]
  },
  {
   "cell_type": "code",
   "execution_count": null,
   "metadata": {
    "collapsed": true
   },
   "outputs": [],
   "source": []
  }
 ],
 "metadata": {
  "anaconda-cloud": {},
  "kernelspec": {
   "display_name": "Python 2",
   "language": "python",
   "name": "python2"
  },
  "language_info": {
   "codemirror_mode": {
    "name": "ipython",
    "version": 2
   },
   "file_extension": ".py",
   "mimetype": "text/x-python",
   "name": "python",
   "nbconvert_exporter": "python",
   "pygments_lexer": "ipython2",
   "version": "2.7.12"
  }
 },
 "nbformat": 4,
 "nbformat_minor": 2
}
