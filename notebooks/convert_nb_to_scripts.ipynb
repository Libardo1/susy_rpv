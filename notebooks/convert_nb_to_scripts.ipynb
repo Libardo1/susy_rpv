{
 "cells": [
  {
   "cell_type": "code",
   "execution_count": 2,
   "metadata": {
    "collapsed": false
   },
   "outputs": [
    {
     "name": "stdout",
     "output_type": "stream",
     "text": [
      "[NbConvertApp] Converting notebook ./BaselineSelectionTests.ipynb to script\n",
      "[NbConvertApp] Writing 6310 bytes to ./BaselineSelectionTests.py\n",
      "[NbConvertApp] Converting notebook ./KerasModels.ipynb to script\n",
      "[NbConvertApp] Writing 7726 bytes to ./KerasModels.py\n",
      "[NbConvertApp] Converting notebook ./PlotCaloClusters.ipynb to script\n",
      "[NbConvertApp] Writing 878 bytes to ./PlotCaloClusters.py\n",
      "[NbConvertApp] Converting notebook ./Untitled.ipynb to script\n",
      "[NbConvertApp] Writing 1397 bytes to ./Untitled.py\n",
      "[NbConvertApp] Converting notebook ./binary_classif_convnet.ipynb to script\n",
      "[NbConvertApp] Writing 5240 bytes to ./binary_classif_convnet.py\n",
      "[NbConvertApp] Converting notebook ./conv_ae_anom.ipynb to script\n",
      "[NbConvertApp] Writing 5157 bytes to ./conv_ae_anom.py\n",
      "[NbConvertApp] Converting notebook ./convert_nb_to_scripts.ipynb to script\n",
      "[NbConvertApp] Writing 1306 bytes to ./convert_nb_to_scripts.py\n",
      "[NbConvertApp] Converting notebook ./data_loader.ipynb to script\n",
      "[NbConvertApp] Writing 11521 bytes to ./data_loader.py\n",
      "[NbConvertApp] Converting notebook ./helper_fxns.ipynb to script\n",
      "[NbConvertApp] Writing 4521 bytes to ./helper_fxns.py\n",
      "[NbConvertApp] Converting notebook ./objectives.ipynb to script\n",
      "[NbConvertApp] Writing 3367 bytes to ./objectives.py\n",
      "[NbConvertApp] Converting notebook ./print_n_plot.ipynb to script\n",
      "[NbConvertApp] Writing 4416 bytes to ./print_n_plot.py\n",
      "[NbConvertApp] Converting notebook ./train_val.ipynb to script\n",
      "[NbConvertApp] Writing 8871 bytes to ./train_val.py\n"
     ]
    }
   ],
   "source": [
    "! jupyter nbconvert --to script ./*.ipynb\n",
    "\n",
    "import os\n",
    "import sys\n",
    "\n",
    "#.txt means file was open/not saved so converted to .txt not .py\n",
    "for fil in os.listdir('.'):\n",
    "    assert '.txt' not in fil, \"Save all your notebooks first or at least make sure each cell runs!\"\n",
    "        \n",
    "! mv nbfinder.py nbfinder.pyc      \n",
    "\n",
    "! sed -i.bak 's/# coding: utf-8/import matplotlib; matplotlib.use(\"agg\")/g' ./*.py\n",
    "\n",
    "#get rid of IN[] lines\n",
    "!sed -i.bak '/# IN\\[*/d' ./*.py\n",
    "\n",
    "#get rid of ipython lines\n",
    "!sed -i.bak '/ipython*/d' ./*.py\n",
    "\n",
    "!sed -i.bak '/NotebookFinder*/d' ./*.py\n",
    "\n",
    "#get rid of IN[] lines\n",
    "!sed -i.bak '/# In\\[*/d' ./*.py\n",
    "\n",
    "!sed -i.bak '/# coding:*/d' ./*.py\n",
    "\n",
    "!sed -i.bak 's/plt.show()*/pass/g' ./*.py\n",
    "\n",
    "! rm *.bak\n",
    "! rm convert_nb_to_scripts.py\n",
    "\n",
    "#move to scripts\n",
    "\n",
    "! mv __init__.py __init__.pyc\n",
    "! mv *.py ../scripts\n",
    "\n",
    "#make sure nb finder and __init__ aren't moved\n",
    "! mv nbfinder.pyc nbfinder.py\n",
    "! mv __init__.pyc __init__.py\n",
    "\n"
   ]
  },
  {
   "cell_type": "code",
   "execution_count": null,
   "metadata": {
    "collapsed": true
   },
   "outputs": [],
   "source": []
  }
 ],
 "metadata": {
  "anaconda-cloud": {},
  "kernelspec": {
   "display_name": "Python 2.7",
   "language": "python",
   "name": "python2.7"
  },
  "language_info": {
   "codemirror_mode": {
    "name": "ipython",
    "version": 2
   },
   "file_extension": ".py",
   "mimetype": "text/x-python",
   "name": "python",
   "nbconvert_exporter": "python",
   "pygments_lexer": "ipython2",
   "version": "2.7.12"
  }
 },
 "nbformat": 4,
 "nbformat_minor": 0
}
