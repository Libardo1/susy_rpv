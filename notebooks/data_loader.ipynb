{
 "cells": [
  {
   "cell_type": "code",
   "execution_count": 1,
   "metadata": {
    "collapsed": false
   },
   "outputs": [],
   "source": [
    "__author__ = 'racah'\n",
    "import numpy as np\n",
    "import pandas as pd\n",
    "from matplotlib import pyplot as plt\n",
    "from sklearn import preprocessing\n",
    "from sklearn.cross_validation import train_test_split\n",
    "from nbfinder import NotebookFinder\n",
    "import sys\n",
    "import os\n",
    "sys.meta_path.append(NotebookFinder())\n",
    "%matplotlib inline"
   ]
  },
  {
   "cell_type": "code",
   "execution_count": 2,
   "metadata": {
    "collapsed": false
   },
   "outputs": [],
   "source": [
    "def load_data(\n",
    "    bg_cfg_file = './config/BgFileListAug16.txt',\n",
    "    sig_cfg_file='./config/SignalFileListAug16.txt',\n",
    "    group_name='CollectionTree',\n",
    "    branches=['CaloCalTopoClustersAuxDyn.calPhi', 'CaloCalTopoClustersAuxDyn.calEta','CaloCalTopoClustersAuxDyn.calE'],\n",
    "    num_events=1000,\n",
    "    preprocess=True,\n",
    "    bin_size=0.025,\n",
    "    eta_range = [-5,5],\n",
    "    phi_range = [-3.14, 3.14],\n",
    "    num_files=None,\n",
    "    dataset_name='histo', \n",
    "    type='root'):\n",
    "  \n",
    "    assert num_events % 2 == 0, \"why an odd number for num_events?!, even please\"\n",
    "    num_each = num_events / 2\n",
    "    bg_path = [line.rstrip() for line in open(bg_cfg_file)]\n",
    "    sig_path = [line.rstrip() for line in open(sig_cfg_file)]\n",
    "    if type == 'hdf':\n",
    "        bgdf = pd.read_hdf(bg_path, group_name)\n",
    "        sigdf = pd.read_hdf(sig_path, group_name)\n",
    "        x_bg = bgdf[dataset_name][:num_each]\n",
    "        x_sig = sigdf[dataset_name][:num_each]\n",
    "        #background first\n",
    "        x_concat = np.hstack((x_bg, x_sig))\n",
    "        dim_x, dim_y = x_bg[0].shape\n",
    "        x = np.zeros((num_events ,dim_x, dim_y ))\n",
    "        for i in range(num_events):\n",
    "            x[i] = x_concat[i]\n",
    "        # add a channel size of 1 as a place holder\n",
    "        x = np.expand_dims(x,axis=1)\n",
    "        \n",
    "    if type == 'root':\n",
    "        sys.path.append('/global/homes/w/wbhimji/cori-envs/nersc-rootpy/lib/python2.7/site-packages/')\n",
    "        import ROOT\n",
    "        import rootpy\n",
    "        import root_numpy as rnp\n",
    "        if num_files is not None:\n",
    "            assert num_files > 1, \"everything works better if num_files is more than one\"\n",
    "                \n",
    "            bgarray = rnp.root2array(bg_path[:num_files], treename=group_name,branches=branches, start=0, stop=num_each,warn_missing_tree=True)\n",
    "            sigarray = rnp.root2array(sig_path[:num_files], treename=group_name, branches=branches, start=0, stop=num_each,warn_missing_tree=True)\n",
    "\n",
    "        else: \n",
    "            bgarray = rnp.root2array(bg_path, treename=group_name,branches=branches, start=0, stop=num_each,warn_missing_tree=True)\n",
    "            sigarray = rnp.root2array(sig_path, treename=group_name, branches=branches, start=0, stop=num_each,warn_missing_tree=True)\n",
    "        \n",
    "        \n",
    "        \n",
    "        bgdf = pd.DataFrame.from_records(bgarray)\n",
    "\n",
    "        sigdf = pd.DataFrame.from_records(sigarray)\n",
    "        \n",
    "        phi_bins = int(np.floor((phi_range[1] - phi_range[0]) / bin_size))\n",
    "        eta_bins = int(np.floor((eta_range[1] - eta_range[0]) / bin_size))\n",
    "        \n",
    "        \n",
    "        x_bg = np.zeros((num_each,1,phi_bins, eta_bins ))\n",
    "        x_sig = np.zeros((num_each,1,phi_bins, eta_bins ))\n",
    "        \n",
    "        #num events is now num each\n",
    "        for i in range(num_each):\n",
    "            phi, eta, E =  bgdf['CaloCalTopoClustersAuxDyn.calPhi'][i],bgdf['CaloCalTopoClustersAuxDyn.calEta'][i],\\\n",
    "                bgdf['CaloCalTopoClustersAuxDyn.calE'][i]\n",
    "            x_bg[i] = np.histogram2d(phi,eta, bins=(phi_bins, eta_bins), weights=E, range=[phi_range,eta_range])[0]\n",
    "            phi, eta, E =  sigdf['CaloCalTopoClustersAuxDyn.calPhi'][i],sigdf['CaloCalTopoClustersAuxDyn.calEta'][i],\\\n",
    "                sigdf['CaloCalTopoClustersAuxDyn.calE'][i]\n",
    "            x_sig[i] = np.histogram2d(phi,eta, bins=(phi_bins, eta_bins), weights=E, range=[phi_range,eta_range])[0]\n",
    "\n",
    "        #background first\n",
    "        x = np.vstack((x_bg, x_sig))      \n",
    "    \n",
    "        # 1 means signal, 0 means background\n",
    "        y = np.zeros((num_events,)).astype('int32')\n",
    "        #make the last half signal label\n",
    "        y[num_each:] = 1\n",
    "\n",
    "\n",
    "        #shuffle examples\n",
    "        rng = np.random.RandomState(seed=9)\n",
    "\n",
    "        inds = np.arange(num_events)\n",
    "\n",
    "        rng.shuffle(inds)\n",
    "\n",
    "        #split train, val, test\n",
    "        tr_inds = inds[:int(0.6*num_events)] \n",
    "        val_inds = inds[int(0.6*num_events):int(0.8*num_events)]\n",
    "        te_inds = inds[int(0.8*num_events):]\n",
    "\n",
    "        x_tr, y_tr, x_val, y_val, x_te, y_te = x[tr_inds], y[tr_inds], \\\n",
    "                                               x[val_inds], y[val_inds], \\\n",
    "                                               x[te_inds], y[te_inds]\n",
    "        if preprocess:\n",
    "            '''a type of sparse preprocessing, which scales everything between -1 and 1 without losing sparsity'''\n",
    "            #only calculate the statistic using training set\n",
    "            max_abs=np.abs(x_tr).max(axis=(0,1,2,3))\n",
    "\n",
    "            #then scale all sets\n",
    "            x_tr /= max_abs\n",
    "            x_te /= max_abs\n",
    "            x_val /= max_abs\n",
    "    \n",
    "        \n",
    " \n",
    "    \n",
    "        return x_tr, y_tr, x_val, y_val, x_te, y_te\n",
    "    "
   ]
  },
  {
   "cell_type": "code",
   "execution_count": 22,
   "metadata": {
    "collapsed": false,
    "scrolled": true
   },
   "outputs": [
    {
     "data": {
      "image/png": "[encoded data removed]",
      "text/plain": [
       "<matplotlib.figure.Figure at 0x2ab86ee33ad0>"
      ]
     },
     "metadata": {},
     "output_type": "display_data"
    },
    {
     "name": "stderr",
     "output_type": "stream",
     "text": [
      "\r\n",
      "tab completion not implemented for this context\r\n",
      "\r\n",
      "tab completion not implemented for this context\r\n"
     ]
    }
   ],
   "source": [
    "if __name__==\"__main__\":\n",
    "    data = load_data(type='root', num_events=50, num_files=2, preprocess=False, bin_size=0.2,    bg_cfg_file = '../config/BgFileListAug16.txt',\n",
    "    sig_cfg_file='../config/SignalFileListAug16.txt')\n",
    "    x,y,xv,yv,x_te,y_te = data\n",
    "    plt.imshow(x[11][0],extent=[-3.15, 3.15, -5, 5], interpolation='none',aspect='auto', origin='low')\n"
   ]
  },
  {
   "cell_type": "code",
   "execution_count": 26,
   "metadata": {
    "collapsed": false
   },
   "outputs": [
    {
     "data": {
      "text/plain": [
       "31.4"
      ]
     },
     "execution_count": 26,
     "metadata": {},
     "output_type": "execute_result"
    }
   ],
   "source": [
    "6.28 / 0.2"
   ]
  },
  {
   "cell_type": "code",
   "execution_count": 24,
   "metadata": {
    "collapsed": false
   },
   "outputs": [
    {
     "name": "stderr",
     "output_type": "stream",
     "text": [
      "\r\n",
      "variable \"np\" not defined.\r\n",
      "\r\n",
      "variable \"np.his\" not defined.\r\n"
     ]
    }
   ],
   "source": [
    "a = np.histogram2d?"
   ]
  },
  {
   "cell_type": "code",
   "execution_count": null,
   "metadata": {
    "collapsed": true
   },
   "outputs": [],
   "source": [
    "a = np.histogram2d"
   ]
  },
  {
   "cell_type": "code",
   "execution_count": 23,
   "metadata": {
    "collapsed": false
   },
   "outputs": [
    {
     "data": {
      "text/plain": [
       "<matplotlib.colorbar.Colorbar at 0x2ab86f3fb810>"
      ]
     },
     "execution_count": 23,
     "metadata": {},
     "output_type": "execute_result"
    },
    {
     "data": {
      "image/png": "[encoded data removed]",
      "text/plain": [
       "<matplotlib.figure.Figure at 0x2ab86f307a10>"
      ]
     },
     "metadata": {},
     "output_type": "display_data"
    }
   ],
   "source": [
    "plt.figure(figsize=(20,20))\n",
    "plt.imshow(np.log10(x[y==1.][5][0]),extent=[-3.15, 3.15, -5, 5], interpolation='none',aspect='auto', origin='low')\n",
    "#plt.xlabel('')\n",
    "plt.colorbar()"
   ]
  },
  {
   "cell_type": "code",
   "execution_count": null,
   "metadata": {
    "collapsed": true
   },
   "outputs": [],
   "source": []
  }
 ],
 "metadata": {
  "anaconda-cloud": {},
  "kernelspec": {
   "display_name": "deeplearning_plus_root",
   "language": "python",
   "name": "deeplearning_plus_root"
  },
  "language_info": {
   "codemirror_mode": {
    "name": "ipython",
    "version": 2
   },
   "file_extension": ".py",
   "mimetype": "text/x-python",
   "name": "python",
   "nbconvert_exporter": "python",
   "pygments_lexer": "ipython2",
   "version": "2.7.12"
  }
 },
 "nbformat": 4,
 "nbformat_minor": 0
}
