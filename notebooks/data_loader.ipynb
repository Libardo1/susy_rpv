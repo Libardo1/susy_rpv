{
 "cells": [
  {
   "cell_type": "code",
   "execution_count": 11,
   "metadata": {
    "collapsed": false
   },
   "outputs": [
    {
     "data": {
      "application/javascript": [
       "require(['codemirror/mode/clike/clike'], function(Clike) { console.log('ROOTaaS - C++ CodeMirror module loaded'); });"
      ]
     },
     "metadata": {},
     "output_type": "display_data"
    },
    {
     "data": {
      "application/javascript": [
       "IPython.CodeCell.config_defaults.highlight_modes['magic_text/x-c++src'] = {'reg':[/^%%cpp/]};"
      ]
     },
     "metadata": {},
     "output_type": "display_data"
    },
    {
     "name": "stdout",
     "output_type": "stream",
     "text": [
      "Welcome to ROOTaaS 6.06/06\n"
     ]
    }
   ],
   "source": [
    "__author__ = 'racah'\n",
    "import numpy as np\n",
    "import pandas as pd\n",
    "from matplotlib import pyplot as plt\n",
    "from sklearn import preprocessing\n",
    "from sklearn.cross_validation import train_test_split\n",
    "from nbfinder import NotebookFinder\n",
    "import sys\n",
    "import os\n",
    "sys.meta_path.append(NotebookFinder())\n",
    "%matplotlib inline\n",
    "import time\n",
    "import h5py\n",
    "\n",
    "#sys.path.append('/global/homes/w/wbhimji/cori-envs/nersc-rootpy/lib/python2.7/site-packages/')\n"
   ]
  },
  {
   "cell_type": "code",
   "execution_count": 3,
   "metadata": {
    "collapsed": false
   },
   "outputs": [],
   "source": [
    "def shuffle(x,y):\n",
    "    inds = np.arange(x.shape[0])\n",
    "\n",
    "    #shuffle data\n",
    "    rng = np.random.RandomState(7)\n",
    "    rng.shuffle(inds)\n",
    "    return x[inds], y[inds]\n",
    "\n",
    "def split_train_val(x,y, prop):\n",
    "    tr_prop = 1 - prop\n",
    "    inds = np.arange(x.shape[0])\n",
    "    #split train, val, test\n",
    "    tr_inds = inds[:int((tr_prop*len(inds)))]\n",
    "    val_inds = inds[int(tr_prop*len(inds)):]\n",
    "\n",
    "    x_tr, y_tr, x_val, y_val = x[tr_inds], y[tr_inds], x[val_inds], y[val_inds]\n",
    "    return x_tr, y_tr, x_val, y_val\n",
    "\n",
    "\n",
    "\n",
    "def preprocess(x, max_abs=None):\n",
    "    '''a type of sparse preprocessing, which scales everything between -1 and 1 without losing sparsity'''\n",
    "    #only calculate the statistic using training set\n",
    "    if max_abs is None:\n",
    "        max_abs=np.abs(x).max(axis=(0,1,2,3))\n",
    "\n",
    "    #then scale all sets\n",
    "    x /= max_abs\n",
    "    #print np.max(x)\n",
    "    #print np.min(x)\n",
    "    return x, max_abs\n"
   ]
  },
  {
   "cell_type": "code",
   "execution_count": 3,
   "metadata": {
    "collapsed": true
   },
   "outputs": [],
   "source": [
    "# Define a context manager to suppress stdout and stderr.\n",
    "class suppress_stdout_stderr(object):\n",
    "    '''\n",
    "    A context manager for doing a \"deep suppression\" of stdout and stderr in \n",
    "    Python, i.e. will suppress all print, even if the print originates in a \n",
    "    compiled C/Fortran sub-function.\n",
    "       This will not suppress raised exceptions, since exceptions are printed\n",
    "    to stderr just before a script exits, and after the context manager has\n",
    "    exited (at least, I think that is why it lets exceptions through).      \n",
    "\n",
    "    '''\n",
    "    def __init__(self):\n",
    "        # Open a pair of null files\n",
    "        self.null_fds =  [os.open(os.devnull,os.O_RDWR) for x in range(2)]\n",
    "        # Save the actual stdout (1) and stderr (2) file descriptors.\n",
    "        self.save_fds = (os.dup(1), os.dup(2))\n",
    "\n",
    "    def __enter__(self):\n",
    "        # Assign the null pointers to stdout and stderr.\n",
    "        os.dup2(self.null_fds[0],1)\n",
    "        os.dup2(self.null_fds[1],2)\n",
    "\n",
    "    def __exit__(self, *_):\n",
    "        # Re-assign the real stdout/stderr back to (1) and (2)\n",
    "        os.dup2(self.save_fds[0],1)\n",
    "        os.dup2(self.save_fds[1],2)\n",
    "        # Close the null files\n",
    "        os.close(self.null_fds[0])\n",
    "        os.close(self.null_fds[1])"
   ]
  },
  {
   "cell_type": "code",
   "execution_count": 4,
   "metadata": {
    "collapsed": false
   },
   "outputs": [],
   "source": [
    "class DataLoader(object):\n",
    "    def __init__(self, bg_cfg_file = './config/BgFileListAug16.txt',\n",
    "                sig_cfg_file='./config/SignalFileListAug16.txt',\n",
    "                type_ = \"hdf5\",\n",
    "                num_events=50000,\n",
    "                preprocess=True,\n",
    "                bin_size=0.025,\n",
    "                eta_range = [-5,5],\n",
    "                phi_range = [-3.14, 3.14], val_prop=0.2, use_premade=False):\n",
    "        \n",
    "        \n",
    "        self.bg_files = bg_cfg_file if isinstance(bg_cfg_file, list) else [bg_cfg_file]\n",
    "        self.sig_files = sig_cfg_file if isinstance(sig_cfg_file, list) else [sig_cfg_file]\n",
    "        self.val_prop = val_prop\n",
    "        self.phi_bins = int(np.floor((phi_range[1] - phi_range[0]) / bin_size))\n",
    "        self.eta_bins = int(np.floor((eta_range[1] - eta_range[0]) / bin_size))\n",
    "        self.eta_range = eta_range\n",
    "        self.phi_range = phi_range\n",
    "        #we assume there are more bg per file than sig, so we bound our number of files by number of files\n",
    "        #needed for a sig event\n",
    "        assert num_events % 2 == 0, \"why an odd number for num_events?!, even please\"\n",
    "        self.num_each = num_events / 2\n",
    "\n",
    "        self.use_premade = use_premade\n",
    "        self.type_ = type_\n",
    "        \n",
    "        if type_ == \"xaod\" or type_ == \"delphes\":\n",
    "            self.file_type = \"root\"\n",
    "            import ROOT\n",
    "            import rootpy\n",
    "            import root_numpy as rnp\n",
    "            self.set_root_cfgs()\n",
    "        else:\n",
    "            self.file_type = \"hdf5\"\n",
    "            self.set_h5_cfgs()\n",
    "            \n",
    "    def set_h5_cfgs(self):\n",
    "        self.group_prefix = \"event_\"\n",
    "        self.h5keys = ['clusE',\n",
    "         'clusEta',\n",
    "         'clusPhi']\n",
    "         \n",
    "                       \n",
    "#                        u'hist',\n",
    "#          u'mGlu',\n",
    "#          u'mNeu',\n",
    "#          u'passSR',\n",
    "#          u'weight']\n",
    "        \n",
    "        \n",
    "\n",
    "    def set_data_cfgs(self):\n",
    "        self.events_per_sig_file = 10000\n",
    "        self.bg_files = [line.rstrip() for line in open(self.bg_cfg_files)]\n",
    "        self.sig_files = [line.rstrip() for line in open(self.sig_cfg_files)]\n",
    "        #get the number of files needed\n",
    "        num_files = int(np.ceil(self.num_each / float(self.events_per_sig_file)))\n",
    "\n",
    "        #because root does not do well with one file\n",
    "        self.num_files = num_files if num_files > 1 else 2\n",
    "        \n",
    "        \n",
    "\n",
    "        if self.type_ == \"delphes\":\n",
    "            self.branchMap = {\n",
    "               'Tower.Eta' : 'ClusEta',\n",
    "               'Tower.Phi' : 'ClusPhi',\n",
    "               'Tower.E' : 'ClusE',\n",
    "               'FatJet.PT' : 'FatJetPt',\n",
    "               'FatJet.Eta' : 'FatJetEta',\n",
    "               'FatJet.Phi' : 'FatJetPhi',\n",
    "               'FatJet.Mass' : 'FatJetM',\n",
    "            }\n",
    "\n",
    "            self.treename = 'Delphes'\n",
    "        elif self.type_ == \"xaod\":\n",
    "            \n",
    "\n",
    "\n",
    "            self.branch_map = {\n",
    "                            'CaloCalTopoClustersAuxDyn.calEta' : 'ClusEta',\n",
    "                            'CaloCalTopoClustersAuxDyn.calPhi' : 'ClusPhi',\n",
    "                            'CaloCalTopoClustersAuxDyn.calE' : 'ClusE',\n",
    "                            'AntiKt10LCTopoTrimmedPtFrac5SmallR20JetsAux.pt' : 'FatJetPt',\n",
    "                            'AntiKt10LCTopoTrimmedPtFrac5SmallR20JetsAux.eta' : 'FatJetEta',\n",
    "                            'AntiKt10LCTopoTrimmedPtFrac5SmallR20JetsAux.phi' : 'FatJetPhi',\n",
    "                            'AntiKt10LCTopoTrimmedPtFrac5SmallR20JetsAux.m' : 'FatJetM',\n",
    "                        }\n",
    "\n",
    "            self.treename='CollectionTree'\n",
    "    \n",
    "\n",
    "    def grab_events(self, file_list, num_files_or_events, start=0):\n",
    "        if self.file_type == \"root\":\n",
    "            x = self._grab_root_events(file_list, num_files_or_events,start)\n",
    "        else:\n",
    "            X=[]\n",
    "            for file_ in file_list:\n",
    "                x = self._grab_hdf5_events(file_, num_files_or_events / len(file_list), start)\n",
    "                X.append(x)\n",
    "            x = np.vstack(tuple(X))\n",
    "        return x\n",
    "            \n",
    "    \n",
    "    def _grab_hdf5_events(self,file_, num_events, start):\n",
    "        h5f = h5py.File(file_)\n",
    "        \n",
    "        if self.use_premade:\n",
    "            x = np.zeros((num_events, 1, 50,50 ))\n",
    "        else:\n",
    "            x = np.zeros((num_events, 1, self.phi_bins, self.eta_bins ))\n",
    "        for cnt, i in enumerate(range(start, num_events)):\n",
    "            event = h5f[self.group_prefix + str(i)]\n",
    "            if self.use_premade:\n",
    "                x[cnt][0] = event[\"hist\"][:]\n",
    "            else:\n",
    "                #print event.keys()\n",
    "                d = {k.lower():event[k] for k in self.h5keys }\n",
    "                x[cnt][0] = self.make_hist(d)\n",
    "        return x\n",
    "        \n",
    "        \n",
    "        \n",
    "    def _grab_root_events(self,file_list, num_files, start=0):\n",
    "        #so we don't have annoying stderr messages\n",
    "        with suppress_stdout_stderr():\n",
    "\n",
    "            #bgarray has n_events groups of 3 parallel numpy arrays \n",
    "            #(each numpy within a group is of equal length and each array corresponds to phi, eta and the corresponding energy)\n",
    "            array = rnp.root2array(file_list[:num_files],\n",
    "                                     treename=self.treename,\n",
    "                                     branches=self.branch_map.keys(),\n",
    "                                     start=start,\n",
    "                                     stop=self.num_each,\n",
    "                                     warn_missing_tree=True)\n",
    "\n",
    "\n",
    "\n",
    "\n",
    "        x = np.zeros((self.num_each, 1, self.phi_bins, self.eta_bins ))\n",
    "\n",
    "        for i in range(self.num_each):\n",
    "            d = {v.lower() : array[k][i] for k,v in branch_map.iteritems()}\n",
    "            x[i][0] = self.make_hist(d) \n",
    "            \n",
    "        return x\n",
    "            \n",
    "    def make_hist(self, d):\n",
    "        \n",
    "        return np.histogram2d(d['clusphi'],d['cluseta'], bins=(self.phi_bins, self.eta_bins),\n",
    "                              weights=d[\"cluse\"], range=[self.phi_range,self.eta_range])[0] \n",
    "\n",
    "   \n",
    "\n",
    "\n",
    "    def load_data(self):\n",
    "        num = self.num_files if self.file_type == \"root\" else self.num_each\n",
    "        x_bg = self.grab_events(self.bg_files, num)\n",
    "        x_sig = self.grab_events(self.sig_files, num)\n",
    "\n",
    "        #background first\n",
    "        x = np.vstack((x_bg, x_sig))\n",
    "\n",
    "        # 1 means signal, 0 means background\n",
    "        y = np.zeros((2*self.num_each,)).astype('int32')\n",
    "        #make the last half signal label\n",
    "        y[self.num_each:] = 1\n",
    "        \n",
    "        x,y = shuffle(x,y)\n",
    "        xt,yt,xv,yv = split_train_val(x,y, self.val_prop)\n",
    "        xt,tm = preprocess(xt)\n",
    "        xv, _ = preprocess(xv,tm)\n",
    "        return xt, yt, xv, yv \n",
    "    \n",
    "    def iterate_data(self, batch_size=128):\n",
    "#         if self.num_each < batch_size / 2:\n",
    "#             batch_size = 2 * self.num_each\n",
    "#         #only support for hdf5\n",
    "#         for i in range(0, self.num_each, batch_size / 2):\n",
    "#             x_bg = self.grab_events(self.bg_files, batch_size / 2, i)\n",
    "#             x_sig = self.grab_events(self.sig_files, batch_size / 2, i)\n",
    "        pass\n"
   ]
  },
  {
   "cell_type": "code",
   "execution_count": 4,
   "metadata": {
    "collapsed": false,
    "scrolled": true
   },
   "outputs": [
    {
     "ename": "NameError",
     "evalue": "global name 'np' is not defined",
     "output_type": "error",
     "traceback": [
      "\u001b[0;31m\u001b[0m",
      "\u001b[0;31mNameError\u001b[0mTraceback (most recent call last)",
      "\u001b[0;32m<ipython-input-4-8dfbc9408050>\u001b[0m in \u001b[0;36m<module>\u001b[0;34m()\u001b[0m\n\u001b[1;32m      1\u001b[0m \u001b[0;32mif\u001b[0m \u001b[0m__name__\u001b[0m\u001b[0;34m==\u001b[0m\u001b[0;34m\"__main__\"\u001b[0m\u001b[0;34m:\u001b[0m\u001b[0;34m\u001b[0m\u001b[0m\n\u001b[1;32m      2\u001b[0m     dl = DataLoader(bg_cfg_file = '../config/BgFileListAug16.txt',\n\u001b[0;32m----> 3\u001b[0;31m                 sig_cfg_file='../config/SignalFileListAug16.txt',)\n\u001b[0m",
      "\u001b[0;32m<ipython-input-2-ae4204462313>\u001b[0m in \u001b[0;36m__init__\u001b[0;34m(self, bg_cfg_file, sig_cfg_file, type_, num_events, preprocess, bin_size, eta_range, phi_range, val_prop)\u001b[0m\n\u001b[1;32m     21\u001b[0m \u001b[0;34m\u001b[0m\u001b[0m\n\u001b[1;32m     22\u001b[0m         \u001b[0;31m#get the number of files needed\u001b[0m\u001b[0;34m\u001b[0m\u001b[0;34m\u001b[0m\u001b[0m\n\u001b[0;32m---> 23\u001b[0;31m         \u001b[0mnum_files\u001b[0m \u001b[0;34m=\u001b[0m \u001b[0mint\u001b[0m\u001b[0;34m(\u001b[0m\u001b[0mnp\u001b[0m\u001b[0;34m.\u001b[0m\u001b[0mceil\u001b[0m\u001b[0;34m(\u001b[0m\u001b[0mnum_each\u001b[0m \u001b[0;34m/\u001b[0m \u001b[0mfloat\u001b[0m\u001b[0;34m(\u001b[0m\u001b[0mevents_per_sig_file\u001b[0m\u001b[0;34m)\u001b[0m\u001b[0;34m)\u001b[0m\u001b[0;34m)\u001b[0m\u001b[0;34m\u001b[0m\u001b[0m\n\u001b[0m\u001b[1;32m     24\u001b[0m \u001b[0;34m\u001b[0m\u001b[0m\n\u001b[1;32m     25\u001b[0m         \u001b[0;31m#because root does not do well with one file\u001b[0m\u001b[0;34m\u001b[0m\u001b[0;34m\u001b[0m\u001b[0m\n",
      "\u001b[0;31mNameError\u001b[0m: global name 'np' is not defined"
     ]
    }
   ],
   "source": [
    "if __name__==\"__main__\":\n",
    "    dl = DataLoader(bg_cfg_file = '../config/BgFileListAug16.txt',\n",
    "                sig_cfg_file='../config/SignalFileListAug16.txt',)"
   ]
  },
  {
   "cell_type": "code",
   "execution_count": 12,
   "metadata": {
    "collapsed": false
   },
   "outputs": [
    {
     "data": {
      "text/plain": [
       "(256,)"
      ]
     },
     "execution_count": 12,
     "metadata": {},
     "output_type": "execute_result"
    }
   ],
   "source": []
  },
  {
   "cell_type": "code",
   "execution_count": null,
   "metadata": {
    "collapsed": true
   },
   "outputs": [],
   "source": []
  }
 ],
 "metadata": {
  "anaconda-cloud": {},
  "kernelspec": {
   "display_name": "deeplearning_plus_root",
   "language": "python",
   "name": "deeplearning_plus_root"
  },
  "language_info": {
   "codemirror_mode": {
    "name": "ipython",
    "version": 2
   },
   "file_extension": ".py",
   "mimetype": "text/x-python",
   "name": "python",
   "nbconvert_exporter": "python",
   "pygments_lexer": "ipython2",
   "version": "2.7.12"
  }
 },
 "nbformat": 4,
 "nbformat_minor": 0
}
