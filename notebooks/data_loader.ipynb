{
 "cells": [
  {
   "cell_type": "code",
   "execution_count": 1,
   "metadata": {
    "collapsed": false
   },
   "outputs": [],
   "source": [
    "__author__ = 'racah'\n",
    "import numpy as np\n",
    "import pandas as pd\n",
    "from matplotlib import pyplot as plt\n",
    "from sklearn import preprocessing\n",
    "from sklearn.cross_validation import train_test_split\n",
    "from nbfinder import NotebookFinder\n",
    "import sys\n",
    "import os\n",
    "sys.meta_path.append(NotebookFinder())\n",
    "%matplotlib inline"
   ]
  },
  {
   "cell_type": "code",
   "execution_count": 2,
   "metadata": {
    "collapsed": false
   },
   "outputs": [],
   "source": [
    "def load_data(path='/global/project/projectdirs/das/wbhimji/',\n",
    "    bg_file='mc15_13TeV.361023.Pythia8EvtGen_A14NNPDF23LO_jetjet_JZ3W.merge.DAOD_EXOT3.e3668_s2576_s2132_r7728_r7676_p2613/DAOD_EXOT3.08204445._000001.pool.root.1',\n",
    "    sig_file='mc15_13TeV.403550.MadGraphPythia8EvtGen_A14NNPDF23LO_GG_RPV10_700_450.merge.DAOD_EXOT3.e5079_a766_a821_r7676_p2646/DAOD_EXOT3.08548071._000001.pool.root.1',\n",
    "    group_name='CollectionTree',\n",
    "    branches=['CaloCalTopoClustersAuxDyn.calPhi', 'CaloCalTopoClustersAuxDyn.calEta','CaloCalTopoClustersAuxDyn.calE'],\n",
    "    num_events=1000,\n",
    "    preprocess=True,\n",
    "    bins=100,\n",
    "    dataset_name='histo', \n",
    "    type='root'):\n",
    "\n",
    "    bg_path = os.path.join(path, bg_file)\n",
    "    sig_path = os.path.join(path, sig_file)\n",
    "\n",
    "    assert num_events % 2 == 0, \"why an odd number for num_events?!, even please\"\n",
    "    num_each = num_events / 2\n",
    "\n",
    "    if type == 'hdf':\n",
    "        bgdf = pd.read_hdf(bg_path, group_name)\n",
    "        sigdf = pd.read_hdf(sig_path, group_name)\n",
    "        x_bg = bgdf[dataset_name][:num_each]\n",
    "        x_sig = sigdf[dataset_name][:num_each]\n",
    "        #background first\n",
    "        x_concat = np.hstack((x_bg, x_sig))\n",
    "        dim_x, dim_y = x_bg[0].shape\n",
    "        x = np.zeros((num_events ,dim_x, dim_y ))\n",
    "        for i in range(num_events):\n",
    "            x[i] = x_concat[i]\n",
    "        # add a channel size of 1 as a place holder\n",
    "        x = np.expand_dims(x,axis=1)\n",
    "        \n",
    "    if type == 'root':\n",
    "        sys.path.append('/global/homes/w/wbhimji/cori-envs/nersc-rootpy/lib/python2.7/site-packages/')\n",
    "        import ROOT\n",
    "        import rootpy\n",
    "        import root_numpy as rnp\n",
    "        bgarray = rnp.root2array(bg_path, treename=group_name,branches=branches, start=0, stop=num_each)\n",
    "        bgdf = pd.DataFrame.from_records(bgarray)\n",
    "        sigarray = rnp.root2array(sig_path, treename=group_name, branches=branches, start=0, stop=num_each)\n",
    "        sigdf = pd.DataFrame.from_records(sigarray)\n",
    "        x_bg = np.zeros((num_each,1,bins, bins ))\n",
    "        x_sig = np.zeros((num_each,1,bins, bins ))\n",
    "        #num events is now num each\n",
    "        for i in range(num_each):\n",
    "            phi, eta, E =  bgdf['CaloCalTopoClustersAuxDyn.calPhi'][i],bgdf['CaloCalTopoClustersAuxDyn.calEta'][i],\\\n",
    "                bgdf['CaloCalTopoClustersAuxDyn.calE'][i]\n",
    "            x_bg[i] = np.histogram2d(phi,eta, bins=bins, weights=E, range=[[-3.14, 3.14],[0., 2.]])[0]\n",
    "            phi, eta, E =  sigdf['CaloCalTopoClustersAuxDyn.calPhi'][i],sigdf['CaloCalTopoClustersAuxDyn.calEta'][i],\\\n",
    "                sigdf['CaloCalTopoClustersAuxDyn.calE'][i]\n",
    "            x_sig[i] = np.histogram2d(phi,eta, bins=bins, weights=E, range=[[-3.14, 3.14],[0., 2.]])[0]\n",
    "\n",
    "        #background first\n",
    "        x = np.vstack((x_bg, x_sig))      \n",
    "    \n",
    "    # 1 means signal, 0 means background\n",
    "    y = np.zeros((num_events,)).astype('int32')\n",
    "    #make the last half signal label\n",
    "    y[num_each:] = 1\n",
    "\n",
    "\n",
    "    #shuffle examples\n",
    "    rng = np.random.RandomState(seed=9)\n",
    "\n",
    "    inds = np.arange(num_events)\n",
    "\n",
    "    rng.shuffle(inds)\n",
    "\n",
    "    #split train, val, test\n",
    "    tr_inds = inds[:int(0.6*num_events)] \n",
    "    val_inds = inds[int(0.6*num_events):int(0.8*num_events)]\n",
    "    te_inds = inds[int(0.8*num_events):]\n",
    "    \n",
    "    x_tr, y_tr, x_val, y_val, x_te, y_te = x[tr_inds], y[tr_inds], \\\n",
    "                                           x[val_inds], y[val_inds], \\\n",
    "                                           x[te_inds], y[te_inds]\n",
    "    if preprocess:\n",
    "        '''a type of sparse preprocessing, which scales everything between -1 and 1 without losing sparsity'''\n",
    "        #only calculate the statistic using training set\n",
    "        max_abs=np.abs(x_tr).max(axis=(0,1,2,3))\n",
    "        \n",
    "        #then scale all sets\n",
    "        x_tr /= max_abs\n",
    "        x_te /= max_abs\n",
    "        x_val /= max_abs\n",
    "    \n",
    "        \n",
    " \n",
    "    \n",
    "    return x_tr, y_tr, x_val, y_val, x_te, y_te\n",
    "    "
   ]
  },
  {
   "cell_type": "code",
   "execution_count": 3,
   "metadata": {
    "collapsed": false
   },
   "outputs": [
    {
     "data": {
      "application/javascript": [
       "require(['codemirror/mode/clike/clike'], function(Clike) { console.log('ROOTaaS - C++ CodeMirror module loaded'); });"
      ]
     },
     "metadata": {},
     "output_type": "display_data"
    },
    {
     "data": {
      "application/javascript": [
       "IPython.CodeCell.config_defaults.highlight_modes['magic_text/x-c++src'] = {'reg':[/^%%cpp/]};"
      ]
     },
     "metadata": {},
     "output_type": "display_data"
    },
    {
     "name": "stdout",
     "output_type": "stream",
     "text": [
      "Welcome to ROOTaaS 6.06/06\n"
     ]
    },
    {
     "data": {
      "text/plain": [
       "<matplotlib.image.AxesImage at 0x7f34a8f45710>"
      ]
     },
     "execution_count": 3,
     "metadata": {},
     "output_type": "execute_result"
    },
    {
     "data": {
      "image/png": "[encoded data removed]",
      "text/plain": [
       "<matplotlib.figure.Figure at 0x7f34aa1628d0>"
      ]
     },
     "metadata": {},
     "output_type": "display_data"
    },
    {
     "name": "stderr",
     "output_type": "stream",
     "text": [
      "WARNING:ROOT.TClass.Init:no dictionary for class DataHeader_p5 is available\r\n",
      "WARNING:ROOT.TClass.Init:no dictionary for class DataHeaderElement_p5 is available\r\n",
      "WARNING:ROOT.TClass.Init:no dictionary for class DataHeaderForm_p5 is available\r\n",
      "WARNING:ROOT.TClass.Init:no dictionary for class IOVMetaDataContainer_p1 is available\r\n",
      "WARNING:ROOT.TClass.Init:no dictionary for class IOVPayloadContainer_p1 is available\r\n",
      "WARNING:ROOT.TClass.Init:no dictionary for class IOVPayloadContainer_p1::CondAttrListCollection_p1 is available\r\n",
      "WARNING:ROOT.TClass.Init:no dictionary for class IOVPayloadContainer_p1::CondAttrListEntry_p1 is available\r\n",
      "WARNING:ROOT.TClass.Init:no dictionary for class IOVPayloadContainer_p1::IOVRange_p1 is available\r\n",
      "WARNING:ROOT.TClass.Init:no dictionary for class AttrListIndexes is available\r\n",
      "WARNING:ROOT.TClass.Init:no dictionary for class xAOD::CutBookkeeper_v1 is available\r\n",
      "WARNING:ROOT.TClass.Init:no dictionary for class SG::AuxElement is available\r\n",
      "WARNING:ROOT.TClass.Init:no dictionary for class SG::IAuxElement is available\r\n",
      "WARNING:ROOT.TClass.Init:no dictionary for class xAOD::CutBookkeeperAuxContainer_v1 is available\r\n",
      "WARNING:ROOT.TClass.Init:no dictionary for class xAOD::AuxContainerBase is available\r\n",
      "WARNING:ROOT.TClass.Init:no dictionary for class SG::IAuxStore is available\r\n",
      "WARNING:ROOT.TClass.Init:no dictionary for class SG::IConstAuxStore is available\r\n",
      "WARNING:ROOT.TClass.Init:no dictionary for class SG::IAuxStoreIO is available\r\n",
      "WARNING:ROOT.TClass.Init:no dictionary for class SG::IAuxStoreHolder is available\r\n",
      "WARNING:ROOT.TClass.Init:no dictionary for class ILockable is available\r\n",
      "WARNING:ROOT.TClass.Init:no dictionary for class ElementLink<xAOD::CutBookkeeperContainer_v1> is available\r\n",
      "WARNING:ROOT.TClass.Init:no dictionary for class ElementLinkBase is available\r\n",
      "WARNING:ROOT.TClass.Init:no dictionary for class xAOD::LumiBlockRange_v1 is available\r\n",
      "WARNING:ROOT.TClass.Init:no dictionary for class xAOD::LumiBlockRangeAuxContainer_v1 is available\r\n",
      "WARNING:ROOT.TClass.Init:no dictionary for class xAOD::TriggerMenu_v1 is available\r\n",
      "WARNING:ROOT.TClass.Init:no dictionary for class xAOD::TriggerMenuAuxContainer_v1 is available\r\n",
      "WARNING:ROOT.TClass.Init:no dictionary for class xAOD::EventFormat_v1 is available\r\n",
      "WARNING:ROOT.TClass.Init:no dictionary for class EventInfo_p4 is available\r\n",
      "WARNING:ROOT.TClass.Init:no dictionary for class EventID_p1 is available\r\n",
      "WARNING:ROOT.TClass.Init:no dictionary for class EventType_p3 is available\r\n",
      "WARNING:ROOT.TClass.Init:no dictionary for class TriggerInfo_p2 is available\r\n",
      "WARNING:ROOT.TClass.Init:no dictionary for class TriggerInfo_p2::StreamTag_p2 is available\r\n",
      "WARNING:ROOT.TClass.Init:no dictionary for class xAOD::EventInfo_v1 is available\r\n",
      "WARNING:ROOT.TClass.Init:no dictionary for class xAOD::EventAuxInfo_v1 is available\r\n",
      "WARNING:ROOT.TClass.Init:no dictionary for class xAOD::AuxInfoBase is available\r\n",
      "WARNING:ROOT.TClass.Init:no dictionary for class xAOD::TrigConfKeys_v1 is available\r\n",
      "WARNING:ROOT.TClass.Init:no dictionary for class xAOD::TrigDecisionAuxInfo_v1 is available\r\n",
      "WARNING:ROOT.TClass.Init:no dictionary for class xAOD::TrigNavigationAuxInfo_v1 is available\r\n",
      "WARNING:ROOT.TClass.Init:no dictionary for class xAOD::TrigDecision_v1 is available\r\n",
      "WARNING:ROOT.TClass.Init:no dictionary for class xAOD::JetEtRoI_v1 is available\r\n",
      "WARNING:ROOT.TClass.Init:no dictionary for class xAOD::EventShapeAuxInfo_v1 is available\r\n",
      "WARNING:ROOT.TClass.Init:no dictionary for class xAOD::MissingETAssociation_v1 is available\r\n",
      "WARNING:ROOT.TClass.Init:no dictionary for class xAOD::TrigNavigation_v1 is available\r\n",
      "WARNING:ROOT.TClass.Init:no dictionary for class xAOD::EventShape_v1 is available\r\n",
      "WARNING:ROOT.TClass.Init:no dictionary for class xAOD::JetEtRoIAuxInfo_v1 is available\r\n",
      "WARNING:ROOT.TClass.Init:no dictionary for class xAOD::EmTauRoI_v2 is available\r\n",
      "WARNING:ROOT.TClass.Init:no dictionary for class xAOD::Electron_v1 is available\r\n",
      "WARNING:ROOT.TClass.Init:no dictionary for class xAOD::Egamma_v1 is available\r\n",
      "WARNING:ROOT.TClass.Init:no dictionary for class xAOD::IParticle is available\r\n",
      "WARNING:ROOT.TClass.Init:no dictionary for class xAOD::Vertex_v1 is available\r\n",
      "WARNING:ROOT.TClass.Init:no dictionary for class xAOD::MissingET_v1 is available\r\n",
      "WARNING:ROOT.TClass.Init:no dictionary for class xAOD::Photon_v1 is available\r\n",
      "WARNING:ROOT.TClass.Init:no dictionary for class xAOD::MuonSegment_v1 is available\r\n",
      "WARNING:ROOT.TClass.Init:no dictionary for class xAOD::JetRoI_v2 is available\r\n",
      "WARNING:ROOT.TClass.Init:no dictionary for class xAOD::TauJet_v2 is available\r\n",
      "WARNING:ROOT.TClass.Init:no dictionary for class xAOD::Muon_v1 is available\r\n",
      "WARNING:ROOT.TClass.Init:no dictionary for class xAOD::TruthEvent_v1 is available\r\n",
      "WARNING:ROOT.TClass.Init:no dictionary for class xAOD::TruthEventBase_v1 is available\r\n",
      "WARNING:ROOT.TClass.Init:no dictionary for class xAOD::CaloCluster_v1 is available\r\n",
      "WARNING:ROOT.TClass.Init:no dictionary for class xAOD::TruthParticle_v1 is available\r\n",
      "WARNING:ROOT.TClass.Init:no dictionary for class xAOD::TruthVertex_v1 is available\r\n",
      "WARNING:ROOT.TClass.Init:no dictionary for class xAOD::Jet_v1 is available\r\n",
      "WARNING:ROOT.TClass.Init:no dictionary for class xAOD::BTagging_v1 is available\r\n",
      "WARNING:ROOT.TClass.Init:no dictionary for class xAOD::TrackParticle_v1 is available\r\n",
      "WARNING:ROOT.TClass.Init:no dictionary for class xAOD::JetAuxContainer_v1 is available\r\n",
      "WARNING:ROOT.TClass.Init:no dictionary for class ElementLink<DataVector<xAOD::IParticle> > is available\r\n",
      "WARNING:ROOT.TClass.Init:no dictionary for class ElementLink<DataVector<xAOD::CaloCluster_v1> > is available\r\n",
      "WARNING:ROOT.TClass.Init:no dictionary for class ElementLink<DataVector<xAOD::TrackParticle_v1> > is available\r\n",
      "WARNING:ROOT.TClass.Init:no dictionary for class ElementLink<DataVector<xAOD::Vertex_v1> > is available\r\n",
      "WARNING:ROOT.TClass.Init:no dictionary for class ElementLink<DataVector<xAOD::MuonSegment_v1> > is available\r\n",
      "WARNING:ROOT.TClass.Init:no dictionary for class ElementLink<DataVector<xAOD::BTagging_v1> > is available\r\n",
      "WARNING:ROOT.TClass.Init:no dictionary for class ElementLink<DataVector<xAOD::Jet_v1> > is available\r\n",
      "WARNING:ROOT.TClass.Init:no dictionary for class ElementLink<DataVector<xAOD::BTagVertex_v1> > is available\r\n",
      "WARNING:ROOT.TClass.Init:no dictionary for class ElementLink<DataVector<xAOD::Muon_v1> > is available\r\n",
      "WARNING:ROOT.TClass.Init:no dictionary for class xAOD::CaloClusterBadChannelData_v1 is available\r\n",
      "WARNING:ROOT.TClass.Init:no dictionary for class ElementLink<DataVector<xAOD::TruthParticle_v1> > is available\r\n",
      "WARNING:ROOT.TClass.Init:no dictionary for class ElementLink<DataVector<Trk::Track> > is available\r\n",
      "WARNING:ROOT.TClass.Init:no dictionary for class ElementLink<DataVector<Trk::Segment> > is available\r\n",
      "WARNING:ROOT.TClass.Init:no dictionary for class ElementLink<DataVector<xAOD::TruthVertex_v1> > is available\r\n",
      "WARNING:ROOT.TClass.Init:no dictionary for class ElementLink<DataVector<xAOD::PFO_v1> > is available\r\n",
      "WARNING:ROOT.TClass.Init:no dictionary for class xAOD::FileMetaDataAuxInfo_v1 is available\r\n",
      "WARNING:ROOT.TClass.Init:no dictionary for class EventStreamInfo_p3 is available\r\n",
      "WARNING:ROOT.TClass.Init:no dictionary for class xAOD::FileMetaData_v1 is available\r\n",
      "WARNING:ROOT.TClass.Init:no dictionary for class xAOD::CutBookkeeperContainer_v1 is available\r\n",
      "WARNING:ROOT.TClass.Init:no dictionary for class DataVector<xAOD::LumiBlockRange_v1> is available\r\n",
      "WARNING:ROOT.TClass.Init:no dictionary for class DataVector<xAOD::TriggerMenu_v1> is available\r\n",
      "WARNING:ROOT.TClass.Init:no dictionary for class DataVector<xAOD::Vertex_v1> is available\r\n",
      "WARNING:ROOT.TClass.Init:no dictionary for class DataVector<xAOD::Jet_v1> is available\r\n",
      "WARNING:ROOT.TClass.Init:no dictionary for class DataVector<xAOD::BTagging_v1> is available\r\n",
      "WARNING:ROOT.TClass.Init:no dictionary for class DataVector<xAOD::Electron_v1> is available\r\n",
      "WARNING:ROOT.TClass.Init:no dictionary for class DataVector<xAOD::Muon_v1> is available\r\n",
      "WARNING:ROOT.TClass.Init:no dictionary for class DataVector<xAOD::MuonSegment_v1> is available\r\n",
      "WARNING:ROOT.TClass.Init:no dictionary for class DataVector<xAOD::CaloCluster_v1> is available\r\n",
      "WARNING:ROOT.TClass.Init:no dictionary for class DataVector<xAOD::TruthEvent_v1> is available\r\n",
      "WARNING:ROOT.TClass.Init:no dictionary for class DataVector<xAOD::TauJet_v2> is available\r\n",
      "WARNING:ROOT.TClass.Init:no dictionary for class DataVector<xAOD::JetRoI_v2> is available\r\n",
      "WARNING:ROOT.TClass.Init:no dictionary for class DataVector<xAOD::TruthVertex_v1> is available\r\n",
      "WARNING:ROOT.TClass.Init:no dictionary for class DataVector<xAOD::Photon_v1> is available\r\n",
      "WARNING:ROOT.TClass.Init:no dictionary for class DataVector<xAOD::TrackParticle_v1> is available\r\n",
      "WARNING:ROOT.TClass.Init:no dictionary for class DataVector<xAOD::EmTauRoI_v2> is available\r\n",
      "WARNING:ROOT.TClass.Init:no dictionary for class DataVector<xAOD::TruthParticle_v1> is available\r\n",
      "WARNING:ROOT.TClass.Init:no dictionary for class xAOD::MissingETAssociationMap_v1 is available\r\n",
      "WARNING:ROOT.TClass.Init:no dictionary for class xAOD::MissingETContainer_v1 is available\r\n",
      "WARNING:ROOT.TClass.Init:no dictionary for class PileUpEventInfo_p5 is available\r\n",
      "WARNING:ROOT.TClass.Init:no dictionary for class ElementLink<DataVector<xAOD::EventInfo_v1> > is available\r\n",
      "WARNING:ROOT.TClass.Init:no dictionary for class ElementLink<DataVector<xAOD::Electron_v1> > is available\r\n"
     ]
    }
   ],
   "source": [
    "data = load_data()\n",
    "x,y,xv,yv,x_te,y_te = data\n",
    "plt.imshow(x[8][0], interpolation='none')\n"
   ]
  },
  {
   "cell_type": "code",
   "execution_count": 4,
   "metadata": {
    "collapsed": false
   },
   "outputs": [],
   "source": [
    "a = np.random.random((30,100,100))"
   ]
  },
  {
   "cell_type": "code",
   "execution_count": 5,
   "metadata": {
    "collapsed": false
   },
   "outputs": [],
   "source": [
    "b=np.expand_dims(a,axis=1)"
   ]
  },
  {
   "cell_type": "code",
   "execution_count": 6,
   "metadata": {
    "collapsed": false
   },
   "outputs": [
    {
     "data": {
      "text/plain": [
       "(30, 1, 100, 100)"
      ]
     },
     "execution_count": 6,
     "metadata": {},
     "output_type": "execute_result"
    }
   ],
   "source": [
    "b.shape"
   ]
  },
  {
   "cell_type": "code",
   "execution_count": null,
   "metadata": {
    "collapsed": true
   },
   "outputs": [],
   "source": []
  }
 ],
 "metadata": {
  "kernelspec": {
   "display_name": "deeplearning",
   "language": "python",
   "name": "deeplearning"
  },
  "language_info": {
   "codemirror_mode": {
    "name": "ipython",
    "version": 2
   },
   "file_extension": ".py",
   "mimetype": "text/x-python",
   "name": "python",
   "nbconvert_exporter": "python",
   "pygments_lexer": "ipython2",
   "version": "2.7.11"
  }
 },
 "nbformat": 4,
 "nbformat_minor": 0
}
