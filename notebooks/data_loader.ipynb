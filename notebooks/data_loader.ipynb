{
 "cells": [
  {
   "cell_type": "code",
   "execution_count": 1,
   "metadata": {
    "collapsed": true
   },
   "outputs": [],
   "source": [
    "__author__ = 'racah'\n",
    "import numpy as np\n",
    "import pandas as pd\n",
    "from matplotlib import pyplot as plt\n",
    "from sklearn import preprocessing\n",
    "from sklearn.cross_validation import train_test_split\n",
    "from nbfinder import NotebookFinder\n",
    "import sys\n",
    "import os\n",
    "sys.meta_path.append(NotebookFinder())\n",
    "%matplotlib inline"
   ]
  },
  {
   "cell_type": "code",
   "execution_count": 2,
   "metadata": {
    "collapsed": false
   },
   "outputs": [],
   "source": [
    "def load_data(path='/global/project/projectdirs/das/wbhimji/RPVSusyJetLearn/',\n",
    "              bg_file='jj_DAOD_EXOT3.h5',\n",
    "              sig_file='DAOD_EXOT3.08548071._000001.pool.root.1.h5',\n",
    "              group_name='caloclusters',\n",
    "              num_events=30,\n",
    "              preprocess=True,\n",
    "              dataset_name='histo'):\n",
    "\n",
    "    bg_path = os.path.join(path, bg_file)\n",
    "    sig_path = os.path.join(path, sig_file)\n",
    "\n",
    "    bgdf = pd.read_hdf(bg_path, group_name)\n",
    "    sigdf = pd.read_hdf(sig_path, group_name)\n",
    "\n",
    "    assert num_events % 2 == 0, \"why an odd number for num_events?!, even please\"\n",
    "    num_each = num_events / 2\n",
    "\n",
    "\n",
    "    x_bg = bgdf[dataset_name][:num_each]\n",
    "\n",
    "\n",
    "    x_sig = sigdf[dataset_name][:num_each]\n",
    "\n",
    "    #background first\n",
    "    x_concat = np.hstack((x_bg, x_sig))\n",
    "\n",
    "    dim_x, dim_y = x_bg[0].shape\n",
    "\n",
    "    x = np.zeros((num_events ,dim_x, dim_y ))\n",
    "\n",
    "    for i in range(num_events):\n",
    "        x[i] = x_concat[i]\n",
    "\n",
    "    # add a channel size of 1 as a place holder\n",
    "    x = np.expand_dims(x,axis=1)\n",
    "    # 1 means signal, 0 means background\n",
    "    y = np.zeros((num_events,)).astype('int32')\n",
    "    #make the last half signal label\n",
    "    y[num_each:] = 1\n",
    "\n",
    "\n",
    "    #shuffle examples\n",
    "    rng = np.random.RandomState(seed=9)\n",
    "\n",
    "    inds = np.arange(num_events)\n",
    "\n",
    "    rng.shuffle(inds)\n",
    "\n",
    "    #split train, val, test\n",
    "    tr_inds = inds[:int(0.6*num_events)] \n",
    "    val_inds = inds[int(0.6*num_events):int(0.8*num_events)]\n",
    "    te_inds = inds[int(0.8*num_events):]\n",
    "    \n",
    "    x_tr, y_tr, x_val, y_val, x_te, y_te = x[tr_inds], y[tr_inds], \\\n",
    "                                           x[val_inds], y[val_inds], \\\n",
    "                                           x[te_inds], y[te_inds]\n",
    "    if preprocess:\n",
    "        '''a type of sparse preprocessing, which scales everything between -1 and 1 without losing sparsity'''\n",
    "        #only calculate the statistic using training set\n",
    "        max_abs=np.abs(x_tr).max(axis=(0,1,2))\n",
    "        \n",
    "        #then scale all sets\n",
    "        x_tr /= max_abs\n",
    "        x_te /= max_abs\n",
    "        x_val /= max_abs\n",
    "    \n",
    "        \n",
    " \n",
    "    \n",
    "    return x_tr, y_tr, x_val, y_val, x_te, y_te\n",
    "    "
   ]
  },
  {
   "cell_type": "code",
   "execution_count": 16,
   "metadata": {
    "collapsed": false
   },
   "outputs": [
    {
     "name": "stdout",
     "output_type": "stream",
     "text": [
      "Opening /global/project/projectdirs/das/wbhimji/RPVSusyJetLearn/jj_DAOD_EXOT3.h5 in read-only mode\n",
      "Opening /global/project/projectdirs/das/wbhimji/RPVSusyJetLearn/DAOD_EXOT3.08548071._000001.pool.root.1.h5 in read-only mode\n"
     ]
    },
    {
     "data": {
      "image/png": "[encoded data removed]",
      "text/plain": [
       "<matplotlib.figure.Figure at 0x2abe8b034250>"
      ]
     },
     "metadata": {},
     "output_type": "display_data"
    }
   ],
   "source": [
    "if __name__ == \"__main__\":\n",
    "    data = load_data()\n",
    "\n",
    "    x,y,xv,yv,x_te,y_te = data\n",
    "\n",
    "    plt.imshow(x[6], interpolation='none')\n",
    "\n"
   ]
  },
  {
   "cell_type": "code",
   "execution_count": 3,
   "metadata": {
    "collapsed": false
   },
   "outputs": [],
   "source": [
    "a = np.random.random((30,100,100))"
   ]
  },
  {
   "cell_type": "code",
   "execution_count": 7,
   "metadata": {
    "collapsed": false
   },
   "outputs": [],
   "source": [
    "b=np.expand_dims(a,axis=1)"
   ]
  },
  {
   "cell_type": "code",
   "execution_count": 8,
   "metadata": {
    "collapsed": false
   },
   "outputs": [
    {
     "data": {
      "text/plain": [
       "(30, 1, 100, 100)"
      ]
     },
     "execution_count": 8,
     "metadata": {},
     "output_type": "execute_result"
    }
   ],
   "source": [
    "b.shape"
   ]
  },
  {
   "cell_type": "code",
   "execution_count": null,
   "metadata": {
    "collapsed": true
   },
   "outputs": [],
   "source": []
  }
 ],
 "metadata": {
  "kernelspec": {
   "display_name": "deeplearning",
   "language": "python",
   "name": "deeplearning"
  },
  "language_info": {
   "codemirror_mode": {
    "name": "ipython",
    "version": 2
   },
   "file_extension": ".py",
   "mimetype": "text/x-python",
   "name": "python",
   "nbconvert_exporter": "python",
   "pygments_lexer": "ipython2",
   "version": "2.7.12"
  }
 },
 "nbformat": 4,
 "nbformat_minor": 0
}
