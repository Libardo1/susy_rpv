{
 "cells": [
  {
   "cell_type": "code",
   "execution_count": null,
   "metadata": {
    "collapsed": false
   },
   "outputs": [],
   "source": [
    "import lasagne\n",
    "import theano\n",
    "from theano import tensor as T\n",
    "import sys\n",
    "import numpy as np\n",
    "import json\n",
    "import pickle\n",
    "import os\n",
    "#enable importing of notebooks\n",
    "from nbfinder import NotebookFinder\n",
    "sys.meta_path.append(NotebookFinder())\n",
    "# from print_n_plot import plot_ims_with_boxes, add_bbox, plot_im_with_box"
   ]
  },
  {
   "cell_type": "code",
   "execution_count": null,
   "metadata": {
    "collapsed": true
   },
   "outputs": [],
   "source": [
    "class early_stop(object):\n",
    "    def __init__(self, patience=500):\n",
    "        self.patience = patience   # look as this many epochs regardless\n",
    "        self.patience_increase = 2  # wait this much longer when a new best is\n",
    "                                      # found\n",
    "        self.improvement_threshold = 0.995  # a relative improvement of this much is\n",
    "                                      # considered significant\n",
    "        self.validation_frequency = self.patience // 2\n",
    "                                      # go through this many\n",
    "                                      # minibatche before checking the network\n",
    "                                      # on the validation set; in this case we\n",
    "                                      # check every epoch\n",
    "\n",
    "        self.best_validation_loss = np.inf\n",
    "\n",
    "    def keep_training(self, val_loss, epoch):\n",
    "        print epoch\n",
    "        print val_loss\n",
    "        print self.best_validation_loss\n",
    "        if val_loss < self.best_validation_loss:\n",
    "                #improve patience if loss improvement is good enough\n",
    "                if val_loss < self.best_validation_loss *  \\\n",
    "                   self.improvement_threshold:\n",
    "                    self.patience = max(self.patience, epoch * self.patience_increase)\n",
    "\n",
    "                self.best_validation_loss = val_loss\n",
    "        if self.patience <= epoch:\n",
    "            return False\n",
    "        else:\n",
    "            return True\n",
    "\n",
    "\n",
    "    \n",
    "\n",
    "\n",
    "\n",
    "def create_run_dir(results_dir=None):\n",
    "    if results_dir == None:\n",
    "        results_dir = './results'\n",
    "    run_num_file = os.path.join(results_dir, \"run_num.txt\")\n",
    "    if not os.path.exists(results_dir):\n",
    "        print \"making results dir\"\n",
    "        os.mkdir(results_dir)\n",
    "\n",
    "    if not os.path.exists(run_num_file):\n",
    "        print \"making run num file....\"\n",
    "        f = open(run_num_file,'w')\n",
    "        f.write('0')\n",
    "        f.close()\n",
    "\n",
    "\n",
    "\n",
    "\n",
    "    f = open(run_num_file,'r+')\n",
    "\n",
    "    run_num = int(f.readline()) + 1\n",
    "\n",
    "    f.seek(0)\n",
    "\n",
    "    f.write(str(run_num))\n",
    "\n",
    "\n",
    "    run_dir = os.path.join(results_dir,'run%i'%(run_num))\n",
    "    os.mkdir(run_dir)\n",
    "    return run_dir"
   ]
  },
  {
   "cell_type": "code",
   "execution_count": null,
   "metadata": {
    "collapsed": true
   },
   "outputs": [],
   "source": [
    "def dump_hyperparams(dic, path):\n",
    "    new_dic = {k:str(dic[k]) for k in dic.keys()}\n",
    "    with open(path + '/hyperparams.json', 'w') as f:\n",
    "        json.dump(new_dic, f)\n",
    "#     with open(path + '/hyperparams.pkl','w') as g:\n",
    "#         pickle.dump(dic, g)\n",
    "    "
   ]
  },
  {
   "cell_type": "code",
   "execution_count": null,
   "metadata": {
    "collapsed": true
   },
   "outputs": [],
   "source": [
    "def get_input_dims(tensor):\n",
    "    #takes n_events by num_channels by x by y tensor\n",
    "    #and returns tuple (None,num_channels, x, y )\n",
    "    shape = list(tensor.shape)\n",
    "    shape.pop(0)\n",
    "    shape.insert(0,None)\n",
    "    shape=tuple(shape)\n",
    "    return shape"
   ]
  }
 ],
 "metadata": {
  "anaconda-cloud": {},
  "kernelspec": {
   "display_name": "Python 2.7",
   "language": "python",
   "name": "python2.7"
  },
  "language_info": {
   "codemirror_mode": {
    "name": "ipython",
    "version": 2
   },
   "file_extension": ".py",
   "mimetype": "text/x-python",
   "name": "python",
   "nbconvert_exporter": "python",
   "pygments_lexer": "ipython2",
   "version": "2.7.12"
  }
 },
 "nbformat": 4,
 "nbformat_minor": 0
}
