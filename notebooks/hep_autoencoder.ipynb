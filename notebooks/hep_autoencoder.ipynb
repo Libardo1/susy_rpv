{
 "cells": [
  {
   "cell_type": "markdown",
   "metadata": {},
   "source": [
    "## General modules"
   ]
  },
  {
   "cell_type": "code",
   "execution_count": 1,
   "metadata": {
    "collapsed": true
   },
   "outputs": [],
   "source": [
    "__author__ = 'tkurth'\n",
    "import sys\n",
    "import os\n",
    "import numpy as np\n",
    "import pandas as pd\n",
    "from matplotlib import pyplot as plt\n",
    "import matplotlib.mlab as mlab\n",
    "from sklearn import preprocessing\n",
    "from sklearn.cross_validation import train_test_split\n",
    "from nbfinder import NotebookFinder\n",
    "sys.meta_path.append(NotebookFinder())\n",
    "%matplotlib inline\n",
    "import time"
   ]
  },
  {
   "cell_type": "markdown",
   "metadata": {},
   "source": [
    "## Theano modules"
   ]
  },
  {
   "cell_type": "code",
   "execution_count": 2,
   "metadata": {
    "collapsed": true
   },
   "outputs": [],
   "source": [
    "import theano\n",
    "import theano.tensor as T\n",
    "import theano.sandbox.rng_mrg\n",
    "Trng = theano.sandbox.rng_mrg.MRG_RandomStreams(9)\n",
    "import lasagne as ls"
   ]
  },
  {
   "cell_type": "markdown",
   "metadata": {},
   "source": [
    "## ROOT stuff"
   ]
  },
  {
   "cell_type": "code",
   "execution_count": 3,
   "metadata": {
    "collapsed": false
   },
   "outputs": [
    {
     "data": {
      "application/javascript": [
       "require(['codemirror/mode/clike/clike'], function(Clike) { console.log('ROOTaaS - C++ CodeMirror module loaded'); });"
      ]
     },
     "metadata": {},
     "output_type": "display_data"
    },
    {
     "data": {
      "application/javascript": [
       "IPython.CodeCell.config_defaults.highlight_modes['magic_text/x-c++src'] = {'reg':[/^%%cpp/]};"
      ]
     },
     "metadata": {},
     "output_type": "display_data"
    },
    {
     "name": "stdout",
     "output_type": "stream",
     "text": [
      "Welcome to ROOTaaS 6.06/06\n"
     ]
    }
   ],
   "source": [
    "sys.path.append('/global/homes/w/wbhimji/cori-envs/nersc-rootpy/lib/python2.7/site-packages/')\n",
    "sys.path.append('/global/common/cori/software/root/6.06.06/lib/root')\n",
    "import ROOT\n",
    "import rootpy\n",
    "import root_numpy as rnp"
   ]
  },
  {
   "cell_type": "markdown",
   "metadata": {},
   "source": [
    "## Useful functions"
   ]
  },
  {
   "cell_type": "code",
   "execution_count": 4,
   "metadata": {
    "collapsed": true
   },
   "outputs": [],
   "source": [
    "# Define a context manager to suppress stdout and stderr.\n",
    "class suppress_stdout_stderr(object):\n",
    "    '''\n",
    "    A context manager for doing a \"deep suppression\" of stdout and stderr in \n",
    "    Python, i.e. will suppress all print, even if the print originates in a \n",
    "    compiled C/Fortran sub-function.\n",
    "       This will not suppress raised exceptions, since exceptions are printed\n",
    "    to stderr just before a script exits, and after the context manager has\n",
    "    exited (at least, I think that is why it lets exceptions through).      \n",
    "\n",
    "    '''\n",
    "    def __init__(self):\n",
    "        # Open a pair of null files\n",
    "        self.null_fds =  [os.open(os.devnull,os.O_RDWR) for x in range(2)]\n",
    "        # Save the actual stdout (1) and stderr (2) file descriptors.\n",
    "        self.save_fds = (os.dup(1), os.dup(2))\n",
    "\n",
    "    def __enter__(self):\n",
    "        # Assign the null pointers to stdout and stderr.\n",
    "        os.dup2(self.null_fds[0],1)\n",
    "        os.dup2(self.null_fds[1],2)\n",
    "\n",
    "    def __exit__(self, *_):\n",
    "        # Re-assign the real stdout/stderr back to (1) and (2)\n",
    "        os.dup2(self.save_fds[0],1)\n",
    "        os.dup2(self.save_fds[1],2)\n",
    "        # Close the null files\n",
    "        os.close(self.null_fds[0])\n",
    "        os.close(self.null_fds[1])"
   ]
  },
  {
   "cell_type": "markdown",
   "metadata": {},
   "source": [
    "## Data loader and preprocessor"
   ]
  },
  {
   "cell_type": "code",
   "execution_count": 5,
   "metadata": {
    "collapsed": true
   },
   "outputs": [],
   "source": [
    "def load_data(bg_cfg_file = '../config/BgFileListAug16.txt',\n",
    "                sig_cfg_file='../config/SignalFileListAug16.txt',\n",
    "                num_files=10,  \n",
    "                group_name='CollectionTree',\n",
    "                branches=['CaloCalTopoClustersAuxDyn.calPhi', \\\n",
    "                          'CaloCalTopoClustersAuxDyn.calEta', \\\n",
    "                          'CaloCalTopoClustersAuxDyn.calE'],\n",
    "                dataset_name='histo',\n",
    "                type_='root'):\n",
    "\n",
    "    #get list of files\n",
    "    bg_files = [line.rstrip() for line in open(bg_cfg_file)]\n",
    "    sig_files = [line.rstrip() for line in open(sig_cfg_file)]\n",
    "    \n",
    "    #so we don't have annoying stderr messages\n",
    "    with suppress_stdout_stderr():\n",
    "            \n",
    "        #bgarray has n_events groups of 3 parallel numpy arrays \n",
    "        #(each numpy within a group is of equal length and each array corresponds to phi, eta and the corresponding energy)\n",
    "        bgarray = rnp.root2array(bg_files[:num_files], \\\n",
    "                                treename=group_name, \\\n",
    "                                branches=branches, \\\n",
    "                                start=0, \\\n",
    "                                warn_missing_tree=True)\n",
    "\n",
    "        sigarray = rnp.root2array(sig_files[:num_files],\\\n",
    "                                treename=group_name,\\\n",
    "                                branches=branches,\\\n",
    "                                start=0, \\\n",
    "                                warn_missing_tree=True)\n",
    "        \n",
    "    #create dataframe with all entries\n",
    "    #store in dataframe\n",
    "    bgdf = pd.DataFrame.from_records(bgarray)\n",
    "    bgdf['label']=0\n",
    "    sigdf = pd.DataFrame.from_records(sigarray)\n",
    "    sigdf['label']=1\n",
    "    \n",
    "    #concat\n",
    "    return pd.concat([bgdf,sigdf])\n",
    "\n",
    "\n",
    "#preprocessor\n",
    "def preprocess_data(df,eta_range,phi_range,eta_bins,phi_bins):\n",
    "    #empty array\n",
    "    xvals = np.zeros((df.shape[0], 1, phi_bins, eta_bins ),dtype='float32')\n",
    "    yvals = np.zeros((df.shape[0],),dtype='int32')\n",
    "    \n",
    "    for i in range(df.shape[0]):        \n",
    "        phi, eta, E =  df.iloc[i]['CaloCalTopoClustersAuxDyn.calPhi'],\\\n",
    "                       df.iloc[i]['CaloCalTopoClustersAuxDyn.calEta'],\\\n",
    "                       df.iloc[i]['CaloCalTopoClustersAuxDyn.calE']\n",
    "        \n",
    "        xvals[i]=np.histogram2d(phi,eta,\n",
    "                                bins=(phi_bins, eta_bins), \\\n",
    "                                weights=E,\n",
    "                                range=[phi_range,eta_range])[0]\n",
    "        yvals[i]=df.iloc[i]['label']\n",
    "        \n",
    "    return xvals, yvals"
   ]
  },
  {
   "cell_type": "markdown",
   "metadata": {},
   "source": [
    "## Data iterator"
   ]
  },
  {
   "cell_type": "code",
   "execution_count": 6,
   "metadata": {
    "collapsed": true
   },
   "outputs": [],
   "source": [
    "class hep_data_iterator_autoenc:\n",
    "    \n",
    "    #class constructor\n",
    "    def __init__(self,\n",
    "                 datadf,\n",
    "                 max_frequency=None,\n",
    "                 shuffle=True,\n",
    "                 bin_size=0.025,\n",
    "                 eta_range = [-5,5],\n",
    "                 phi_range = [-3.14, 3.14]\n",
    "                ):\n",
    "\n",
    "        #set parameters\n",
    "        self.shuffle = shuffle\n",
    "        self.bin_size = bin_size\n",
    "        self.eta_range = eta_range\n",
    "        self.phi_range = phi_range\n",
    "        \n",
    "        #compute bins\n",
    "        self.eta_bins = int(np.floor((self.eta_range[1] - self.eta_range[0]) / self.bin_size))\n",
    "        self.phi_bins = int(np.floor((self.phi_range[1] - self.phi_range[0]) / self.bin_size))\n",
    "        \n",
    "        #dataframe\n",
    "        self.df = datadf\n",
    "        self.df.sort_values(by='label',inplace=True)\n",
    "        \n",
    "        #make class frequencies even:\n",
    "        tmpdf=self.df.groupby('label').count().reset_index()\n",
    "        self.num_classes=tmpdf.shape[0]\n",
    "        \n",
    "        #determine minimum frequency\n",
    "        min_frequency=tmpdf['CaloCalTopoClustersAuxDyn.calE'].min()\n",
    "        if max_frequency:\n",
    "            min_frequency=np.min([min_frequency,max_frequency])\n",
    "        tmpdf=self.df.groupby(['label']).apply(lambda x: x[['CaloCalTopoClustersAuxDyn.calPhi', \\\n",
    "                                                            'CaloCalTopoClustersAuxDyn.calEta', \\\n",
    "                                                            'CaloCalTopoClustersAuxDyn.calE']].iloc[:min_frequency,:]).copy()\n",
    "        tmpdf.reset_index(inplace=True)\n",
    "        del tmpdf['level_1']\n",
    "        self.df=tmpdf.copy()\n",
    "        \n",
    "        #compute max:\n",
    "        self.compute_data_max()\n",
    "        \n",
    "        #shuffle if wanted (highly recommended)\n",
    "        if self.shuffle:\n",
    "            self.df=self.df.reindex(np.random.permutation(self.df.index))\n",
    "        \n",
    "        #number of examples\n",
    "        self.num_examples=self.df.shape[0]\n",
    "        \n",
    "        #shapes:\n",
    "        self.xshape=(1, self.phi_bins, self.eta_bins)\n",
    "        \n",
    "    \n",
    "    #compute max over all data\n",
    "    def compute_data_max(self):\n",
    "        '''compute the maximum over all event entries for rescaling data between -1 and 1'''\n",
    "        self.max_abs=(self.df['CaloCalTopoClustersAuxDyn.calE'].abs()).apply(lambda x: np.max(x)).max()\n",
    "    \n",
    "    \n",
    "    #this is the batch iterator:\n",
    "    def next_batch(self,batchsize):\n",
    "        '''batch iterator'''\n",
    "        \n",
    "        #shuffle:\n",
    "        if self.shuffle:\n",
    "            self.df=self.df.reindex(np.random.permutation(self.df.index))\n",
    "        \n",
    "        #iterate\n",
    "        for idx in range(0,self.num_examples-batchsize,batchsize):\n",
    "            #yield next batch\n",
    "            x,y=preprocess_data(self.df.iloc[idx:idx+batchsize,:],\\\n",
    "                             self.eta_range,\n",
    "                             self.phi_range,\n",
    "                             self.eta_bins,self.phi_bins)\n",
    "            #rescale x:\n",
    "            x/=self.max_abs\n",
    "            \n",
    "            #return result\n",
    "            yield x,y"
   ]
  },
  {
   "cell_type": "markdown",
   "metadata": {},
   "source": [
    "## Construct data iterator"
   ]
  },
  {
   "cell_type": "code",
   "execution_count": 7,
   "metadata": {
    "collapsed": false
   },
   "outputs": [
    {
     "name": "stderr",
     "output_type": "stream",
     "text": [
      "/global/homes/w/wbhimji/cori-envs/nersc-rootpy/lib/python2.7/site-packages/root_numpy/_tree.py:209: RuntimeWarning: tree 'CollectionTree' not found in /global/projecta/projectdirs/atlas/atlaslocalgroupdisk/rucio/mc15_13TeV/14/bb/DAOD_EXOT3.08597479._000007.pool.root.1\n",
      "  warn_missing_tree)\n"
     ]
    }
   ],
   "source": [
    "#parameters\n",
    "train_fraction=0.8\n",
    "binsize=0.1\n",
    "numfiles=2\n",
    "\n",
    "#load data\n",
    "datadf=load_data(num_files=numfiles)\n",
    "\n",
    "#create views for different labels\n",
    "sigdf=datadf[ datadf.label==1 ]\n",
    "bgdf=datadf[ datadf.label==0 ]\n",
    "\n",
    "#split the sets\n",
    "num_sig_train=int(np.floor(sigdf.shape[0]*train_fraction))\n",
    "num_bg_train=int(np.floor(bgdf.shape[0]*train_fraction))\n",
    "traindf=pd.concat([bgdf.iloc[:num_bg_train],sigdf.iloc[:num_sig_train]])\n",
    "validdf=pd.concat([bgdf.iloc[num_bg_train:],sigdf.iloc[num_sig_train:]])\n",
    "\n",
    "#create iterators\n",
    "hditer_train=hep_data_iterator(traindf,max_frequency=2000,bin_size=binsize)\n",
    "hditer_validation=hep_data_iterator(validdf,max_frequency=500,bin_size=binsize)\n",
    "\n",
    "#the preprocessing for the validation iterator has to be taken from the training iterator\n",
    "hditer_validation.max_abs=hditer_train.max_abs"
   ]
  },
  {
   "cell_type": "code",
   "execution_count": 8,
   "metadata": {
    "collapsed": false
   },
   "outputs": [
    {
     "name": "stdout",
     "output_type": "stream",
     "text": [
      "4000\n",
      "1000\n"
     ]
    }
   ],
   "source": [
    "print hditer_train.num_examples\n",
    "print hditer_validation.num_examples"
   ]
  },
  {
   "cell_type": "markdown",
   "metadata": {},
   "source": [
    "# Variational Autoencoder"
   ]
  },
  {
   "cell_type": "markdown",
   "metadata": {},
   "source": [
    "## Some useful definitions"
   ]
  },
  {
   "cell_type": "code",
   "execution_count": 9,
   "metadata": {
    "collapsed": true
   },
   "outputs": [],
   "source": [
    "#KL divergence\n",
    "def KLdiv(z_mu, z_log_sigma):\n",
    "    return -0.5 * (1. + 2. * z_log_sigma - z_mu**2 - T.exp(2. * z_log_sigma)).sum(1)\n",
    "\n",
    "class ReparamLayer(ls.layers.MergeLayer):\n",
    "    \"\"\"Layer for reparametrization trick: order of parameters: eps, mu, log_std.\n",
    "    Computes mu + sigma * eps, so the result ~N(mu,sigma) if eps~N(0,1)\n",
    "    \n",
    "    \"\"\"\n",
    "    def __init__(self, incomings, **kwargs):\n",
    "        super(ReparamLayer, self).__init__(incomings, **kwargs)\n",
    "\n",
    "    def get_output_for(self, inputs, **kwargs):\n",
    "        return inputs[1] + inputs[0] * T.exp(inputs[2])\n",
    "\n",
    "    def get_output_shape_for(self, input_shapes):\n",
    "        return (input_shapes[0])"
   ]
  },
  {
   "cell_type": "markdown",
   "metadata": {},
   "source": [
    "## Construct autoencoder network"
   ]
  },
  {
   "cell_type": "code",
   "execution_count": 22,
   "metadata": {
    "collapsed": false
   },
   "outputs": [],
   "source": [
    "#some parameters\n",
    "keep_prob=0.5\n",
    "num_filters=128\n",
    "num_units_latent=10\n",
    "initial_learning_rate=0.005\n",
    "\n",
    "#input layer\n",
    "l_inp_data = ls.layers.InputLayer((None,hditer_train.xshape[0],hditer_train.xshape[1],hditer_train.xshape[2]))\n",
    "l_inp_eps = ls.layers.InputLayer((None,num_units_latent))\n",
    "\n",
    "#conv layers\n",
    "#encoder 1:\n",
    "l_conv1 = ls.layers.Conv2DLayer(incoming=l_inp_data,\n",
    "                                num_filters=num_filters,\n",
    "                                filter_size=3,\n",
    "                                stride=(1,1),\n",
    "                                pad=0,\n",
    "                                W=ls.init.HeUniform(),\n",
    "                                b=ls.init.Constant(0.),\n",
    "                                nonlinearity=ls.nonlinearities.LeakyRectify()\n",
    "                               )\n",
    "l_drop1 = ls.layers.DropoutLayer(incoming=l_conv1,\n",
    "                       p=keep_prob,\n",
    "                       rescale=True\n",
    "                      )\n",
    "l_pool1 = ls.layers.MaxPool2DLayer(incoming=l_drop1,\n",
    "                                   pool_size=(2,2),\n",
    "                                   stride=2,\n",
    "                                   pad=0                                   \n",
    "                                  )\n",
    "\n",
    "#encoder 2:\n",
    "l_conv2 = ls.layers.Conv2DLayer(incoming=l_pool1,\n",
    "                                num_filters=num_filters,\n",
    "                                filter_size=3,\n",
    "                                stride=(1,1),\n",
    "                                pad=0,\n",
    "                                W=ls.init.HeUniform(),\n",
    "                                b=ls.init.Constant(0.),\n",
    "                                nonlinearity=ls.nonlinearities.LeakyRectify()\n",
    "                               )\n",
    "l_drop2 = ls.layers.DropoutLayer(incoming=l_conv2,\n",
    "                       p=keep_prob,\n",
    "                       rescale=True\n",
    "                      )\n",
    "l_pool2 = ls.layers.MaxPool2DLayer(incoming=l_drop2,\n",
    "                                   pool_size=(2,2),\n",
    "                                   stride=2,\n",
    "                                   pad=0                                   \n",
    "                                  )\n",
    "\n",
    "#encoder 3:\n",
    "l_conv3 = ls.layers.Conv2DLayer(incoming=l_pool2,\n",
    "                                num_filters=num_filters,\n",
    "                                filter_size=3,\n",
    "                                stride=(1,1),\n",
    "                                pad=0,\n",
    "                                W=ls.init.HeUniform(),\n",
    "                                b=ls.init.Constant(0.),\n",
    "                                nonlinearity=ls.nonlinearities.LeakyRectify()\n",
    "                               )\n",
    "l_drop3 = ls.layers.DropoutLayer(incoming=l_conv3,\n",
    "                       p=keep_prob,\n",
    "                       rescale=True\n",
    "                      )\n",
    "l_pool3 = ls.layers.MaxPool2DLayer(incoming=l_drop3,\n",
    "                                   pool_size=(2,2),\n",
    "                                   stride=2,\n",
    "                                   pad=0                                   \n",
    "                                  )\n",
    "\n",
    "#encoder 4:\n",
    "l_conv4 = ls.layers.Conv2DLayer(incoming=l_pool3,\n",
    "                                num_filters=num_filters,\n",
    "                                filter_size=3,\n",
    "                                stride=(1,1),\n",
    "                                pad=0,\n",
    "                                W=ls.init.HeUniform(),\n",
    "                                b=ls.init.Constant(0.),\n",
    "                                nonlinearity=ls.nonlinearities.LeakyRectify()\n",
    "                               )\n",
    "l_drop4 = ls.layers.DropoutLayer(incoming=l_conv4,\n",
    "                       p=keep_prob,\n",
    "                       rescale=True\n",
    "                      )\n",
    "l_pool4 = ls.layers.MaxPool2DLayer(incoming=l_drop4,\n",
    "                                   pool_size=(2,2),\n",
    "                                   stride=2,\n",
    "                                   pad=0                         \n",
    "                                  )\n",
    "\n",
    "#flatten\n",
    "l_flatten = ls.layers.FlattenLayer(incoming=l_pool4,\n",
    "                                outdim=2)\n",
    "\n",
    "l_project = ls.layers.DenseLayer(incoming=l_flatten, \n",
    "                             num_units=num_units_latent, \n",
    "                             W=ls.init.GlorotUniform(np.sqrt(2./(1+0.01**2))), \n",
    "                             b=ls.init.Constant(0.0),\n",
    "                             nonlinearity=ls.nonlinearities.LeakyRectify()\n",
    "                            )\n",
    "\n",
    "#sampling layer\n",
    "l_z_mean = ls.layers.DenseLayer(incoming=l_project, \n",
    "                             num_units=num_units_latent, \n",
    "                             W=ls.init.GlorotUniform(np.sqrt(2./(1+0.01**2))), \n",
    "                             b=ls.init.Constant(0.0),\n",
    "                             nonlinearity=ls.nonlinearities.identity\n",
    "                            )\n",
    "l_z_log_sigma = ls.layers.DenseLayer(incoming=l_project, \n",
    "                             num_units=num_units_latent, \n",
    "                             W=ls.init.GlorotUniform(np.sqrt(2./(1+0.01**2))), \n",
    "                             b=ls.init.Constant(0.0),\n",
    "                             nonlinearity=ls.nonlinearities.identity\n",
    "                            )\n",
    "\n",
    "l_z = ReparamLayer(incomings=[l_inp_eps, l_z_mean, l_z_log_sigma])\n",
    "\n",
    "#unproject\n",
    "l_unproject = ls.layers.InverseLayer(incoming=l_z, layer=l_project)\n",
    "\n",
    "#deflatten\n",
    "#l_unflatten = ls.layers.ReshapeLayer(incoming=l_unproject,\n",
    "#                                    shape=([0],1,l_drop4.output_shape[2],l_drop4.output_shape[3]))\n",
    "l_unflatten = ls.layers.InverseLayer(incoming=l_unproject, layer=l_flatten)\n",
    "\n",
    "#decoder 4\n",
    "l_unpool4 = ls.layers.InverseLayer(incoming=l_unflatten,\n",
    "                                   layer=l_pool4)\n",
    "l_deconv4 = ls.layers.TransposedConv2DLayer(incoming=l_unpool4,\n",
    "                                            num_filters=num_filters,\n",
    "                                            filter_size=3,\n",
    "                                            stride=(1,1),\n",
    "                                            W=ls.init.HeUniform(),\n",
    "                                            b=ls.init.Constant(0.),\n",
    "                                            nonlinearity=ls.nonlinearities.LeakyRectify()\n",
    "                                           )\n",
    "\n",
    "#decoder 3\n",
    "l_unpool3 = ls.layers.InverseLayer(incoming=l_deconv4,\n",
    "                                   layer=l_pool3)\n",
    "l_deconv3 = ls.layers.TransposedConv2DLayer(incoming=l_unpool3,\n",
    "                                            num_filters=num_filters,\n",
    "                                            filter_size=3,\n",
    "                                            stride=(1,1),\n",
    "                                            W=ls.init.HeUniform(),\n",
    "                                            b=ls.init.Constant(0.),\n",
    "                                            nonlinearity=ls.nonlinearities.LeakyRectify()\n",
    "                                           )\n",
    "\n",
    "#decoder 2\n",
    "l_unpool2 = ls.layers.InverseLayer(incoming=l_deconv3,\n",
    "                                   layer=l_pool2)\n",
    "l_deconv2 = ls.layers.TransposedConv2DLayer(incoming=l_unpool2,\n",
    "                                            num_filters=num_filters,\n",
    "                                            filter_size=3,\n",
    "                                            stride=(1,1),\n",
    "                                            W=ls.init.HeUniform(),\n",
    "                                            b=ls.init.Constant(0.),\n",
    "                                            nonlinearity=ls.nonlinearities.LeakyRectify()\n",
    "                                           )\n",
    "\n",
    "#decoder 1\n",
    "l_unpool1 = ls.layers.InverseLayer(incoming=l_deconv2,\n",
    "                                   layer=l_pool1)\n",
    "l_out = ls.layers.TransposedConv2DLayer(incoming=l_unpool1,\n",
    "                                            num_filters=1,\n",
    "                                            filter_size=3,\n",
    "                                            stride=(1,1),\n",
    "                                            W=ls.init.HeUniform(),\n",
    "                                            b=ls.init.Constant(0.),\n",
    "                                            nonlinearity=ls.nonlinearities.identity\n",
    "                                           )\n",
    "\n",
    "#network\n",
    "network = [l_inp_data, l_inp_eps,\n",
    "           l_conv1, l_pool1, l_drop1,\n",
    "           l_conv2, l_pool2, l_drop2,\n",
    "           l_conv3, l_pool3, l_drop3,\n",
    "           l_conv4, l_pool4, l_drop4,\n",
    "           l_project, l_flatten,\n",
    "           l_z_mean, l_z_log_sigma, l_z,\n",
    "           l_unproject, l_unflatten,\n",
    "           l_unpool4, l_deconv4,\n",
    "           l_unpool3, l_deconv3,\n",
    "           l_unpool2, l_deconv2,\n",
    "           l_unpool1, l_out\n",
    "          ]\n",
    "\n",
    "#variables\n",
    "inp = l_inp_data.input_var\n",
    "eps = l_inp_eps.input_var\n",
    "\n",
    "#output from the whole network\n",
    "l_pred_data = ls.layers.get_output(l_out, {l_inp_data: inp, l_inp_eps: eps})\n",
    "l_pred_data_det = ls.layers.get_output(l_out, {l_inp_data: inp, l_inp_eps: eps}, deterministic=True)\n",
    "\n",
    "#output for the sampling layer\n",
    "l_out_z_mean = ls.layers.get_output(l_z_mean,{l_inp_data: inp})\n",
    "l_out_z_log_sigma = ls.layers.get_output(l_z_log_sigma,{l_inp_data: inp})\n",
    "\n",
    "#loss functions:\n",
    "klloss = KLdiv(l_out_z_mean, l_out_z_log_sigma).mean()\n",
    "celoss = ls.objectives.squared_error(l_pred_data,inp).mean()\n",
    "celoss_det = ls.objectives.squared_error(l_pred_data_det,inp).mean()\n",
    "loss = celoss + klloss\n",
    "loss_det = celoss_det\n",
    "\n",
    "#parameters\n",
    "params = ls.layers.get_all_params(network, trainable=True)\n",
    "\n",
    "#updates\n",
    "updates = ls.updates.adam(loss, params, learning_rate=initial_learning_rate)\n",
    "\n",
    "#compile network function\n",
    "fnn = theano.function([inp,eps], l_pred_data_det)\n",
    "#training function to minimize\n",
    "fnn_train = theano.function([inp,eps], loss, updates=updates)\n",
    "#validation function with accuracy\n",
    "fnn_validate = theano.function([inp,eps], loss_det)"
   ]
  },
  {
   "cell_type": "markdown",
   "metadata": {},
   "source": [
    "## Train autoencoder"
   ]
  },
  {
   "cell_type": "code",
   "execution_count": 23,
   "metadata": {
    "collapsed": false
   },
   "outputs": [
    {
     "name": "stdout",
     "output_type": "stream",
     "text": [
      "train:  1.82814709551\n",
      "train:  1.73360555731\n",
      "train:  1.17169037499\n",
      "train:  0.895667161628\n",
      "train:  0.732654803161\n",
      "train:  0.621902963026\n",
      "train:  0.538622833899\n",
      "train:  0.474527043895\n",
      "train:  0.423766304196\n",
      "train:  0.38259824551\n",
      "train:  0.348378647263\n",
      "train:  0.319730666273\n",
      "train:  0.295424534728\n",
      "train:  0.274566052635\n",
      "train:  0.256471373648\n",
      "train:  0.240632564193\n",
      "train:  0.226650537083\n",
      "train:  0.214215740411\n",
      "train:  0.203082315367\n",
      "train:  0.193054407771\n"
     ]
    },
    {
     "ename": "KeyboardInterrupt",
     "evalue": "",
     "output_type": "error",
     "traceback": [
      "\u001b[0;31m\u001b[0m",
      "\u001b[0;31mKeyboardInterrupt\u001b[0mTraceback (most recent call last)",
      "\u001b[0;32m<ipython-input-23-dcacd0123b8a>\u001b[0m in \u001b[0;36m<module>\u001b[0;34m()\u001b[0m\n\u001b[1;32m     13\u001b[0m         \u001b[0mepsilon\u001b[0m\u001b[0;34m=\u001b[0m\u001b[0mnp\u001b[0m\u001b[0;34m.\u001b[0m\u001b[0mrandom\u001b[0m\u001b[0;34m.\u001b[0m\u001b[0mnormal\u001b[0m\u001b[0;34m(\u001b[0m\u001b[0msize\u001b[0m\u001b[0;34m=\u001b[0m\u001b[0;34m(\u001b[0m\u001b[0mbatchsize\u001b[0m\u001b[0;34m,\u001b[0m\u001b[0mnum_units_latent\u001b[0m\u001b[0;34m)\u001b[0m\u001b[0;34m)\u001b[0m\u001b[0;34m\u001b[0m\u001b[0m\n\u001b[1;32m     14\u001b[0m \u001b[0;34m\u001b[0m\u001b[0m\n\u001b[0;32m---> 15\u001b[0;31m         \u001b[0mtrain_err\u001b[0m \u001b[0;34m+=\u001b[0m \u001b[0mfnn_train\u001b[0m\u001b[0;34m(\u001b[0m\u001b[0minputs\u001b[0m\u001b[0;34m,\u001b[0m\u001b[0mepsilon\u001b[0m\u001b[0;34m)\u001b[0m\u001b[0;34m\u001b[0m\u001b[0m\n\u001b[0m\u001b[1;32m     16\u001b[0m         \u001b[0mtrain_batches\u001b[0m \u001b[0;34m+=\u001b[0m \u001b[0;36m1.\u001b[0m\u001b[0;34m\u001b[0m\u001b[0m\n\u001b[1;32m     17\u001b[0m \u001b[0;34m\u001b[0m\u001b[0m\n",
      "\u001b[0;32m/global/common/cori/software/python/2.7-anaconda/envs/deeplearning/lib/python2.7/site-packages/theano/compile/function_module.pyc\u001b[0m in \u001b[0;36m__call__\u001b[0;34m(self, *args, **kwargs)\u001b[0m\n\u001b[1;32m    857\u001b[0m         \u001b[0mt0_fn\u001b[0m \u001b[0;34m=\u001b[0m \u001b[0mtime\u001b[0m\u001b[0;34m.\u001b[0m\u001b[0mtime\u001b[0m\u001b[0;34m(\u001b[0m\u001b[0;34m)\u001b[0m\u001b[0;34m\u001b[0m\u001b[0m\n\u001b[1;32m    858\u001b[0m         \u001b[0;32mtry\u001b[0m\u001b[0;34m:\u001b[0m\u001b[0;34m\u001b[0m\u001b[0m\n\u001b[0;32m--> 859\u001b[0;31m             \u001b[0moutputs\u001b[0m \u001b[0;34m=\u001b[0m \u001b[0mself\u001b[0m\u001b[0;34m.\u001b[0m\u001b[0mfn\u001b[0m\u001b[0;34m(\u001b[0m\u001b[0;34m)\u001b[0m\u001b[0;34m\u001b[0m\u001b[0m\n\u001b[0m\u001b[1;32m    860\u001b[0m         \u001b[0;32mexcept\u001b[0m \u001b[0mException\u001b[0m\u001b[0;34m:\u001b[0m\u001b[0;34m\u001b[0m\u001b[0m\n\u001b[1;32m    861\u001b[0m             \u001b[0;32mif\u001b[0m \u001b[0mhasattr\u001b[0m\u001b[0;34m(\u001b[0m\u001b[0mself\u001b[0m\u001b[0;34m.\u001b[0m\u001b[0mfn\u001b[0m\u001b[0;34m,\u001b[0m \u001b[0;34m'position_of_error'\u001b[0m\u001b[0;34m)\u001b[0m\u001b[0;34m:\u001b[0m\u001b[0;34m\u001b[0m\u001b[0m\n",
      "\u001b[0;31mKeyboardInterrupt\u001b[0m: "
     ]
    }
   ],
   "source": [
    "num_epochs=10\n",
    "batchsize=128\n",
    "\n",
    "for epoch in range(num_epochs):\n",
    "    # In each epoch, we do a full pass over the training data:\n",
    "    train_err = 0.\n",
    "    train_batches = 0.\n",
    "    start_time = time.time()\n",
    "    for batch in hditer_train.next_batch(batchsize):\n",
    "        inputs, targets = batch\n",
    "        \n",
    "        #get epsilon\n",
    "        epsilon=np.random.normal(size=(batchsize,num_units_latent))\n",
    "        \n",
    "        train_err += fnn_train(inputs,epsilon)\n",
    "        train_batches += 1.\n",
    "        \n",
    "        #debugging output\n",
    "        print 'train: ', train_err/train_batches\n",
    "        \n",
    "    # And a full pass over the validation data:\n",
    "    val_err = 0.\n",
    "    val_batches = 0.\n",
    "    for batch in hditer_validation.next_batch(batchsize):\n",
    "        inputs, targets = batch\n",
    "        \n",
    "        #get epsilon\n",
    "        epsilon=np.random.normal(size=(batchsize,num_units_latent))\n",
    "        \n",
    "        val_err += fnn_validate(inputs,epsilon)\n",
    "        val_batches += 1.\n",
    "\n",
    "    # Then we print the results for this epoch:\n",
    "    print(\"Epoch {} of {} took {:.3f}s\".format(epoch + 1, num_epochs, time.time() - start_time))\n",
    "    print(\"  training loss:\\t\\t{:.6f}\".format(train_err / train_batches))\n",
    "    print(\"  validation loss:\\t\\t{:.6f}\".format(val_err / val_batches))"
   ]
  },
  {
   "cell_type": "markdown",
   "metadata": {},
   "source": [
    "## RNG Debugger"
   ]
  },
  {
   "cell_type": "code",
   "execution_count": null,
   "metadata": {
    "collapsed": true
   },
   "outputs": [],
   "source": [
    "mu = np.zeros((4,10))\n",
    "mu[:]=1.\n",
    "std = np.zeros((4,10))\n",
    "std[:]=3.\n",
    "\n",
    "z0 = np.zeros((4,10)) \n",
    "z1 = np.zeros((4,10))\n",
    "z1[:,:] = 1.\n",
    "eps=T.matrix('eps')\n",
    "zmean0 = theano.shared(z0, name='zmean0')\n",
    "zstd0 = theano.shared(z1, name='zstd0')\n",
    "zmean = theano.shared(mu, name='zmean')\n",
    "zstd = theano.shared(std, name='zstd')\n",
    "zrng = zmean + zstd * eps #Trng.normal(size=zmean0.shape, avg=zmean0, std=zstd0)\n",
    "zrng2 = zmean + zstd * Trng.normal(size=zmean0.shape)\n",
    "f_theano = theano.function([eps], zrng)\n",
    "f_theano2 = theano.function([], zrng2)\n",
    "\n",
    "zmt=T.matrix('zmt')\n",
    "zst=T.matrix('zst')\n",
    "f_KL = theano.function([zmt,zst],KLdiv(zmt,zst))"
   ]
  },
  {
   "cell_type": "code",
   "execution_count": null,
   "metadata": {
    "collapsed": true
   },
   "outputs": [],
   "source": [
    "arr=[]\n",
    "arr2=[]\n",
    "for n in range(10000):\n",
    "    eps=np.random.normal(loc=0., scale=1., size=(4,10))\n",
    "    arr.append(f_theano(eps)[0,0])\n",
    "    arr2.append(f_theano2()[0,0])\n",
    "n, bins, patches = plt.hist(arr, 100, normed=1, facecolor='green', alpha=0.75)\n",
    "y = mlab.normpdf( bins, 1, 3)\n",
    "l = plt.plot(bins, y, 'r--', linewidth=1)\n",
    "plt.show()"
   ]
  },
  {
   "cell_type": "code",
   "execution_count": null,
   "metadata": {
    "collapsed": true
   },
   "outputs": [],
   "source": []
  }
 ],
 "metadata": {
  "kernelspec": {
   "display_name": "Python [deeplearning]",
   "language": "python",
   "name": "Python [deeplearning]"
  },
  "language_info": {
   "codemirror_mode": {
    "name": "ipython",
    "version": 2
   },
   "file_extension": ".py",
   "mimetype": "text/x-python",
   "name": "python",
   "nbconvert_exporter": "python",
   "pygments_lexer": "ipython2",
   "version": "2.7.12"
  }
 },
 "nbformat": 4,
 "nbformat_minor": 0
}
