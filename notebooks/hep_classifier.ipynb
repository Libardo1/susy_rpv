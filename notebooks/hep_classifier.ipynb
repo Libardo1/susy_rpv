{
 "cells": [
  {
   "cell_type": "code",
   "execution_count": 1,
   "metadata": {
    "collapsed": true
   },
   "outputs": [],
   "source": [
    "__author__ = 'tkurth'\n",
    "import sys\n",
    "import os\n",
    "import numpy as np\n",
    "import pandas as pd\n",
    "from matplotlib import pyplot as plt\n",
    "from sklearn import preprocessing\n",
    "from sklearn.cross_validation import train_test_split\n",
    "from nbfinder import NotebookFinder\n",
    "sys.meta_path.append(NotebookFinder())\n",
    "%matplotlib inline\n",
    "import time"
   ]
  },
  {
   "cell_type": "markdown",
   "metadata": {},
   "source": [
    "## ROOT stuff"
   ]
  },
  {
   "cell_type": "code",
   "execution_count": 2,
   "metadata": {
    "collapsed": false
   },
   "outputs": [
    {
     "data": {
      "application/javascript": [
       "require(['codemirror/mode/clike/clike'], function(Clike) { console.log('ROOTaaS - C++ CodeMirror module loaded'); });"
      ]
     },
     "metadata": {},
     "output_type": "display_data"
    },
    {
     "data": {
      "application/javascript": [
       "IPython.CodeCell.config_defaults.highlight_modes['magic_text/x-c++src'] = {'reg':[/^%%cpp/]};"
      ]
     },
     "metadata": {},
     "output_type": "display_data"
    },
    {
     "name": "stdout",
     "output_type": "stream",
     "text": [
      "Welcome to ROOTaaS 6.06/04\n"
     ]
    }
   ],
   "source": [
    "sys.path.append('/global/homes/w/wbhimji/cori-envs/nersc-rootpy/lib/python2.7/site-packages/')\n",
    "import ROOT\n",
    "import rootpy\n",
    "import root_numpy as rnp"
   ]
  },
  {
   "cell_type": "markdown",
   "metadata": {},
   "source": [
    "## Useful functions"
   ]
  },
  {
   "cell_type": "code",
   "execution_count": 3,
   "metadata": {
    "collapsed": true
   },
   "outputs": [],
   "source": [
    "# Define a context manager to suppress stdout and stderr.\n",
    "class suppress_stdout_stderr(object):\n",
    "    '''\n",
    "    A context manager for doing a \"deep suppression\" of stdout and stderr in \n",
    "    Python, i.e. will suppress all print, even if the print originates in a \n",
    "    compiled C/Fortran sub-function.\n",
    "       This will not suppress raised exceptions, since exceptions are printed\n",
    "    to stderr just before a script exits, and after the context manager has\n",
    "    exited (at least, I think that is why it lets exceptions through).      \n",
    "\n",
    "    '''\n",
    "    def __init__(self):\n",
    "        # Open a pair of null files\n",
    "        self.null_fds =  [os.open(os.devnull,os.O_RDWR) for x in range(2)]\n",
    "        # Save the actual stdout (1) and stderr (2) file descriptors.\n",
    "        self.save_fds = (os.dup(1), os.dup(2))\n",
    "\n",
    "    def __enter__(self):\n",
    "        # Assign the null pointers to stdout and stderr.\n",
    "        os.dup2(self.null_fds[0],1)\n",
    "        os.dup2(self.null_fds[1],2)\n",
    "\n",
    "    def __exit__(self, *_):\n",
    "        # Re-assign the real stdout/stderr back to (1) and (2)\n",
    "        os.dup2(self.save_fds[0],1)\n",
    "        os.dup2(self.save_fds[1],2)\n",
    "        # Close the null files\n",
    "        os.close(self.null_fds[0])\n",
    "        os.close(self.null_fds[1])"
   ]
  },
  {
   "cell_type": "markdown",
   "metadata": {},
   "source": [
    "## Data iterator"
   ]
  },
  {
   "cell_type": "code",
   "execution_count": 38,
   "metadata": {
    "collapsed": false
   },
   "outputs": [],
   "source": [
    "class hep_data_iterator:\n",
    "    \n",
    "    #class constructor\n",
    "    def __init__(self,\n",
    "                 bg_cfg_file = '../config/BgFileListAug16.txt',\n",
    "                 sig_cfg_file='../config/SignalFileListAug16.txt',\n",
    "                 group_name='CollectionTree',\n",
    "                 branches=['CaloCalTopoClustersAuxDyn.calPhi', 'CaloCalTopoClustersAuxDyn.calEta','CaloCalTopoClustersAuxDyn.calE'],\n",
    "                 num_events_total=50000,\n",
    "                 num_events_cached=512,\n",
    "                 num_classes=2,\n",
    "                 shuffle=True,\n",
    "                 preprocess=True,\n",
    "                 bin_size=0.025,\n",
    "                 eta_range = [-5,5],\n",
    "                 phi_range = [-3.14, 3.14],\n",
    "                 dataset_name='histo'):\n",
    "        \n",
    "        #general stuff\n",
    "        self.group_name=group_name\n",
    "        self.branches=branches\n",
    "        \n",
    "        #set some local variables:\n",
    "        self.bg_files = [line.rstrip() for line in open(bg_cfg_file)]\n",
    "        self.sig_files = [line.rstrip() for line in open(sig_cfg_file)]\n",
    "\n",
    "        #that is somehow hardcoded\n",
    "        self.events_per_sig_file = 10000\n",
    "    \n",
    "        #number of total events:\n",
    "        self.num_events_total=num_events_total\n",
    "        self.num_events_cached=num_events_cached\n",
    "        \n",
    "        #number of classes\n",
    "        self.num_classes=num_classes\n",
    "        \n",
    "        #if no total number of events is specified, take everything\n",
    "        if not self.num_events_total:\n",
    "            self.num_events_total = self.events_per_sig_file * np.min([len(self.sig_files),len(self.bg_files)])\n",
    "        \n",
    "        #we assume there are more bg per file than sig, so we bound our number of files by number of files\n",
    "        #needed for a sig event\n",
    "        if self.num_events_total % self.num_classes != 0:\n",
    "            #adjust to class frequencies\n",
    "            self.num_events_total -= self.num_events_total % self.num_classes\n",
    "        \n",
    "        #how many events to we need:\n",
    "        self.num_each = self.num_events_total / self.num_classes\n",
    "\n",
    "        #get the number of files needed in total and for caching\n",
    "        self.num_files = int(np.ceil(self.num_each / float(self.events_per_sig_file)))\n",
    "\n",
    "        #hack because rootpy does not do well with one file\n",
    "        if self.num_files == 1:\n",
    "            self.num_files = 2\n",
    "        \n",
    "        #shuffle array in cases where not all files are used:\n",
    "        self.shuffle=shuffle\n",
    "        if self.shuffle:\n",
    "            np.random.shuffle(self.bg_files)\n",
    "            np.random.shuffle(self.sig_files)\n",
    "        \n",
    "        #restrict the number of elements:\n",
    "        self.bg_files=self.bg_files[:self.num_files]\n",
    "        self.sig_files=self.sig_files[:self.num_files]\n",
    "        \n",
    "        #set file-counter to zero:\n",
    "        self.filecount=0\n",
    "        \n",
    "        #some other required preprocessing\n",
    "        self.phi_range=phi_range\n",
    "        self.eta_range=eta_range\n",
    "        self.bin_size=bin_size\n",
    "        self.phi_bins = int(np.floor((self.phi_range[1] - self.phi_range[0]) / self.bin_size))\n",
    "        self.eta_bins = int(np.floor((self.eta_range[1] - self.eta_range[0]) / self.bin_size))\n",
    "        \n",
    "        #compute cache size and prefetch the first batch\n",
    "        self.compute_cache()\n",
    "        self.prefetch()\n",
    "    \n",
    "    \n",
    "    #compute cache pars:\n",
    "    def compute_cache(self):\n",
    "        #make sure that it is an integer multiple of the number of classes\n",
    "        if self.num_events_cached % self.num_classes != 0:\n",
    "            self.num_events_cached -= self.num_events_cached % self.num_classes\n",
    "            \n",
    "        #how many per class\n",
    "        self.num_each_cached = self.num_events_cached / self.num_classes\n",
    "        \n",
    "        #how many files:\n",
    "        self.num_files_cached = int(np.ceil(self.num_each_cached / float(self.events_per_sig_file)))\n",
    "        \n",
    "        #hack because rootpy does not do well with one file\n",
    "        if self.num_files_cached == 1:\n",
    "            self.num_files_cached = 2\n",
    "        \n",
    "    \n",
    "    #fetch the next bunch of data and preprocess\n",
    "    def prefetch(self):\n",
    "        \n",
    "        #shuffle and start from zero if the number of remaining cached files is too small:\n",
    "        if self.filecount+self.num_files_cached>self.num_files:\n",
    "            self.filecount=0\n",
    "        \n",
    "            #reshuffle data\n",
    "            if self.shuffle:\n",
    "                np.random.shuffle(self.bg_files)\n",
    "                np.random.shuffle(self.sig_files)\n",
    "        \n",
    "        #so we don't have annoying stderr messages\n",
    "        with suppress_stdout_stderr():\n",
    "            \n",
    "            #bgarray has n_events groups of 3 parallel numpy arrays \n",
    "            #(each numpy within a group is of equal length and each array corresponds to phi, eta and the corresponding energy)\n",
    "            bgarray = rnp.root2array(self.bg_files[self.filecount:self.filecount+self.num_files_cached], \\\n",
    "                                     treename=self.group_name, \\\n",
    "                                     branches=self.branches, \\\n",
    "                                     start=0, \\\n",
    "                                     stop=self.num_each_cached,warn_missing_tree=True)\n",
    "\n",
    "            sigarray = rnp.root2array(self.sig_files[self.filecount:self.filecount+self.num_files_cached],\\\n",
    "                                      treename=self.group_name,\\\n",
    "                                      branches=self.branches,\\\n",
    "                                      start=0, \\\n",
    "                                      stop=self.num_each_cached,warn_missing_tree=True)\n",
    "            \n",
    "            #update counter\n",
    "            self.filecount+=self.num_files_cached\n",
    "            \n",
    "        \n",
    "        #now preprocess\n",
    "        #store in dataframe\n",
    "        bgdf = pd.DataFrame.from_records(bgarray)\n",
    "        sigdf = pd.DataFrame.from_records(sigarray)\n",
    "\n",
    "        #create empty array\n",
    "        x_bg = np.zeros((self.num_each_cached, 1, self.phi_bins, self.eta_bins ))\n",
    "        x_sig = np.zeros((self.num_each_cached, 1, self.phi_bins, self.eta_bins ))\n",
    "        \n",
    "        #now go through all the events\n",
    "        for i in range(self.num_each_cached):\n",
    "            phi, eta, E =  bgdf['CaloCalTopoClustersAuxDyn.calPhi'][i],\\\n",
    "                           bgdf['CaloCalTopoClustersAuxDyn.calEta'][i],\\\n",
    "                           bgdf['CaloCalTopoClustersAuxDyn.calE'][i]\n",
    "\n",
    "            x_bg[i] = np.histogram2d(phi,eta, bins=(self.phi_bins, self.eta_bins), weights=E, \\\n",
    "                                     range=[self.phi_range,self.eta_range])[0]\n",
    "\n",
    "            phi, eta, E =  sigdf['CaloCalTopoClustersAuxDyn.calPhi'][i],\\\n",
    "                           sigdf['CaloCalTopoClustersAuxDyn.calEta'][i],\\\n",
    "                           sigdf['CaloCalTopoClustersAuxDyn.calE'][i]\n",
    "            x_sig[i] = np.histogram2d(phi,eta, bins=(self.phi_bins, self.eta_bins), weights=E, \\\n",
    "                                      range=[self.phi_range,self.eta_range])[0]\n",
    "\n",
    "\n",
    "        #background first\n",
    "        self.x = np.vstack((x_bg, x_sig))\n",
    "        \n",
    "        # 1 means signal, 0 means background\n",
    "        self.y = np.zeros((self.num_events_cached,)).astype('int32')\n",
    "        #make the last half signal label\n",
    "        self.y[self.num_each_cached:] = 1\n",
    "    \n",
    "    \n",
    "    #this is the batch iterator:\n",
    "    def get_batch(self,batchsize):\n",
    "        #recompute cache if batchsize is too large\n",
    "        if batchsize>self.num_events_cached:\n",
    "            self.num_events_cached=batchsize*self.num_classes\n",
    "            compute_cache()\n",
    "        \n",
    "        #do iterator loop\n",
    "        for i in range(0,self.num_events_total,batchsize):\n",
    "            \n",
    "            idx = i % self.num_events_cached\n",
    "            \n",
    "            #do we need to prefetch?\n",
    "            if idx+batchsize>self.num_events_cached:\n",
    "                self.prefetch()\n",
    "        \n",
    "            #return the next batch\n",
    "            yield self.x[idx:idx+batchsize], self.y[idx:idx+batchsize]"
   ]
  },
  {
   "cell_type": "markdown",
   "metadata": {},
   "source": [
    "## Construct network"
   ]
  },
  {
   "cell_type": "code",
   "execution_count": 39,
   "metadata": {
    "collapsed": false
   },
   "outputs": [],
   "source": [
    "hditer=hep_data_iterator()"
   ]
  },
  {
   "cell_type": "code",
   "execution_count": null,
   "metadata": {
    "collapsed": true
   },
   "outputs": [],
   "source": []
  }
 ],
 "metadata": {
  "kernelspec": {
   "display_name": "deeplearning_plus_root",
   "language": "python",
   "name": "deeplearning_plus_root"
  },
  "language_info": {
   "codemirror_mode": {
    "name": "ipython",
    "version": 2
   },
   "file_extension": ".py",
   "mimetype": "text/x-python",
   "name": "python",
   "nbconvert_exporter": "python",
   "pygments_lexer": "ipython2",
   "version": "2.7.12"
  }
 },
 "nbformat": 4,
 "nbformat_minor": 0
}
