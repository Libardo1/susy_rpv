{
 "cells": [
  {
   "cell_type": "code",
   "execution_count": 1,
   "metadata": {
    "collapsed": false
   },
   "outputs": [
    {
     "name": "stderr",
     "output_type": "stream",
     "text": [
      "/global/common/cori/software/python/3.5-anaconda/envs/deeplearning/lib/python3.5/site-packages/sklearn/cross_validation.py:44: DeprecationWarning: This module was deprecated in version 0.18 in favor of the model_selection module into which all the refactored classes and functions are moved. Also note that the interface of the new CV iterators are different from that of this module. This module will be removed in 0.20.\n",
      "  \"This module will be removed in 0.20.\", DeprecationWarning)\n"
     ]
    }
   ],
   "source": [
    "__author__ = 'tkurth'\n",
    "import sys\n",
    "import os\n",
    "import numpy as np\n",
    "import pandas as pd\n",
    "import h5py\n",
    "from matplotlib import pyplot as plt\n",
    "import matplotlib.mlab as mlab\n",
    "from sklearn import preprocessing\n",
    "from sklearn.cross_validation import train_test_split\n",
    "from sklearn import metrics\n",
    "from nbfinder import NotebookFinder\n",
    "sys.meta_path.append(NotebookFinder())\n",
    "%matplotlib inline\n",
    "import time\n",
    "from tqdm import tqdm\n",
    "import re\n",
    "import pickle"
   ]
  },
  {
   "cell_type": "markdown",
   "metadata": {},
   "source": [
    "## Load Data"
   ]
  },
  {
   "cell_type": "code",
   "execution_count": 4,
   "metadata": {
    "collapsed": false
   },
   "outputs": [],
   "source": [
    "prefix='output_validation'\n",
    "\n",
    "#retrieve files\n",
    "directory=\"/global/cscratch1/sd/tkurth/atlas_dl/atlas_caffe/runs_preselect_augmented_improved\"\n",
    "filelist=[x for x in os.listdir(directory) if x.startswith(prefix+'_chunk')]"
   ]
  },
  {
   "cell_type": "markdown",
   "metadata": {},
   "source": [
    "## Populate Arrays"
   ]
  },
  {
   "cell_type": "code",
   "execution_count": 5,
   "metadata": {
    "collapsed": false
   },
   "outputs": [
    {
     "name": "stderr",
     "output_type": "stream",
     "text": [
      "100%|██████████| 64/64 [6:58:43<00:00, 376.24s/it]\n"
     ]
    }
   ],
   "source": [
    "datalist=[]\n",
    "\n",
    "for fname in tqdm(filelist):\n",
    "    \n",
    "    #determine chunkid:\n",
    "    chunkid=int(re.match(prefix+r'_chunk(.*?).h5',fname).groups()[0])\n",
    "    \n",
    "    #print \"Open file \"+fname\n",
    "    f = h5py.File(directory+'/'+fname,'r')\n",
    "    \n",
    "    tmpdata={}\n",
    "    for item in f.items():\n",
    "        \n",
    "        #determine name and ID of item\n",
    "        itemname=item[0].split('_')[0]\n",
    "        itemid=int(item[0].split('_')[1])\n",
    "        \n",
    "        #read data\n",
    "        data=list(f[item[0]].value)\n",
    "        \n",
    "        #add to dictionary\n",
    "        if (chunkid,itemid) not in tmpdata.keys():\n",
    "            tmpdata[(chunkid,itemid)]={itemname: data}\n",
    "        else:\n",
    "            tmpdata[(chunkid,itemid)][itemname]=data\n",
    "    \n",
    "    #close the file\n",
    "    f.close()\n",
    "    \n",
    "    #put in list:\n",
    "    for item in tmpdata:\n",
    "        dct=tmpdata[item].copy()\n",
    "        dct['chunk_id']=item[0]\n",
    "        dct['item_id']=item[1]\n",
    "        datalist.append(dct)"
   ]
  },
  {
   "cell_type": "code",
   "execution_count": 6,
   "metadata": {
    "collapsed": false
   },
   "outputs": [],
   "source": [
    "#Convert to dataframe:\n",
    "datareclist=[]\n",
    "for item in datalist:\n",
    "    for idx in range(len(item['softmax'])):\n",
    "        tmpdict={'signal_prob': item['softmax'][idx][1],\n",
    "                 'label': item['label'][idx],\n",
    "                 'weight': item['weight'][idx],\n",
    "                 'psr': item['psr'][idx],\n",
    "                 'jz': item['jz'][idx],\n",
    "                 'mg': item['mg'][idx],\n",
    "                 'mn': item['mn'][idx]\n",
    "                }\n",
    "        datareclist.append(tmpdict)\n",
    "\n",
    "#convert to dataframe\n",
    "datadf=pd.DataFrame(datareclist)"
   ]
  },
  {
   "cell_type": "markdown",
   "metadata": {},
   "source": [
    "## ROC"
   ]
  },
  {
   "cell_type": "code",
   "execution_count": 13,
   "metadata": {
    "collapsed": true
   },
   "outputs": [],
   "source": [
    "seldf=datadf.ix[ ((datadf.mg==1400) & (datadf.mg==850)) | (datadf.jz!=0) ]\n",
    "#seldf=datadf"
   ]
  },
  {
   "cell_type": "code",
   "execution_count": 16,
   "metadata": {
    "collapsed": false
   },
   "outputs": [],
   "source": [
    "#compute ROC from data\n",
    "fpr, tpr, thresholds = metrics.roc_curve(datadf.label, datadf.signal_prob, pos_label=1, sample_weight=datadf.weight)\n",
    "fpr_cut, tpr_cut, thresholds = metrics.roc_curve(datadf.label, datadf.psr, pos_label=1, sample_weight=datadf.weight)\n",
    "fpr_cut=fpr_cut[1]\n",
    "tpr_cut=tpr_cut[1]"
   ]
  },
  {
   "cell_type": "code",
   "execution_count": 21,
   "metadata": {
    "collapsed": false
   },
   "outputs": [
    {
     "data": {
      "image/png": "[encoded data removed]",
      "text/plain": [
       "<matplotlib.figure.Figure at 0x2b50f6cd1a58>"
      ]
     },
     "metadata": {},
     "output_type": "display_data"
    }
   ],
   "source": [
    "#plot the data\n",
    "plt.figure()\n",
    "lw = 2\n",
    "#full curve\n",
    "plt.plot(fpr, tpr, color='darkorange',\n",
    "         lw=lw, label='ROC curve (area = %0.2f)' % metrics.auc(fpr,tpr,reorder=True))\n",
    "plt.plot([0, 1], [0, 1], color='navy', lw=lw, linestyle='--')\n",
    "plt.scatter([fpr_cut],[tpr_cut], color='dodgerblue', label='standard cuts')\n",
    "plt.xlim([0.0, 1.0])\n",
    "plt.ylim([0.0, 1.05])\n",
    "plt.xlabel('False Positive Rate')\n",
    "plt.ylabel('True Positive Rate')\n",
    "plt.title('Receiver operating characteristic example')\n",
    "plt.legend(loc=\"lower right\")\n",
    "plt.savefig('plots/ROC_1400_850.png',dpi=300)\n",
    "#plt.show()\n",
    "\n",
    "#zoomed-in\n",
    "#plt.plot(fpr, tpr, color='darkorange',\n",
    "#         lw=lw, label='ROC curve (area = %0.2f)' % metrics.auc(fpr,tpr))\n",
    "#plt.plot([0, 1], [0, 1], color='navy', lw=lw, linestyle='--')\n",
    "plt.xlim([0.0, 0.0004])\n",
    "plt.ylim([0.0, 1.05])\n",
    "plt.xlabel('False Positive Rate')\n",
    "plt.ylabel('True Positive Rate')\n",
    "plt.title('Receiver operating characteristic example')\n",
    "plt.legend(loc=\"upper right\")\n",
    "plt.savefig('plots/ROC_1400_850_zoom.png',dpi=300)\n",
    "plt.show()"
   ]
  },
  {
   "cell_type": "markdown",
   "metadata": {},
   "source": [
    "# CNN results"
   ]
  },
  {
   "cell_type": "code",
   "execution_count": null,
   "metadata": {
    "collapsed": true
   },
   "outputs": [],
   "source": [
    "#threshold\n",
    "threshold=0.999"
   ]
  },
  {
   "cell_type": "code",
   "execution_count": null,
   "metadata": {
    "collapsed": false
   },
   "outputs": [],
   "source": [
    "#compute signal efficiency:\n",
    "total_signal=np.sum(l_data)\n",
    "found_signal=np.sum([1. if x[0]*x[1]>threshold else 0. for x in zip(l_data,p_data)])\n",
    "print 'sig-efficiency(CNN): ',found_signal/total_signal\n",
    "print 'sig-survivors(CNN): ',found_signal\n",
    "\n",
    "#compute bg rejection:\n",
    "total_background=np.sum([1.-x for x in l_data])\n",
    "false_positive_bg=np.sum([1. if (1.-x[0])*x[1]>threshold else 0. for x in zip(l_data,p_data)])\n",
    "print 'bg-rejection(CNN): ',1.-false_positive_bg/total_background\n",
    "print 'bg-survivors(CNN): ',(1.-(1.-false_positive_bg/total_background))*total_background"
   ]
  },
  {
   "cell_type": "code",
   "execution_count": null,
   "metadata": {
    "collapsed": false
   },
   "outputs": [],
   "source": [
    "#AMS\n",
    "#compute s:\n",
    "sval=np.sum([x[2] if x[0]*x[1]>threshold else 0. for x in zip(l_data,p_data,w_data)])\n",
    "bval=np.sum([x[2] if (1.-x[0])*x[1]>threshold else 0. for x in zip(l_data,p_data,w_data)])\n",
    "brval=10.\n",
    "\n",
    "#print AMS results\n",
    "print \"AMS(CNN) = \",np.sqrt(2.*((sval+bval+brval)*np.log(1.+sval/(bval+brval))-sval))"
   ]
  },
  {
   "cell_type": "markdown",
   "metadata": {},
   "source": [
    "# Cut-based results"
   ]
  },
  {
   "cell_type": "code",
   "execution_count": null,
   "metadata": {
    "collapsed": false
   },
   "outputs": [],
   "source": [
    "#compute signal efficiency:\n",
    "total_signal=np.sum(l_data)\n",
    "found_signal=np.sum([1. if x[0]*x[1]>0. else 0. for x in zip(l_data,c_data)])\n",
    "print 'sig-efficiency(CUT): ',found_signal/total_signal\n",
    "print 'sig-survivors(CUT): ',found_signal\n",
    "\n",
    "#compute bg rejection:\n",
    "total_background=np.sum([1.-x for x in l_data])\n",
    "false_positive_bg=np.sum([1. if (1.-x[0])*x[1]>0. else 0. for x in zip(l_data,c_data)])\n",
    "print 'bg-rejection(CUT): ',1.-false_positive_bg/total_background\n",
    "print 'bg-survivors(CUT): ',(1.-(1.-false_positive_bg/total_background))*total_background"
   ]
  },
  {
   "cell_type": "code",
   "execution_count": null,
   "metadata": {
    "collapsed": false
   },
   "outputs": [],
   "source": [
    "#AMS\n",
    "#compute s:\n",
    "sval=np.sum([x[2] if x[0]*x[1]>threshold else 0. for x in zip(l_data,c_data,w_data)])\n",
    "bval=np.sum([x[2] if (1.-x[0])*x[1]>threshold else 0. for x in zip(l_data,c_data,w_data)])\n",
    "brval=10.\n",
    "\n",
    "#print AMS results\n",
    "print \"AMS(CUT) = \",np.sqrt(2.*((sval+bval+brval)*np.log(1.+sval/(bval+brval))-sval))"
   ]
  },
  {
   "cell_type": "code",
   "execution_count": null,
   "metadata": {
    "collapsed": true
   },
   "outputs": [],
   "source": []
  }
 ],
 "metadata": {
  "anaconda-cloud": {},
  "kernelspec": {
   "display_name": "Python [deeplearning]",
   "language": "python",
   "name": "Python [deeplearning]"
  },
  "language_info": {
   "codemirror_mode": {
    "name": "ipython",
    "version": 3
   },
   "file_extension": ".py",
   "mimetype": "text/x-python",
   "name": "python",
   "nbconvert_exporter": "python",
   "pygments_lexer": "ipython3",
   "version": "3.5.2"
  }
 },
 "nbformat": 4,
 "nbformat_minor": 0
}
