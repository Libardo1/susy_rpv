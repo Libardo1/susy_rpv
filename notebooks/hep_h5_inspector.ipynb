{
 "cells": [
  {
   "cell_type": "code",
   "execution_count": 1,
   "metadata": {
    "collapsed": false
   },
   "outputs": [],
   "source": [
    "__author__ = 'tkurth'\n",
    "import sys\n",
    "import os\n",
    "import numpy as np\n",
    "import pandas as pd\n",
    "from matplotlib import pyplot as plt\n",
    "import matplotlib.mlab as mlab\n",
    "from nbfinder import NotebookFinder\n",
    "sys.meta_path.append(NotebookFinder())\n",
    "%matplotlib inline\n",
    "import time\n",
    "import re\n",
    "import h5py as h5"
   ]
  },
  {
   "cell_type": "markdown",
   "metadata": {},
   "source": [
    "# Inspect Training Files"
   ]
  },
  {
   "cell_type": "code",
   "execution_count": 2,
   "metadata": {
    "collapsed": true
   },
   "outputs": [],
   "source": [
    "datadir='/global/cscratch1/sd/tkurth/atlas_dl/data_preselect_augmented'\n",
    "trainfiles=[x for x in os.listdir(datadir) if x.endswith('hdf5') and x.startswith('hep_training') ]"
   ]
  },
  {
   "cell_type": "code",
   "execution_count": 3,
   "metadata": {
    "collapsed": false
   },
   "outputs": [],
   "source": [
    "traindata=[]\n",
    "for fname in trainfiles:\n",
    "    #open the file\n",
    "    f = h5.File(datadir+'/'+fname,'r')\n",
    "    l=f['label'].value\n",
    "    w=f['normweight'].value\n",
    "    f.close()\n",
    "    \n",
    "    reslist=[{'file':fname,'entry':idx,'label':x[0],'weight':x[1]} for idx,x in enumerate(zip(l,w))]\n",
    "    traindata+=reslist\n",
    "\n",
    "alldf=pd.DataFrame(traindata)"
   ]
  },
  {
   "cell_type": "code",
   "execution_count": null,
   "metadata": {
    "collapsed": false
   },
   "outputs": [],
   "source": [
    "Ybg,Xbg = np.histogram(alldf['weight'].ix[ alldf.label==0], bins=10)\n",
    "Ysig,_ = np.histogram(alldf['weight'].ix[ alldf.label==1], bins=Xbg)\n",
    "\n",
    "#average X:\n",
    "X=[(Xbg[i]+Xbg[i+1])*0.5 for i in range(len(Xbg)-1)]\n",
    "width=(Xbg[1]-Xbg[0])*0.25\n",
    "\n",
    "#plot histogram\n",
    "lw=2\n",
    "plt.bar(X-width,Ybg, width=width, color='darkorange', lw=lw, label='Background Weights')\n",
    "plt.bar(X+width,Ysig, width=width, color='dodgerblue', lw=lw, label='Signal Weights')\n",
    "plt.yscale('log')\n",
    "plt.xlabel('weight')\n",
    "plt.ylabel('#entries')\n",
    "plt.legend(loc=\"upper right\")\n",
    "plt.savefig('plots/learning_curve.png',dpi=300)"
   ]
  },
  {
   "cell_type": "code",
   "execution_count": null,
   "metadata": {
    "collapsed": false
   },
   "outputs": [],
   "source": [
    "alldf.sort_values('weight',ascending=False)"
   ]
  },
  {
   "cell_type": "code",
   "execution_count": null,
   "metadata": {
    "collapsed": true
   },
   "outputs": [],
   "source": []
  }
 ],
 "metadata": {
  "kernelspec": {
   "display_name": "Python [deeplearning]",
   "language": "python",
   "name": "Python [deeplearning]"
  },
  "language_info": {
   "codemirror_mode": {
    "name": "ipython",
    "version": 2
   },
   "file_extension": ".py",
   "mimetype": "text/x-python",
   "name": "python",
   "nbconvert_exporter": "python",
   "pygments_lexer": "ipython2",
   "version": "2.7.12"
  }
 },
 "nbformat": 4,
 "nbformat_minor": 0
}
