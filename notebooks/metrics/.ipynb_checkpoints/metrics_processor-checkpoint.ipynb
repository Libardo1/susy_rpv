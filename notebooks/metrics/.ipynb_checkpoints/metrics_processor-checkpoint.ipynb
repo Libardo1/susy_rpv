{
 "cells": [
  {
   "cell_type": "code",
   "execution_count": 6,
   "metadata": {
    "collapsed": false
   },
   "outputs": [
    {
     "ename": "ImportError",
     "evalue": "No module named notebooks.metrics.objectives",
     "output_type": "error",
     "traceback": [
      "\u001b[0;31m---------------------------------------\u001b[0m",
      "\u001b[0;31mImportError\u001b[0mTraceback (most recent call last)",
      "\u001b[0;32m<ipython-input-6-d080d53029d8>\u001b[0m in \u001b[0;36m<module>\u001b[0;34m()\u001b[0m\n\u001b[1;32m      2\u001b[0m \u001b[0;32mfrom\u001b[0m \u001b[0mnbfinder\u001b[0m \u001b[0;32mimport\u001b[0m \u001b[0mNotebookFinder\u001b[0m\u001b[0;34m\u001b[0m\u001b[0m\n\u001b[1;32m      3\u001b[0m \u001b[0msys\u001b[0m\u001b[0;34m.\u001b[0m\u001b[0mmeta_path\u001b[0m\u001b[0;34m.\u001b[0m\u001b[0mappend\u001b[0m\u001b[0;34m(\u001b[0m\u001b[0mNotebookFinder\u001b[0m\u001b[0;34m(\u001b[0m\u001b[0;34m)\u001b[0m\u001b[0;34m)\u001b[0m\u001b[0;34m\u001b[0m\u001b[0m\n\u001b[0;32m----> 4\u001b[0;31m \u001b[0;32mfrom\u001b[0m \u001b[0mnotebooks\u001b[0m\u001b[0;34m.\u001b[0m\u001b[0mmetrics\u001b[0m\u001b[0;34m.\u001b[0m\u001b[0mobjectives\u001b[0m \u001b[0;32mimport\u001b[0m \u001b[0mbg_rej_sig_eff\u001b[0m\u001b[0;34m,\u001b[0m \u001b[0mams\u001b[0m\u001b[0;34m,\u001b[0m \u001b[0msig_eff_at\u001b[0m\u001b[0;34m\u001b[0m\u001b[0m\n\u001b[0m",
      "\u001b[0;31mImportError\u001b[0m: No module named notebooks.metrics.objectives"
     ]
    }
   ],
   "source": [
    "import sys\n",
    "from nbfinder import NotebookFinder\n",
    "sys.meta_path.append(NotebookFinder())\n",
    "from notebooks.metrics.objectives import bg_rej_sig_eff, calc_ams, sig_eff_at\n",
    "from notebooks.plotting.curve_plotter import plot_roc_curve\n",
    "\n",
    "class MetricsProcessor(object):\n",
    "    def __init__(self, data, kwargs):\n",
    "        self.kwargs = kwargs\n",
    "        self.metrics = {}\n",
    "        \n",
    "        #dictionary where for each key (train,val) we have dict for all the data except for x (to save space)\n",
    "        self.data = {k: dict(y=v[\"y\"],\n",
    "                             w =v[\"w\"], \n",
    "                             w_raw=v[\"raw_w\"], \n",
    "                             cuts=v[\"psr\"]) \n",
    "                     for k,v in data.iteritems()}\n",
    "        \n",
    "        self.cuts_metrics = self.get_cuts_metrics()\n",
    "        self.metrics_tots={}\n",
    "        \n",
    "    def add_metrics(self, dic):\n",
    "        for k in dic.keys():\n",
    "            if k not in self.metrics_tots:\n",
    "                self.metrics_tots[k] = 0\n",
    "            self.metrics_tots[k] += dic[k]\n",
    "            \n",
    "    def finalize_epoch_metrics(self,num_batches):\n",
    "        self.metrics_tots = {k: v / num_batches for k,v in self.metrics_tots.iteritems() }\n",
    "    \n",
    "    def append_metrics(self, dic, key_prefix):\n",
    "        for k,v in dic.iteritems():\n",
    "            key = key_prefix + k\n",
    "            if key not in self.metrics:\n",
    "                self.metrics[key] = []\n",
    "            self.metrics[key].append(v)\n",
    "    \n",
    "    def add_cuts_metrics(self,type_):\n",
    "        self.append_metrics(self.cuts_metrics[type_], key_prefix= type_ + \"_phys_cuts_\")\n",
    "    \n",
    "    def get_data_of_type(self,type_):\n",
    "        y, w, w_raw, cuts = [self.data[type_][k] for k in [\"y\", \"w\", \"w_raw\", \"cuts\"]]\n",
    "        return y, w, w_raw, cuts\n",
    "\n",
    "    def process_metrics(self,type_, pred, time_):\n",
    "        self.process_acc_metrics(type_, pred)\n",
    "        self.add_cuts_metrics(type_)\n",
    "        self.append_metrics(self.metrics_tots, key_prefix=type_+\"_\")\n",
    "        self.append_metrics({\"time\":time_}, key_prefix=type_ + \"_\")\n",
    "        self.metrics_tots = {}\n",
    "    \n",
    "    def process_acc_metrics(self, type_, pred):\n",
    "\n",
    "        y, w, w_raw, cuts = self.get_data_of_type(type_)\n",
    "\n",
    "        key_prefix=type_+\"_\"\n",
    "\n",
    "        cuts_bg_rej = bg_rej_sig_eff(cuts,y,w)[\"bg_rej\"]\n",
    "\n",
    "        ams = calc_ams(pred,y, w_raw, self.kwargs[\"event_frac\"])\n",
    "        se_at_bg_rej = sig_eff_at(cuts_bg_rej, pred,y,w,name=\"cuts_bg_rej\")\n",
    "\n",
    "        self.append_metrics(ams,key_prefix=key_prefix)\n",
    "        self.append_metrics(se_at_bg_rej, key_prefix=key_prefix)\n",
    "\n",
    "        \n",
    "    def get_cuts_metrics(self):\n",
    "        cuts_metrics = {}\n",
    "        for type_ in self.data.keys():\n",
    "            cuts_metrics[type_] = {}\n",
    "            y, w, w_raw, cuts = self.get_data_of_type(type_)\n",
    "\n",
    "            key_prefix = type_ + \"_phys_cuts_\"\n",
    "            cuts_ams = calc_ams(cuts,y, w_raw,self.kwargs[\"event_frac\"] )\n",
    "            cuts_bg_rej_sig_eff = bg_rej_sig_eff(cuts,y,w)\n",
    "\n",
    "\n",
    "            cuts_metrics[type_].update(cuts_ams)\n",
    "            cuts_metrics[type_].update(cuts_bg_rej_sig_eff)\n",
    "        \n",
    "        return cuts_metrics\n",
    "    \n",
    "    def plot_roc_curve(self,type_, pred, save_path):\n",
    "        y, w, w_raw, cuts = self.get_data_of_type(type_)\n",
    "        plot_roc_curve(pred, y,w, cuts, type_, save_path)\n",
    "        "
   ]
  },
  {
   "cell_type": "code",
   "execution_count": null,
   "metadata": {
    "collapsed": true
   },
   "outputs": [],
   "source": []
  }
 ],
 "metadata": {
  "kernelspec": {
   "display_name": "Python 2",
   "language": "python",
   "name": "python2"
  },
  "language_info": {
   "codemirror_mode": {
    "name": "ipython",
    "version": 2
   },
   "file_extension": ".py",
   "mimetype": "text/x-python",
   "name": "python",
   "nbconvert_exporter": "python",
   "pygments_lexer": "ipython2",
   "version": "2.7.12"
  }
 },
 "nbformat": 4,
 "nbformat_minor": 2
}
