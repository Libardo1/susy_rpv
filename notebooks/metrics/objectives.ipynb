{
 "cells": [
  {
   "cell_type": "code",
   "execution_count": null,
   "metadata": {
    "collapsed": false
   },
   "outputs": [],
   "source": [
    "from sklearn.metrics import recall_score, roc_curve\n",
    "import numpy as np"
   ]
  },
  {
   "cell_type": "code",
   "execution_count": null,
   "metadata": {
    "collapsed": false
   },
   "outputs": [],
   "source": [
    "def calc_ams(pred,gt, weights):\n",
    "    #TODO: use original weights and scale by (fraction of total events of used)\n",
    "\n",
    "    pred = convert_bool_or_conf_to_int(pred)\n",
    "    br = 10\n",
    "    #weighted true positives\n",
    "    s = sum([weights[i] if gt[i]==1. and pred[i]==1. else 0. for i in range(gt.shape[0])])\n",
    "\n",
    "    #weighted false postivies\n",
    "    b = sum([weights[i] if gt[i]==0. and pred[i]==1. else 0. for i in range(gt.shape[0])])\n",
    "    ams = np.sqrt(2 * ((s+b+br)*np.log(1 + (s / (b+br))) - s))\n",
    "    return dict(ams=ams)\n",
    "\n",
    "\n",
    "def bg_rej_sig_eff(pred, gt, weights=None, thresh=0.5):\n",
    "    \n",
    "    if weights is not None:\n",
    "        weights = weights.squeeze()\n",
    "    sig_pred = convert_bool_or_conf_to_int(pred, thresh=thresh)\n",
    "    \n",
    "    weighted_sig_eff = recall_score(gt,sig_pred, sample_weight=weights)\n",
    "\n",
    "    bg_pred = convert_bool_or_conf_to_int(pred, reverse=True, thresh=thresh)\n",
    "    gt_bg = convert_bool_or_conf_to_int(gt, reverse=True, thresh=thresh)\n",
    "    \n",
    "    weighted_bg_rej = recall_score(gt_bg,bg_pred, sample_weight=weights)\n",
    "    \n",
    "    return dict(sig_eff=weighted_sig_eff, bg_rej=weighted_bg_rej)\n",
    "\n",
    "\n",
    "\n",
    "def sig_eff_at(bg_rej, pred,gt,weights=None, name=None):\n",
    "    roc = roc_vals(pred,gt,weights)\n",
    "    des_fpr = 1 - bg_rej\n",
    "    ind = np.searchsorted(roc[\"fpr\"], des_fpr)\n",
    "    sig_eff = roc[\"tpr\"][ind]\n",
    "    bg_rej_string = str(bg_rej) if name is None else name\n",
    "    return {\"sig_eff_at_\" + bg_rej_string:sig_eff}\n",
    "\n",
    "\n",
    "def roc_vals(pred, gt, weights=None):\n",
    "    \n",
    "    if weights is None:\n",
    "        fpr, tpr, thresholds = roc_curve(gt, pred, pos_label=1)\n",
    "    else:\n",
    "        fpr, tpr, thresholds = roc_curve(gt, pred, sample_weight=weights, pos_label=1)\n",
    "    \n",
    "    return dict(fpr=fpr, tpr=tpr, thresholds=thresholds)\n",
    "    \n",
    "    \n",
    "    \n",
    "def convert_bool_or_conf_to_int(arr,reverse=False, thresh=0.5):\n",
    "    #convert boolean to int/float\n",
    "    arr = 1*arr\n",
    "    \n",
    "    if reverse:\n",
    "        arr = 1 - arr\n",
    "    #convert confidences to decisions (1 or 0)\n",
    "    arr[arr>=thresh] = 1\n",
    "    arr[arr<thresh] = 0\n",
    "    \n",
    "    return arr\n",
    "    "
   ]
  },
  {
   "cell_type": "code",
   "execution_count": null,
   "metadata": {
    "collapsed": false
   },
   "outputs": [],
   "source": [
    "if __name__ == \"__main__\":\n",
    "    num = 100000\n",
    "    test_cut = np.asarray(int((num*0.))*[True] + int((num*.25))*[False])\n",
    "    test_gt = np.random.randint(0,2,num)\n",
    "    test_pred = np.concatenate((np.random.random(num/2) , test_gt[num/2:]))\n",
    "    test_w = 1000*np.random.random(num)\n",
    "    \n",
    "    \n",
    "\n",
    "if __name__ == \"__main__\":\n",
    "    ws = [test_w]\n",
    "    preds = [test_pred, test_cut]\n",
    "    gt = test_gt\n",
    "    weights = test_w\n",
    "\n",
    "    pred = test_pred\n",
    "    print(ams(pred,gt, weights, 0.05))\n",
    "    print(bg_rej_sig_eff(pred,gt,weights))\n",
    "    \n",
    "    print(sig_eff_at(0.9996, pred,gt,weights))\n",
    "    d= roc_vals(pred, gt, weights)\n",
    "            \n",
    "            \n",
    "\n",
    "    from matplotlib import pyplot as plt\n",
    "\n",
    "    %matplotlib inline\n",
    "\n",
    "    plt.plot(d[\"fpr\"], d[\"tpr\"])\n",
    "\n"
   ]
  },
  {
   "cell_type": "code",
   "execution_count": null,
   "metadata": {
    "collapsed": true
   },
   "outputs": [],
   "source": []
  }
 ],
 "metadata": {
  "anaconda-cloud": {},
  "kernelspec": {
   "display_name": "deeplearning",
   "language": "python",
   "name": "deeplearning"
  },
  "language_info": {
   "codemirror_mode": {
    "name": "ipython",
    "version": 2
   },
   "file_extension": ".py",
   "mimetype": "text/x-python",
   "name": "python",
   "nbconvert_exporter": "python",
   "pygments_lexer": "ipython2",
   "version": "2.7.12"
  }
 },
 "nbformat": 4,
 "nbformat_minor": 0
}
