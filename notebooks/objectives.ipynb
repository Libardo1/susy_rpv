{
 "cells": [
  {
   "cell_type": "code",
   "execution_count": 3,
   "metadata": {
    "collapsed": true
   },
   "outputs": [],
   "source": [
    "from sklearn.metrics import *\n",
    "import numpy as np"
   ]
  },
  {
   "cell_type": "code",
   "execution_count": 4,
   "metadata": {
    "collapsed": true
   },
   "outputs": [],
   "source": [
    "def ams(pred,gt, weights):\n",
    "    #TODO: use original weights and scale by (fraction of total events of used)\n",
    "    pred = convert_bool_or_conf_to_int(pred)\n",
    "    br = 10\n",
    "    #weighted true positives\n",
    "    s = sum([weights[i] if gt[i]==1. and pred[i]==1. else 0. for i in range(gt.shape[0])])\n",
    "\n",
    "    #weighted false postivies\n",
    "    b = sum([weights[i] if gt[i]==0. and pred[i]==1. else 0. for i in range(gt.shape[0])])\n",
    "    ams = np.sqrt(2 * ((s+b+br)*np.log(1 + (s / (b+br))) - s))\n",
    "    return dict(ams=ams)\n",
    "\n",
    "def bg_rej_sig_eff(pred,gt,weights):\n",
    "    \n",
    " \n",
    "    pred = convert_bool_or_conf_to_int(pred)\n",
    "    #of the real backgrounds, how many did you guess were backgrounds\n",
    "    \n",
    "    preds_bg = pred[gt==0.]\n",
    "    weights_bg = weights[gt==0.]\n",
    "    \n",
    "    num_bg_rej = preds_bg[preds_bg ==0.].shape[0]\n",
    "    \n",
    "    weighted_bg_rej_arr = weights_bg[preds_bg ==0.]\n",
    "    \n",
    "    #how many actual backgrounds\n",
    "    num_bg = gt[gt==0].shape[0]\n",
    "    \n",
    "    weighted_num_bg = np.sum(weights_bg)\n",
    "    \n",
    "    weighted_bg_rej = np.sum(weighted_bg_rej_arr) / weighted_num_bg\n",
    "    \n",
    "\n",
    "    \n",
    "    #percent of backgrounds guessed as bg (recall for bg)\n",
    "    bg_rej = float(num_bg_rej) / num_bg\n",
    "    \n",
    "    # of the signals, how many did you guess as signal\n",
    "    preds_sig = pred[gt==1.]\n",
    "    weights_sig = weights[gt==1.]\n",
    "    num_sig_sel = preds_sig[preds_sig==1.].shape[0]\n",
    "    weighted_sig_sel_arr = weights_sig[preds_sig == 1.]\n",
    "    \n",
    "    #how many actual signals\n",
    "    num_sig = gt[gt==1].shape[0]\n",
    "    weighted_sum_sig = np.sum(weights_sig) if num_sig > 0 else np.inf\n",
    "    weighted_sig_eff = np.sum(weighted_sig_sel_arr) / weighted_sum_sig if num_sig > 0 else np.inf\n",
    "    sig_eff = float(num_sig_sel) / num_sig if num_sig > 0 else np.inf\n",
    "    \n",
    "    return dict(sig_eff=weighted_sig_eff, bg_rej=weighted_bg_rej)\n",
    "\n",
    "\n",
    "def sig_eff_at(bg_rej, pred,gt,weights=None, name=None):\n",
    "    roc = roc_vals(pred,gt,weights)\n",
    "    des_fpr = 1 - bg_rej\n",
    "    ind = np.searchsorted(roc[\"fpr\"], des_fpr)\n",
    "    sig_eff = roc[\"tpr\"][ind]\n",
    "    bg_rej_string = str(bg_rej) if name is None else name\n",
    "    return {\"sig_eff_at_\" + bg_rej_string:sig_eff}\n",
    "\n",
    "def roc_vals(pred, gt, weights=None):\n",
    "    \n",
    "    #pred = convert_bool_or_conf_to_int(pred)\n",
    "    if weights is None:\n",
    "        fpr, tpr, thresholds = roc_curve(gt, pred)\n",
    "    else:\n",
    "        fpr, tpr, thresholds = roc_curve(gt, pred, sample_weight=weights)\n",
    "    \n",
    "    return dict(fpr=fpr, tpr=tpr, thresholds=thresholds)\n",
    "        \n",
    "\n",
    "    \n",
    "    \n",
    "    \n",
    "def convert_bool_or_conf_to_int(pred):\n",
    "    #convert boolean to int/float\n",
    "    pred = 1*pred\n",
    "    \n",
    "    #convert confidences to decisions (1 or 0)\n",
    "    pred = np.round(pred)\n",
    "    \n",
    "    return pred\n",
    "    "
   ]
  },
  {
   "cell_type": "code",
   "execution_count": 9,
   "metadata": {
    "collapsed": false
   },
   "outputs": [
    {
     "name": "stdout",
     "output_type": "stream",
     "text": [
      "{'ams': 5649.2734979337047}\n",
      "{'bg_rej': 0.75145754566154954, 'sig_eff': 0.74768799642579675}\n",
      "{'sig_eff_at_0.9996': 0.50034356545710712}\n"
     ]
    },
    {
     "data": {
      "image/png": "[encoded data removed]",
      "text/plain": [
       "<matplotlib.figure.Figure at 0x2b49b6e51c50>"
      ]
     },
     "metadata": {},
     "output_type": "display_data"
    }
   ],
   "source": [
    "if __name__ == \"__main__\":\n",
    "    num = 100000\n",
    "    test_cut = np.asarray(int((num*0.))*[True] + int((num*.25))*[False])\n",
    "    test_gt = np.random.randint(0,2,num)\n",
    "    test_pred = np.concatenate((np.random.random(num/2) , test_gt[num/2:]))\n",
    "    test_w = 1000*np.random.random(num)\n",
    "    \n",
    "    \n",
    "\n",
    "if __name__ == \"__main__\":\n",
    "    ws = [test_w]\n",
    "    preds = [test_pred, test_cut]\n",
    "    gt = test_gt\n",
    "    weights = test_w\n",
    "\n",
    "    pred = test_pred\n",
    "    print ams(pred,gt, weights)\n",
    "    print bg_rej_sig_eff(pred,gt,weights)\n",
    "    \n",
    "    print sig_eff_at(0.9996, pred,gt,weights)\n",
    "    d= roc_vals(pred, gt, weights)\n",
    "            \n",
    "            \n",
    "\n",
    "    from matplotlib import pyplot as plt\n",
    "\n",
    "    %matplotlib inline\n",
    "\n",
    "    plt.plot(d[\"fpr\"], d[\"tpr\"])\n",
    "\n"
   ]
  },
  {
   "cell_type": "code",
   "execution_count": 10,
   "metadata": {
    "collapsed": true
   },
   "outputs": [],
   "source": [
    "import h5py"
   ]
  },
  {
   "cell_type": "code",
   "execution_count": null,
   "metadata": {
    "collapsed": true
   },
   "outputs": [],
   "source": []
  }
 ],
 "metadata": {
  "anaconda-cloud": {},
  "kernelspec": {
   "display_name": "deeplearning",
   "language": "python",
   "name": "deeplearning"
  },
  "language_info": {
   "codemirror_mode": {
    "name": "ipython",
    "version": 2
   },
   "file_extension": ".py",
   "mimetype": "text/x-python",
   "name": "python",
   "nbconvert_exporter": "python",
   "pygments_lexer": "ipython2",
   "version": "2.7.12"
  }
 },
 "nbformat": 4,
 "nbformat_minor": 0
}
