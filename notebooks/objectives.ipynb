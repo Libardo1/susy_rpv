{
 "cells": [
  {
   "cell_type": "code",
   "execution_count": 1,
   "metadata": {
    "collapsed": true
   },
   "outputs": [],
   "source": [
    "from sklearn.metrics import *\n",
    "import numpy as np"
   ]
  },
  {
   "cell_type": "code",
   "execution_count": 9,
   "metadata": {
    "collapsed": true
   },
   "outputs": [],
   "source": [
    "def ams(pred,gt, weights):\n",
    "    pred =convert_bool_or_conf_to_int(pred)\n",
    "    br = 10\n",
    "    #weighted true positives\n",
    "    s = sum([weights[i] if gt[i]==1. and pred[i]==1. else 0. for i in range(gt.shape[0])])\n",
    "\n",
    "    #weighted false postivies\n",
    "    b = sum([weights[i] if gt[i]==0. and pred[i]==1. else 0. for i in range(gt.shape[0])])\n",
    "    ams = np.sqrt(2 * ((s+b+br)*np.log(1 + (s / (b+br))) - s))\n",
    "    return dict(ams=ams)\n",
    "\n",
    "def bg_rej_sig_eff(pred,gt,weights):\n",
    "    \n",
    "    pred = convert_bool_or_conf_to_int(pred)\n",
    "    #of the real backgrounds, how many did you guess were backgrounds\n",
    "    preds_bg = pred[gt==0.]\n",
    "    num_bg_rej = preds_bg[preds_bg ==0.].shape[0]\n",
    "    \n",
    "    \n",
    "    #how many actual backgrounds\n",
    "    num_bg = gt[gt==0].shape[0]\n",
    "    \n",
    "\n",
    "    \n",
    "    #percent of backgrounds guessed as bg (recall for bg)\n",
    "    bg_rej = float(num_bg_rej) / num_bg\n",
    "    \n",
    "    # of the signals, how many did you guess as signal\n",
    "    preds_sig = pred[gt==1.]\n",
    "    num_sig_sel = preds_sig[preds_sig==1.].shape[0]\n",
    "    \n",
    "\n",
    "    #how many actual signals\n",
    "    num_sig = gt[gt==1].shape[0]\n",
    "\n",
    "    sig_eff = float(num_sig_sel) / num_sig\n",
    "    \n",
    "    return dict(sig_eff=sig_eff, bg_rej=bg_rej)\n",
    "\n",
    "\n",
    "def sig_eff_at(bg_rej, pred,gt,weights=None):\n",
    "    roc = roc_vals(pred,gt,weights)\n",
    "    des_fpr = 1 - bg_rej\n",
    "    ind = np.searchsorted(roc[\"fpr\"], des_fpr)\n",
    "    sig_eff = roc[\"tpr\"][ind]\n",
    "    return {\"sig_eff_at_\" + str(bg_rej):sig_eff}\n",
    "\n",
    "def roc_vals(pred, gt, weights=None):\n",
    "    \n",
    "    #pred = convert_bool_or_conf_to_int(pred)\n",
    "    if weights is None:\n",
    "        fpr, tpr, thresholds = roc_curve(gt, pred)\n",
    "    else:\n",
    "        fpr, tpr, thresholds = roc_curve(gt, pred, sample_weight=weights)\n",
    "    \n",
    "    return dict(fpr=fpr, tpr=tpr, thresholds=thresholds)\n",
    "        \n",
    "\n",
    "    \n",
    "    \n",
    "    \n",
    "def convert_bool_or_conf_to_int(pred):\n",
    "    #convert boolean to int/float\n",
    "    pred = 1*pred\n",
    "    \n",
    "    #convert confidences to decisions (1 or 0)\n",
    "    pred = np.round(pred)\n",
    "    \n",
    "    return pred\n",
    "    "
   ]
  },
  {
   "cell_type": "code",
   "execution_count": 8,
   "metadata": {
    "collapsed": false
   },
   "outputs": [
    {
     "ename": "IndexError",
     "evalue": "index 4 is out of bounds for axis 0 with size 1",
     "output_type": "error",
     "traceback": [
      "\u001b[0;31m\u001b[0m",
      "\u001b[0;31mIndexError\u001b[0mTraceback (most recent call last)",
      "\u001b[0;32m<ipython-input-8-765be4019778>\u001b[0m in \u001b[0;36m<module>\u001b[0;34m()\u001b[0m\n\u001b[1;32m     15\u001b[0m \u001b[0;34m\u001b[0m\u001b[0m\n\u001b[1;32m     16\u001b[0m     \u001b[0mpred\u001b[0m \u001b[0;34m=\u001b[0m \u001b[0mtest_pred\u001b[0m\u001b[0;34m\u001b[0m\u001b[0m\n\u001b[0;32m---> 17\u001b[0;31m     \u001b[0;32mprint\u001b[0m \u001b[0mams\u001b[0m\u001b[0;34m(\u001b[0m\u001b[0mpred\u001b[0m\u001b[0;34m,\u001b[0m\u001b[0mgt\u001b[0m\u001b[0;34m,\u001b[0m \u001b[0mweights\u001b[0m\u001b[0;34m)\u001b[0m\u001b[0;34m\u001b[0m\u001b[0m\n\u001b[0m\u001b[1;32m     18\u001b[0m     \u001b[0;32mprint\u001b[0m \u001b[0mbg_rej_sig_eff\u001b[0m\u001b[0;34m(\u001b[0m\u001b[0mpred\u001b[0m\u001b[0;34m,\u001b[0m\u001b[0mgt\u001b[0m\u001b[0;34m,\u001b[0m\u001b[0mweights\u001b[0m\u001b[0;34m)\u001b[0m\u001b[0;34m\u001b[0m\u001b[0m\n\u001b[1;32m     19\u001b[0m \u001b[0;34m\u001b[0m\u001b[0m\n",
      "\u001b[0;32m<ipython-input-6-1965e9acfd9d>\u001b[0m in \u001b[0;36mams\u001b[0;34m(pred, gt, weights)\u001b[0m\n\u001b[1;32m      3\u001b[0m     \u001b[0mbr\u001b[0m \u001b[0;34m=\u001b[0m \u001b[0;36m10\u001b[0m\u001b[0;34m\u001b[0m\u001b[0m\n\u001b[1;32m      4\u001b[0m     \u001b[0;31m#weighted true positives\u001b[0m\u001b[0;34m\u001b[0m\u001b[0;34m\u001b[0m\u001b[0m\n\u001b[0;32m----> 5\u001b[0;31m     \u001b[0ms\u001b[0m \u001b[0;34m=\u001b[0m \u001b[0msum\u001b[0m\u001b[0;34m(\u001b[0m\u001b[0;34m[\u001b[0m\u001b[0mweights\u001b[0m\u001b[0;34m[\u001b[0m\u001b[0mi\u001b[0m\u001b[0;34m]\u001b[0m \u001b[0;32mif\u001b[0m \u001b[0mgt\u001b[0m\u001b[0;34m[\u001b[0m\u001b[0mi\u001b[0m\u001b[0;34m]\u001b[0m\u001b[0;34m==\u001b[0m\u001b[0;36m1.\u001b[0m \u001b[0;32mand\u001b[0m \u001b[0mpred\u001b[0m\u001b[0;34m[\u001b[0m\u001b[0mi\u001b[0m\u001b[0;34m]\u001b[0m\u001b[0;34m==\u001b[0m\u001b[0;36m1.\u001b[0m \u001b[0;32melse\u001b[0m \u001b[0;36m0.\u001b[0m \u001b[0;32mfor\u001b[0m \u001b[0mi\u001b[0m \u001b[0;32min\u001b[0m \u001b[0mrange\u001b[0m\u001b[0;34m(\u001b[0m\u001b[0mgt\u001b[0m\u001b[0;34m.\u001b[0m\u001b[0mshape\u001b[0m\u001b[0;34m[\u001b[0m\u001b[0;36m0\u001b[0m\u001b[0;34m]\u001b[0m\u001b[0;34m)\u001b[0m\u001b[0;34m]\u001b[0m\u001b[0;34m)\u001b[0m\u001b[0;34m\u001b[0m\u001b[0m\n\u001b[0m\u001b[1;32m      6\u001b[0m \u001b[0;34m\u001b[0m\u001b[0m\n\u001b[1;32m      7\u001b[0m     \u001b[0;31m#weighted false postivies\u001b[0m\u001b[0;34m\u001b[0m\u001b[0;34m\u001b[0m\u001b[0m\n",
      "\u001b[0;31mIndexError\u001b[0m: index 4 is out of bounds for axis 0 with size 1"
     ]
    }
   ],
   "source": [
    "if __name__ == \"__main__\":\n",
    "    num = 10000\n",
    "    test_cut = np.asarray(int((num*0.75))*[True] + int((num*.25))*[False])\n",
    "    test_gt = np.random.randint(0,2,num)\n",
    "    test_pred = np.concatenate((np.random.random(num/2) , test_gt[num/2:]))\n",
    "    test_w = np.random.random(num)\n",
    "    \n",
    "    \n",
    "\n",
    "if __name__ == \"__main__\":\n",
    "    ws = [test_w]\n",
    "    preds = [test_pred, test_cut]\n",
    "    gt = test_gt\n",
    "    weights = test_w\n",
    "\n",
    "    pred = test_pred\n",
    "    print ams(pred,gt, weights)\n",
    "    print bg_rej_sig_eff(pred,gt,weights)\n",
    "    \n",
    "    print sig_eff_at(0.9996, pred,gt,weights)\n",
    "    d= roc_vals(pred, gt, weights)\n",
    "            \n",
    "            \n",
    "\n",
    "    from matplotlib import pyplot as plt\n",
    "\n",
    "    %matplotlib inline\n",
    "\n",
    "    plt.plot(d[\"fpr\"], d[\"tpr\"])\n",
    "\n"
   ]
  },
  {
   "cell_type": "code",
   "execution_count": 10,
   "metadata": {
    "collapsed": true
   },
   "outputs": [],
   "source": [
    "import h5py"
   ]
  },
  {
   "cell_type": "code",
   "execution_count": null,
   "metadata": {
    "collapsed": true
   },
   "outputs": [],
   "source": []
  }
 ],
 "metadata": {
  "anaconda-cloud": {},
  "kernelspec": {
   "display_name": "deeplearning",
   "language": "python",
   "name": "deeplearning"
  },
  "language_info": {
   "codemirror_mode": {
    "name": "ipython",
    "version": 2
   },
   "file_extension": ".py",
   "mimetype": "text/x-python",
   "name": "python",
   "nbconvert_exporter": "python",
   "pygments_lexer": "ipython2",
   "version": "2.7.12"
  }
 },
 "nbformat": 4,
 "nbformat_minor": 0
}
