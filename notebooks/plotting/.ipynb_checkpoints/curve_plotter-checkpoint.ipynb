{
 "cells": [
  {
   "cell_type": "code",
   "execution_count": 2,
   "metadata": {
    "collapsed": false
   },
   "outputs": [
    {
     "name": "stdout",
     "output_type": "stream",
     "text": [
      "importing Jupyter notebook from objectives.ipynb\n",
      "importing Jupyter notebook from util.ipynb\n"
     ]
    },
    {
     "name": "stderr",
     "output_type": "stream",
     "text": [
      "Using gpu device 2: TITAN X (Pascal) (CNMeM is disabled, cuDNN 5105)\n"
     ]
    }
   ],
   "source": [
    "import sys\n",
    "from nbfinder import NotebookFinder\n",
    "sys.meta_path.append(NotebookFinder())\n",
    "from notebooks.metrics.objectives import roc_vals, bg_rej_sig_eff\n",
    "from matplotlib import pyplot as plt\n",
    "from os.path import join, exists\n",
    "from notebooks.util import makedir_if_not_there"
   ]
  },
  {
   "cell_type": "code",
   "execution_count": null,
   "metadata": {
    "collapsed": true
   },
   "outputs": [],
   "source": [
    "def plot_roc_curve(pred, y,w, cuts, type_, save_path):\n",
    "    def _plot_roc_curve(name=\"\",xlim=[0,1], ylim=[0,1] ):\n",
    "\n",
    "            #signal preds\n",
    "            roc = roc_vals(pred, y, w)\n",
    "            roc_path = join(save_path, \"roc_curves\")\n",
    "            makedir_if_not_there(roc_path)\n",
    "            plt.clf()\n",
    "            plt.figure(1)\n",
    "            plt.clf()\n",
    "            plt.title('%s ROC Curve %s' %(type_, name))\n",
    "            plt.plot(roc[\"fpr\"], roc[\"tpr\"])\n",
    "\n",
    "\n",
    "            cuts_results = bg_rej_sig_eff(cuts,y,w)\n",
    "            cuts_bgrej, cuts_sigeff = cuts_results[\"bg_rej\"], cuts_results[\"sig_eff\"]\n",
    "            plt.scatter(1-cuts_bgrej, cuts_sigeff)\n",
    "            plt.ylim(ylim)\n",
    "            plt.xlim(xlim)\n",
    "            plt.legend( loc = 'center left', bbox_to_anchor = (1.0, 0.5),\n",
    "               ncol=2)\n",
    "            plt.xlabel(\"False Positive Rate (1- BG rejection)\")\n",
    "            plt.ylabel(\"True Positive Rate (Signal Efficiency)\")\n",
    "            plt.savefig(\"%s/%s_roc_curve_%s.png\"%(roc_path,type_,name))\n",
    "            #plt.show()\n",
    "            plt.clf()\n",
    "            \n",
    "    _plot_roc_curve()\n",
    "    for i in range(1,6):\n",
    "        _plot_roc_curve(name=\"zoomed\"+ str(i), xlim=[0,10**-i])\n",
    "\n",
    "        \n",
    "        \n",
    "\n",
    "def plot_learn_curve(metrics, save_path):\n",
    "    def _plot_learn_curve(type_):\n",
    "        plt.clf()\n",
    "        plt.figure(1)\n",
    "        plt.clf()\n",
    "        plt.title('Train/Val %s' %(type_))\n",
    "        plt.plot(metrics['tr_' + type_], label='train ' + type_)\n",
    "        plt.plot(metrics['val_' + type_], label='val ' + type_)\n",
    "        plt.legend( loc = 'center left', bbox_to_anchor = (1.0, 0.5),\n",
    "           ncol=2)\n",
    "\n",
    "        curves_path = join(save_path, \"learn_curves\")\n",
    "        makedir_if_not_there(curves_path)\n",
    "        plt.savefig(\"%s/%s_learning_curve.png\"%(curves_path,type_))\n",
    "        if \"loss\" in type_:\n",
    "            plt.show()\n",
    "        plt.clf()\n",
    "        \n",
    "        \n",
    "    for k in metrics.keys():\n",
    "        if \"time\" not in k and \"phys\" not in k:\n",
    "            type_ = '_'.join(k.split(\"_\")[1:])\n",
    "            _plot_learn_curve(type_)\n",
    "\n"
   ]
  }
 ],
 "metadata": {
  "kernelspec": {
   "display_name": "Python 2",
   "language": "python",
   "name": "python2"
  },
  "language_info": {
   "codemirror_mode": {
    "name": "ipython",
    "version": 2
   },
   "file_extension": ".py",
   "mimetype": "text/x-python",
   "name": "python",
   "nbconvert_exporter": "python",
   "pygments_lexer": "ipython2",
   "version": "2.7.12"
  }
 },
 "nbformat": 4,
 "nbformat_minor": 2
}
