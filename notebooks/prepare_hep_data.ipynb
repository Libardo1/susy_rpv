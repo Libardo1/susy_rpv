{
 "cells": [
  {
   "cell_type": "code",
   "execution_count": 1,
   "metadata": {
    "collapsed": false
   },
   "outputs": [],
   "source": [
    "__author__ = 'tkurth'\n",
    "import sys\n",
    "import os\n",
    "import argparse\n",
    "import numpy as np\n",
    "import pandas as pd\n",
    "from matplotlib import pyplot as plt\n",
    "import matplotlib.patches as mlines\n",
    "import matplotlib.font_manager as font_manager\n",
    "from matplotlib.ticker import ScalarFormatter\n",
    "from matplotlib.ticker import AutoMinorLocator\n",
    "from matplotlib import gridspec\n",
    "from matplotlib.backends.backend_pdf import PdfPages\n",
    "from nbfinder import NotebookFinder\n",
    "sys.meta_path.append(NotebookFinder())\n",
    "%matplotlib inline\n",
    "import time\n",
    "from tqdm import tqdm\n",
    "import re\n",
    "import h5py as h5\n",
    "\n",
    "#sqlite for storing the metadata\n",
    "import sqlite3 as sql"
   ]
  },
  {
   "cell_type": "markdown",
   "metadata": {},
   "source": [
    "# Global Parameters"
   ]
  },
  {
   "cell_type": "code",
   "execution_count": 4,
   "metadata": {
    "collapsed": true
   },
   "outputs": [],
   "source": [
    "eta_range = [-5,5]\n",
    "eta_bins = 224\n",
    "phi_range = [-3.1416, 3.1416]\n",
    "phi_bins = 224"
   ]
  },
  {
   "cell_type": "code",
   "execution_count": 64,
   "metadata": {
    "collapsed": false
   },
   "outputs": [],
   "source": [
    "#inputfile=\"/global/cscratch1/sd/tkurth/atlas_dl/metadata/output_split/train_metadata_chunk0.db\"\n",
    "#dataoutputdir=\"/global/cscratch1/sd/tkurth/atlas_dl/data_delphes_final\"\n",
    "#argument parsing\n",
    "parser = argparse.ArgumentParser(description='Preprocess Files for Training.')\n",
    "parser.add_argument('--input', type=str, nargs=1, help='sqlite db which contains the data to be processed')\n",
    "parser.add_argument('--output', type=str, nargs=1, help='hdf5 filename for final output')\n",
    "args = parser.parse_args()\n",
    "\n",
    "#fileparameters\n",
    "inputfile=args.input[0]\n",
    "outputfile=args.output[0]"
   ]
  },
  {
   "cell_type": "markdown",
   "metadata": {},
   "source": [
    "# Load metadatafile"
   ]
  },
  {
   "cell_type": "code",
   "execution_count": 65,
   "metadata": {
    "collapsed": false
   },
   "outputs": [],
   "source": [
    "con = sql.connect(inputfile)\n",
    "metadatadf=pd.DataFrame(pd.read_sql(\"SELECT * FROM metadata;\", con))\n",
    "con.close()\n",
    "#delete some unnecessary columns\n",
    "del metadatadf[\"index\"]\n",
    "metadatadf[\"file\"]=metadatadf[\"directory\"]+\"/\"+metadatadf[\"filename\"]\n",
    "del metadatadf[\"directory\"]\n",
    "del metadatadf[\"filename\"]\n",
    "fgroups=metadatadf.groupby(\"file\")"
   ]
  },
  {
   "cell_type": "markdown",
   "metadata": {},
   "source": [
    "# Process data"
   ]
  },
  {
   "cell_type": "code",
   "execution_count": 66,
   "metadata": {
    "collapsed": false
   },
   "outputs": [
    {
     "name": "stdout",
     "output_type": "stream",
     "text": [
      "1400.0 850.0\n"
     ]
    }
   ],
   "source": [
    "#prepare numpy arrays for IO\n",
    "nsamples=metadatadf.shape[0]\n",
    "x=np.zeros((nsamples,3,phi_bins,eta_bins),dtype=np.float32)\n",
    "y=np.zeros((nsamples),dtype=np.int32)\n",
    "w=np.zeros((nsamples),dtype=np.float32)\n",
    "nw=np.zeros((nsamples),dtype=np.float32)\n",
    "p=np.zeros((nsamples),dtype=np.int32)\n",
    "mg=np.zeros((nsamples),dtype=np.float32)\n",
    "mn=np.zeros((nsamples),dtype=np.float32)\n",
    "jz=np.zeros((nsamples),dtype=np.int32)\n",
    "eid=np.zeros((nsamples),dtype=np.int32)\n",
    "\n",
    "#iterate over files and write to hdf5-file\n",
    "for group in fgroups:\n",
    "    gfname=group[0]\n",
    "    gdf=group[1]\n",
    "    \n",
    "    #open file\n",
    "    f = h5.File(gfname,'r')\n",
    "    for row in gdf.iterrows():\n",
    "        event=f[row[1][\"id\"]]\n",
    "        arrid=row[0]\n",
    "        \n",
    "        #load data\n",
    "        #channel-0\n",
    "        clusPhi=event['clusPhi'].value\n",
    "        clusEta=event['clusEta'].value\n",
    "        clusE=event['clusE'].value\n",
    "        \n",
    "        \n",
    "        #bin:\n",
    "        x[arrid,0,:,:]=np.histogram2d(clusPhi,clusEta,\n",
    "                                        bins=(phi_bins, eta_bins),weights=clusE,\n",
    "                                        range=[phi_range,eta_range])[0]\n",
    "        x[arrid,0,:,:]*=row[1][\"clusE_norm\"]\n",
    "        \n",
    "        #channel-1\n",
    "        clusEM=event['clusEM'].value\n",
    "        #bin:\n",
    "        x[arrid,1,:,:]=np.histogram2d(clusPhi,clusEta,\n",
    "                                        bins=(phi_bins, eta_bins),weights=clusEM,\n",
    "                                        range=[phi_range,eta_range])[0]\n",
    "        x[arrid,1,:,:]*=row[1][\"clusEM_norm\"]\n",
    "        \n",
    "        #channel-2\n",
    "        trackPhi=event['trackPhi'].value\n",
    "        trackEta=event['trackEta'].value\n",
    "        #bin\n",
    "        x[arrid,2,:,:]=np.histogram2d(trackPhi,trackEta,\n",
    "                                        bins=(phi_bins, eta_bins),\n",
    "                                        range=[phi_range,eta_range])[0]\n",
    "        x[arrid,2,:,:]*=row[1][\"track_norm\"]\n",
    "        \n",
    "        #weights\n",
    "        w[arrid]=event['weight'].value*row[1][\"weight_norm\"]\n",
    "        nw[arrid]=event['weight'].value*row[1][\"normweight_norm\"]\n",
    "        \n",
    "        #label\n",
    "        y[arrid]=row[1][\"label\"]\n",
    "        \n",
    "        #psr\n",
    "        p[arrid]=int(event[\"passSR\"].value)\n",
    "        \n",
    "        #mGlue\n",
    "        mg[arrid]=row[1][\"mGlu\"]\n",
    "        \n",
    "        #mNeu\n",
    "        mn[arrid]=row[1][\"mNeu\"]\n",
    "        \n",
    "        #JZ\n",
    "        jz[arrid]=row[1][\"jz\"]\n",
    "        \n",
    "        #eid\n",
    "        eid[arrid]=int(row[1][\"id\"].split(\"event_\")[1])\n",
    "\n",
    "    f.close()\n",
    "\n",
    "#write out\n",
    "f = h5.File(outputfile,'w')\n",
    "f['data']=x\n",
    "f['label']=y\n",
    "f['weight']=w\n",
    "f['normweight']=nw\n",
    "f['psr']=p\n",
    "f['mg']=mg\n",
    "f['mn']=mn\n",
    "f['jz']=jz\n",
    "f['eid']=eid\n",
    "f.close()"
   ]
  },
  {
   "cell_type": "code",
   "execution_count": null,
   "metadata": {
    "collapsed": true
   },
   "outputs": [],
   "source": []
  }
 ],
 "metadata": {
  "anaconda-cloud": {},
  "kernelspec": {
   "display_name": "thorstendl",
   "language": "python",
   "name": "thorstendl"
  },
  "language_info": {
   "codemirror_mode": {
    "name": "ipython",
    "version": 2
   },
   "file_extension": ".py",
   "mimetype": "text/x-python",
   "name": "python",
   "nbconvert_exporter": "python",
   "pygments_lexer": "ipython2",
   "version": "2.7.12"
  }
 },
 "nbformat": 4,
 "nbformat_minor": 0
}
