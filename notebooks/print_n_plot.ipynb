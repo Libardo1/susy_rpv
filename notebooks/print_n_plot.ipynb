{
 "cells": [
  {
   "cell_type": "code",
   "execution_count": 1,
   "metadata": {
    "collapsed": false
   },
   "outputs": [],
   "source": [
    "import numpy as np\n",
    "import os\n",
    "import lasagne\n",
    "import time\n",
    "from nbfinder import NotebookFinder\n",
    "import sys\n",
    "sys.meta_path.append(NotebookFinder())\n",
    "from matplotlib import pyplot as plt\n",
    "%matplotlib inline\n",
    "from matplotlib import patches"
   ]
  },
  {
   "cell_type": "code",
   "execution_count": 2,
   "metadata": {
    "collapsed": false
   },
   "outputs": [],
   "source": [
    "def print_train_results(epoch, num_epochs, start_time, tr_err, tr_acc):\n",
    "    # Then we print the results for this epoch:\n",
    "    print \"Epoch {} of {} took {:.3f}s\".format(epoch + 1, num_epochs, time.time() - start_time)\n",
    "    print \"\\ttraining los:\\t\\t{:.4f}\".format(tr_err)\n",
    "    print \"\\ttraining acc:\\t\\t{:.4f} %\".format(tr_acc * 100)\n",
    "\n",
    "\n",
    "def print_val_results(val_err, val_acc):\n",
    "    print \"  validation loss:\\t\\t{:.6f}\".format(val_err)\n",
    "    print \"  validation accuracy:\\t\\t{:.2f} %\".format(val_acc * 100)\n",
    "\n",
    "def plot_learn_curve(train_metric, val_metric, metric_type, save_plots, path):\n",
    "        plt.figure(1 if metric_type == 'err' else 2)\n",
    "        plt.clf()\n",
    "        plt.title('Train/Val %s' %(metric_type))\n",
    "        plt.plot(train_metric, label='train ' + metric_type)\n",
    "        plt.plot(val_metric, label='val' + metric_type)\n",
    "        plt.legend( bbox_to_anchor=(0.25, -0.3), loc='center left', ncol=2)\n",
    "        if save_plots:\n",
    "            plt.savefig(\"%s/%s_learning_curve.png\"%(path, metric_type))\n",
    "            plt.show()\n",
    "        else:\n",
    "            plt.show()\n",
    "\n",
    "        \n",
    "    "
   ]
  },
  {
   "cell_type": "code",
   "execution_count": null,
   "metadata": {
    "collapsed": true
   },
   "outputs": [],
   "source": []
  }
 ],
 "metadata": {
  "kernelspec": {
   "display_name": "Python 2",
   "language": "python",
   "name": "python2"
  },
  "language_info": {
   "codemirror_mode": {
    "name": "ipython",
    "version": 2
   },
   "file_extension": ".py",
   "mimetype": "text/x-python",
   "name": "python",
   "nbconvert_exporter": "python",
   "pygments_lexer": "ipython2",
   "version": "2.7.12"
  }
 },
 "nbformat": 4,
 "nbformat_minor": 0
}
