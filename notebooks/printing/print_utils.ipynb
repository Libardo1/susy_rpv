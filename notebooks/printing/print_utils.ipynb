{
 "cells": [
  {
   "cell_type": "code",
   "execution_count": 1,
   "metadata": {
    "collapsed": false
   },
   "outputs": [
    {
     "name": "stderr",
     "output_type": "stream",
     "text": [
      "Using gpu device 1: TITAN X (Pascal) (CNMeM is disabled, cuDNN 5105)\n"
     ]
    }
   ],
   "source": [
    "from lasagne.layers import get_all_layers, count_params\n",
    "import numpy as np"
   ]
  },
  {
   "cell_type": "code",
   "execution_count": null,
   "metadata": {
    "collapsed": true
   },
   "outputs": [],
   "source": [
    "def print_network(networks, kwargs):\n",
    "    def _print_network(network):\n",
    "        kwargs['logger'].info(\"\\n\")\n",
    "        for layer in get_all_layers(network):\n",
    "            kwargs['logger'].info(str(layer) +' : ' + str(layer.output_shape))\n",
    "        kwargs['logger'].info(\"Total Parameters: \" + str(count_params(layer)))\n",
    "        kwargs['logger'].info(\"\\n\")\n",
    "    for net in networks.values():\n",
    "        _print_network(net)"
   ]
  },
  {
   "cell_type": "code",
   "execution_count": null,
   "metadata": {
    "collapsed": true
   },
   "outputs": [],
   "source": [
    "def print_results(kwargs, epoch, metrics):\n",
    "    if not kwargs[\"test\"]:\n",
    "        kwargs['logger'].info(\"Epoch {} of {} took {:.3f}s\".format(epoch + 1, kwargs['num_epochs'],\n",
    "                                                                  metrics[\"tr_time\"][-1]))\n",
    "        for typ in [\"tr\", \"val\"]:\n",
    "            if typ == \"val\":\n",
    "                kwargs['logger'].info(\"\\tValidation took {:.3f}s\".format(metrics[\"val_time\"][-1]))\n",
    "            for k,v in metrics.iteritems():\n",
    "                #print k,v\n",
    "                val = v[-1][0] if isinstance(v[-1], list) or isinstance(v[-1], np.ndarray)  else v[-1]\n",
    "                if typ in k[:4] and \"time\" not in k:\n",
    "                    if \"ams\" not in k and \"loss\" not in k:\n",
    "                        kwargs['logger'].info(\"\\t\\t\" + k + \":\\t\\t{:.4f} %\".format(val * 100))\n",
    "\n",
    "                    else:\n",
    "                        kwargs['logger'].info(\"\\t\\t\" + k + \":\\t\\t{:.4f}\".format(val))\n",
    "    else:\n",
    "            for k,v in metrics.iteritems():\n",
    "                print(k,v)\n",
    "        \n",
    "        "
   ]
  }
 ],
 "metadata": {
  "anaconda-cloud": {},
  "kernelspec": {
   "display_name": "Python [deeplearning]",
   "language": "python",
   "name": "Python [deeplearning]"
  },
  "language_info": {
   "codemirror_mode": {
    "name": "ipython",
    "version": 3
   },
   "file_extension": ".py",
   "mimetype": "text/x-python",
   "name": "python",
   "nbconvert_exporter": "python",
   "pygments_lexer": "ipython3",
   "version": "3.5.2"
  }
 },
 "nbformat": 4,
 "nbformat_minor": 2
}
