{
 "cells": [
  {
   "cell_type": "code",
   "execution_count": 1,
   "metadata": {
    "collapsed": false,
    "scrolled": true
   },
   "outputs": [
    {
     "name": "stdout",
     "output_type": "stream",
     "text": [
      "importing Jupyter notebook from helper_fxns.ipynb\n",
      "importing Jupyter notebook from print_n_plot.ipynb\n",
      "importing Jupyter notebook from build_network.ipynb\n",
      "importing Jupyter notebook from data_loader.ipynb\n"
     ]
    }
   ],
   "source": [
    "import numpy as np\n",
    "import lasagne\n",
    "import time\n",
    "from nbfinder import NotebookFinder\n",
    "import sys\n",
    "sys.meta_path.append(NotebookFinder())\n",
    "from matplotlib import pyplot as plt\n",
    "import json\n",
    "import pickle\n",
    "%matplotlib inline\n",
    "from matplotlib import patches\n",
    "from helper_fxns import early_stop\n",
    "from print_n_plot import print_train_results, plot_learn_curve, print_val_results\n",
    "from build_network import build_network\n",
    "from data_loader import load_data"
   ]
  },
  {
   "cell_type": "code",
   "execution_count": 2,
   "metadata": {
    "collapsed": false
   },
   "outputs": [],
   "source": [
    "def iterate_minibatches(inputs, targets, batchsize, shuffle=False):\n",
    "    assert len(inputs) == len(targets)\n",
    "    if shuffle:\n",
    "        indices = np.arange(len(inputs))\n",
    "        np.random.shuffle(indices)\n",
    "    if batchsize > inputs.shape[0]:\n",
    "        batchsize=inputs.shape[0]\n",
    "    for start_idx in range(0,len(inputs) - batchsize + 1, batchsize):\n",
    "        if shuffle:\n",
    "            excerpt = indices[start_idx: start_idx + batchsize]\n",
    "        else:\n",
    "            excerpt = slice(start_idx, start_idx + batchsize)\n",
    "        yield inputs[excerpt], targets[excerpt]\n",
    "\n",
    "def train_one_epoch(x,y,batchsize, train_fn, val_fn):\n",
    "\n",
    "    train_err = 0\n",
    "    train_acc = 0\n",
    "    train_batches = 0\n",
    "    start_time = time.time()\n",
    "    for batch in iterate_minibatches(x, y, batchsize, shuffle=True):\n",
    "        inputs, targets = batch\n",
    "        train_err += train_fn(inputs, targets)\n",
    "        _, acc = val_fn(inputs, targets)\n",
    "        train_acc += acc\n",
    "        train_batches += 1\n",
    "    return train_err, train_acc, train_batches\n",
    "\n",
    "def val_one_epoch(x,y,batchsize, val_fn):\n",
    "\n",
    "        val_err = 0\n",
    "        val_acc = 0\n",
    "        val_batches = 0\n",
    "        for batch in iterate_minibatches(x,y, batchsize, shuffle=False):\n",
    "            inputs, targets = batch\n",
    "\n",
    "            err, acc = val_fn(inputs, targets)\n",
    "            val_err += err\n",
    "            val_acc += acc\n",
    "            val_batches += 1\n",
    "        return val_err, val_acc, val_batches\n",
    "\n",
    "def do_one_epoch(epoch,num_epochs, x_train,y_train, x_val, y_val, batchsize, train_fn, val_fn,\n",
    "                 train_errs, train_accs, val_errs, val_accs):\n",
    "        start_time = time.time()\n",
    "        tr_err, tr_acc, tr_batches = train_one_epoch(x_train, y_train,\n",
    "                                                     batchsize=batchsize,\n",
    "                                                     train_fn=train_fn,\n",
    "                                                     val_fn=val_fn)\n",
    "                \n",
    "        train_errs.append(tr_err / tr_batches)\n",
    "        train_accs.append(tr_acc / tr_batches)\n",
    "        print_train_results(epoch, num_epochs, start_time, tr_err / tr_batches, tr_acc / tr_batches)\n",
    "        \n",
    "\n",
    "        val_err, val_acc, val_batches = val_one_epoch(x_val, y_val,\n",
    "                                                     batchsize=y_val.shape[0],\n",
    "                                                      val_fn=val_fn)\n",
    "        val_errs.append(val_err / val_batches)\n",
    "        val_accs.append(val_acc / val_batches)\n",
    "        print_val_results(val_err, val_acc / val_batches)\n",
    "        \n",
    "    \n",
    "\n",
    "def train(datasets, \n",
    "          network,\n",
    "          train_fn,\n",
    "          val_fn,\n",
    "          num_epochs, \n",
    "          save_weights=False, \n",
    "          save_plots=True, \n",
    "          save_path='./results', \n",
    "          batchsize=128, \n",
    "          load_path=None):\n",
    "    \n",
    "        \n",
    "    #todo add in detect\n",
    "    x_tr, y_tr,x_val, y_val, x_te, y_te = datasets\n",
    "\n",
    "    \n",
    "    if batchsize is None or x_tr.shape[0] < batchsize:\n",
    "        batchsize = x_tr.shape[0]\n",
    "\n",
    "\n",
    "    \n",
    "  \n",
    "    print \"Starting training...\" \n",
    "    \n",
    "\n",
    "    train_errs, train_accs, val_errs, val_accs = [], [], [], []\n",
    "    \n",
    "    for epoch in range(num_epochs):\n",
    "        do_one_epoch(epoch, num_epochs, x_tr, y_tr, x_val, y_val,\n",
    "                     batchsize, train_fn, val_fn, \n",
    "                     train_errs, train_accs, val_errs, val_accs)\n",
    "        \n",
    "\n",
    "        \n",
    "        if epoch % 10 == 0 and epoch != 0:\n",
    "            plot_learn_curve(train_errs, val_errs, metric_type='err', save_plots=save_plots,path=save_path)\n",
    "            plot_learn_curve(train_accs, val_accs, metric_type='acc', save_plots=save_plots,path=save_path)\n",
    "\n",
    "\n",
    "            \n",
    "    \n",
    "\n",
    "        if save_weights and epoch % 10 == 0:\n",
    "  \n",
    "            np.savez('weights.npz', *lasagne.layers.get_all_param_values(network))\n"
   ]
  },
  {
   "cell_type": "code",
   "execution_count": 3,
   "metadata": {
    "collapsed": false
   },
   "outputs": [
    {
     "name": "stdout",
     "output_type": "stream",
     "text": [
      "Opening /global/project/projectdirs/das/wbhimji/RPVSusyJetLearn/jj_DAOD_EXOT3.h5 in read-only mode\n",
      "Opening /global/project/projectdirs/das/wbhimji/RPVSusyJetLearn/DAOD_EXOT3.08548071._000001.pool.root.1.h5 in read-only mode\n"
     ]
    }
   ],
   "source": [
    "if __name__==\"__main__\":\n",
    "    datasets = load_data(num_events=50)\n",
    "\n",
    "\n",
    "    shape = list(datasets[0].shape)\n",
    "    shape.pop(0)\n",
    "    shape.insert(0,None)\n",
    "    shape=tuple(shape)"
   ]
  },
  {
   "cell_type": "code",
   "execution_count": 5,
   "metadata": {
    "collapsed": false
   },
   "outputs": [
    {
     "name": "stdout",
     "output_type": "stream",
     "text": [
      "Starting training...\n",
      "Epoch 1 of 11 took 4.350s\n",
      "\ttraining los:\t\t0.7710\n",
      "\ttraining acc:\t\t70.0000 %\n",
      "  validation loss:\t\t0.694567\n",
      "  validation accuracy:\t\t80.00 %\n"
     ]
    },
    {
     "data": {
      "image/png": "[encoded data removed]",
      "text/plain": [
       "<matplotlib.figure.Figure at 0x2b640850f7d0>"
      ]
     },
     "metadata": {},
     "output_type": "display_data"
    },
    {
     "data": {
      "image/png": "[encoded data removed]",
      "text/plain": [
       "<matplotlib.figure.Figure at 0x2b6408808210>"
      ]
     },
     "metadata": {},
     "output_type": "display_data"
    },
    {
     "name": "stdout",
     "output_type": "stream",
     "text": [
      "Epoch 2 of 11 took 4.147s\n",
      "\ttraining los:\t\t0.7637\n",
      "\ttraining acc:\t\t70.0000 %\n",
      "  validation loss:\t\t0.694442\n",
      "  validation accuracy:\t\t80.00 %\n",
      "Epoch 3 of 11 took 3.188s\n",
      "\ttraining los:\t\t0.7524\n",
      "\ttraining acc:\t\t73.3333 %\n",
      "  validation loss:\t\t0.694448\n",
      "  validation accuracy:\t\t70.00 %\n",
      "Epoch 4 of 11 took 3.195s\n",
      "\ttraining los:\t\t0.7450\n",
      "\ttraining acc:\t\t73.3333 %\n",
      "  validation loss:\t\t0.694783\n",
      "  validation accuracy:\t\t70.00 %\n",
      "Epoch 5 of 11 took 3.245s\n",
      "\ttraining los:\t\t0.7575\n",
      "\ttraining acc:\t\t73.3333 %\n",
      "  validation loss:\t\t0.695353\n",
      "  validation accuracy:\t\t70.00 %\n",
      "Epoch 6 of 11 took 3.395s\n",
      "\ttraining los:\t\t0.7386\n",
      "\ttraining acc:\t\t73.3333 %\n",
      "  validation loss:\t\t0.696259\n",
      "  validation accuracy:\t\t70.00 %\n",
      "Epoch 7 of 11 took 3.849s\n",
      "\ttraining los:\t\t0.7529\n",
      "\ttraining acc:\t\t73.3333 %\n",
      "  validation loss:\t\t0.696992\n",
      "  validation accuracy:\t\t70.00 %\n",
      "Epoch 8 of 11 took 3.101s\n",
      "\ttraining los:\t\t0.7648\n",
      "\ttraining acc:\t\t73.3333 %\n",
      "  validation loss:\t\t0.697841\n",
      "  validation accuracy:\t\t80.00 %\n",
      "Epoch 9 of 11 took 3.075s\n",
      "\ttraining los:\t\t0.7191\n",
      "\ttraining acc:\t\t80.0000 %\n",
      "  validation loss:\t\t0.699413\n",
      "  validation accuracy:\t\t70.00 %\n",
      "Epoch 10 of 11 took 2.929s\n",
      "\ttraining los:\t\t0.7399\n",
      "\ttraining acc:\t\t76.6667 %\n",
      "  validation loss:\t\t0.701152\n",
      "  validation accuracy:\t\t70.00 %\n",
      "Epoch 11 of 11 took 2.921s\n",
      "\ttraining los:\t\t0.7412\n",
      "\ttraining acc:\t\t76.6667 %\n",
      "  validation loss:\t\t0.702814\n",
      "  validation accuracy:\t\t60.00 %\n"
     ]
    },
    {
     "data": {
      "image/png": "[encoded data removed]",
      "text/plain": [
       "<matplotlib.figure.Figure at 0x2b6387f42690>"
      ]
     },
     "metadata": {},
     "output_type": "display_data"
    },
    {
     "data": {
      "image/png": "[encoded data removed]",
      "text/plain": [
       "<matplotlib.figure.Figure at 0x2b6408840b90>"
      ]
     },
     "metadata": {},
     "output_type": "display_data"
    }
   ],
   "source": [
    "if __name__==\"__main__\":\n",
    "    train_fn, val_fn, network = build_network(input_shape=shape)\n",
    "    train(datasets, \n",
    "          network,\n",
    "          train_fn,\n",
    "          val_fn,\n",
    "          num_epochs=11)"
   ]
  }
 ],
 "metadata": {
  "kernelspec": {
   "display_name": "deeplearning",
   "language": "python",
   "name": "deeplearning"
  },
  "language_info": {
   "codemirror_mode": {
    "name": "ipython",
    "version": 2
   },
   "file_extension": ".py",
   "mimetype": "text/x-python",
   "name": "python",
   "nbconvert_exporter": "python",
   "pygments_lexer": "ipython2",
   "version": "2.7.12"
  }
 },
 "nbformat": 4,
 "nbformat_minor": 0
}
